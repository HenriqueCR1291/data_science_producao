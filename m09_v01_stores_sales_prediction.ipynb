{
  "nbformat": 4,
  "nbformat_minor": 0,
  "metadata": {
    "colab": {
      "name": "m09_v01_stores_sales_prediction.ipynb",
      "provenance": [],
      "collapsed_sections": [
        "p-1UBHBI88IV",
        "HWXAW03x88IW",
        "RNzb3TE188IX",
        "zpMndeL688IY",
        "ldHnYXnq88IZ",
        "kTE0Z86-88Ia",
        "xLFBoXta88Ic",
        "vRjYmY3b88Id",
        "7vWtJQam88Id",
        "9pYdS9Q088Id",
        "dnqLtHds88Ie",
        "qXwpv6a288Ie",
        "GN_dsolH88If",
        "U814hujP88Ig",
        "Og2Bamd788Ih",
        "0BLS1Vlv88Ii",
        "O51ZKnXB88Ii",
        "mD2EEW7O88Ii",
        "XDzzU6eO88Ij",
        "Dy9bK2l288Ik",
        "6VVMeQs-88Ik",
        "0D5tEPL488Il",
        "sqyUwSG188Im",
        "Kkf5-U0v88Im",
        "gUdIZfGf88In",
        "sfQoR0Di88In",
        "GWGVQ7RW88Io",
        "ck9pKm1W88Io",
        "TCMh1Vlm88Ip",
        "BEW3MiDi88Ip",
        "6-L4VJ2288Iq",
        "SLff-OAx88Iq",
        "pkSXNOyN88Ir",
        "5-cnYu5688Ir",
        "b5yfqrdJ88Is",
        "ajCtNEgp88Is",
        "1omiq_qr88It",
        "N5QWXtYY88It",
        "cOoXUFFy88Iu",
        "gk7jEVFH88Iu",
        "hy_w2fG_88Iu",
        "cdehjqFW88Iv",
        "bDvQmVR088Iw",
        "GdmNUX8E88Iw",
        "aCTmRF__88Ix",
        "8v2wx9rP88Ix",
        "5LdUd-k188Iy",
        "Bj_WZNCP88Iz",
        "yOSPBH91gnDQ",
        "PMdu_WS588Iz",
        "tqetVXFRkQYr",
        "imaJoT9z88I0",
        "hwngl6pZqYoA",
        "v48AjCOt5HHs",
        "Qrxz-iIp-c6V",
        "kuY74Tkz-iJz"
      ],
      "toc_visible": true
    },
    "kernelspec": {
      "display_name": "Python 3",
      "language": "python",
      "name": "python3"
    },
    "language_info": {
      "codemirror_mode": {
        "name": "ipython",
        "version": 3
      },
      "file_extension": ".py",
      "mimetype": "text/x-python",
      "name": "python",
      "nbconvert_exporter": "python",
      "pygments_lexer": "ipython3",
      "version": "3.8.5"
    }
  },
  "cells": [
    {
      "cell_type": "markdown",
      "metadata": {
        "id": "uTGiCoKp88IF"
      },
      "source": [
        "# 0.0 Imports"
      ]
    },
    {
      "cell_type": "code",
      "metadata": {
        "colab": {
          "base_uri": "https://localhost:8080/"
        },
        "id": "w-_KjU3D-NgV",
        "outputId": "83f7968a-9460-4032-9ef4-97ce20030dbf"
      },
      "source": [
        "!pip install inflection\n",
        "!pip install boruta\n",
        "!pip install tabulate"
      ],
      "execution_count": 1,
      "outputs": [
        {
          "output_type": "stream",
          "text": [
            "Collecting inflection\n",
            "  Downloading https://files.pythonhosted.org/packages/59/91/aa6bde563e0085a02a435aa99b49ef75b0a4b062635e606dab23ce18d720/inflection-0.5.1-py2.py3-none-any.whl\n",
            "Installing collected packages: inflection\n",
            "Successfully installed inflection-0.5.1\n",
            "Collecting boruta\n",
            "\u001b[?25l  Downloading https://files.pythonhosted.org/packages/b2/11/583f4eac99d802c79af9217e1eff56027742a69e6c866b295cce6a5a8fc2/Boruta-0.3-py3-none-any.whl (56kB)\n",
            "\u001b[K     |████████████████████████████████| 61kB 3.3MB/s \n",
            "\u001b[?25hRequirement already satisfied: scipy>=0.17.0 in /usr/local/lib/python3.7/dist-packages (from boruta) (1.4.1)\n",
            "Requirement already satisfied: scikit-learn>=0.17.1 in /usr/local/lib/python3.7/dist-packages (from boruta) (0.22.2.post1)\n",
            "Requirement already satisfied: numpy>=1.10.4 in /usr/local/lib/python3.7/dist-packages (from boruta) (1.19.5)\n",
            "Requirement already satisfied: joblib>=0.11 in /usr/local/lib/python3.7/dist-packages (from scikit-learn>=0.17.1->boruta) (1.0.1)\n",
            "Installing collected packages: boruta\n",
            "Successfully installed boruta-0.3\n",
            "Requirement already satisfied: tabulate in /usr/local/lib/python3.7/dist-packages (0.8.9)\n"
          ],
          "name": "stdout"
        }
      ]
    },
    {
      "cell_type": "code",
      "metadata": {
        "id": "QO7EQmLR88IN"
      },
      "source": [
        "import inflection\n",
        "import math\n",
        "import matplotlib\n",
        "import pickle\n",
        "import random\n",
        "import warnings\n",
        "\n",
        "import matplotlib.pyplot   as plt\n",
        "import matplotlib.gridspec as gs\n",
        "import numpy               as np\n",
        "import pandas              as pd\n",
        "import seaborn             as sns\n",
        "import xgboost             as xgb\n",
        "\n",
        "from boruta                import BorutaPy\n",
        "from datetime              import datetime, timedelta, date\n",
        "from IPython.core.display  import HTML\n",
        "from IPython.display       import Image\n",
        "from scipy                 import stats as ss\n",
        "from sklearn.ensemble      import RandomForestRegressor\n",
        "from sklearn.linear_model  import LinearRegression,Lasso\n",
        "from sklearn.metrics       import mean_absolute_error, mean_squared_error\n",
        "from sklearn.preprocessing import RobustScaler, MinMaxScaler, LabelEncoder\n",
        "from tabulate              import tabulate"
      ],
      "execution_count": 2,
      "outputs": []
    },
    {
      "cell_type": "markdown",
      "metadata": {
        "id": "qLSNsd7f88IP"
      },
      "source": [
        "## 0.1 Helper functions"
      ]
    },
    {
      "cell_type": "code",
      "metadata": {
        "id": "xWFRMXQu88IP"
      },
      "source": [
        "def cramer_v (a,b):\n",
        "    cm = pd.crosstab(a, b).values\n",
        "    \n",
        "    n = cm.sum()\n",
        "    k,r = cm.shape\n",
        "    \n",
        "    chi2 = ss.chi2_contingency(cm)[0]\n",
        "    chi2corr = max(0, chi2 - (k-1)*(r-1)/(n-1))\n",
        "    \n",
        "    kcorr = k - (k-1)**2/(n-1)\n",
        "    rcorr = r - (r-1)**2/(n-1)\n",
        "    \n",
        "    return np.sqrt((chi2corr/n)/(min(kcorr-1,rcorr-1)))\n",
        "\n",
        "def mean_absolute_percentage_error (y,yhat):\n",
        "    return np.mean(np.abs((y-yhat)/y))\n",
        "\n",
        "def ml_error (model_name, y, yhat):\n",
        "    mae = mean_absolute_error(y,yhat)\n",
        "    mape = mean_absolute_percentage_error(y,yhat)\n",
        "    rmse = np.sqrt(mean_squared_error(y,yhat))\n",
        "    \n",
        "    return pd.DataFrame({'Model Name': model_name,\n",
        "                        'MAE': mae,\n",
        "                        'MAPE': mape,\n",
        "                        'RMSE': rmse}, index=[0])\n",
        "\n",
        "def cross_validation(x_training, kfold, model_name, model, verbose=False):\n",
        "    mae_list = []\n",
        "    mape_list = []\n",
        "    rmse_list = []\n",
        "    for k in reversed(range(1,kfold+1)):\n",
        "      if verbose:\n",
        "        print('\\nKFold Number: {}'.format(k))\n",
        "            \n",
        "      #start and end date for validation\n",
        "      validation_start_date = x_training['date'].max() - timedelta(days=k*6*7)\n",
        "      validation_end_date = x_training['date'].max() - timedelta(days=(k-1)*6*7)\n",
        "    \n",
        "      #filtering dataset\n",
        "      training = x_training[x_training['date'] < validation_start_date]\n",
        "      validation = x_training[(x_training['date'] >= validation_start_date) & (x_training['date'] <= validation_end_date)]\n",
        "    \n",
        "      #training and validation dataset\n",
        "      #training\n",
        "      xtraining = training.drop(['date','sales'],axis=1)\n",
        "      ytraining = training['sales']\n",
        "    \n",
        "      #validation\n",
        "      xvalidation = validation.drop(['date','sales'],axis=1)\n",
        "      yvalidation = validation['sales']\n",
        "    \n",
        "      #model\n",
        "      m = model.fit(xtraining, ytraining)\n",
        "\n",
        "      #prediction\n",
        "      yhat = m.predict(xvalidation)\n",
        "    \n",
        "      #performance\n",
        "      m_result = ml_error(model_name, np.expm1(yvalidation), np.expm1(yhat))\n",
        "    \n",
        "      #store performance of each kfold iteration\n",
        "      mae_list.append(m_result['MAE'])\n",
        "      mape_list.append(m_result['MAPE'])\n",
        "      rmse_list.append(m_result['RMSE'])\n",
        "    \n",
        "    return pd.DataFrame({'MAE CV': [np.round(np.mean(mae_list),2).astype(str) + ' +/- ' + np.round(np.std(mae_list),2).astype(str)],\n",
        "                         'MAPE CV': [np.round(np.mean(mape_list),2).astype(str) + ' +/- ' + np.round(np.std(mape_list),2).astype(str)],\n",
        "                         'RMSE CV': [np.round(np.mean(rmse_list),2).astype(str) + ' +/- ' + np.round(np.std(rmse_list),2).astype(str)]\n",
        "                         })"
      ],
      "execution_count": 3,
      "outputs": []
    },
    {
      "cell_type": "markdown",
      "metadata": {
        "id": "VSPVsOUk88IQ"
      },
      "source": [
        "## 0.2 Loading Data"
      ]
    },
    {
      "cell_type": "code",
      "metadata": {
        "id": "8M1X9DaH88IR"
      },
      "source": [
        "df_store_raw = pd.read_csv('store.csv', low_memory=False)\n",
        "df_sales_raw = pd.read_csv('train.csv', low_memory=False)\n",
        "\n",
        "#merge\n",
        "df_raw = pd.merge(df_store_raw,df_sales_raw,how='left',on='Store')"
      ],
      "execution_count": 4,
      "outputs": []
    },
    {
      "cell_type": "markdown",
      "metadata": {
        "id": "t8t2uqO788IR"
      },
      "source": [
        "# 1.0 Descrição dos Dados"
      ]
    },
    {
      "cell_type": "code",
      "metadata": {
        "id": "aeZRQBVb88IS"
      },
      "source": [
        "df1 = df_raw.copy()"
      ],
      "execution_count": 5,
      "outputs": []
    },
    {
      "cell_type": "markdown",
      "metadata": {
        "id": "Bsj1ApcL88IS"
      },
      "source": [
        "## 1.1 Rename Columns"
      ]
    },
    {
      "cell_type": "code",
      "metadata": {
        "id": "nQIAAXew88IS"
      },
      "source": [
        "cols_old = ['Store', 'StoreType', 'Assortment', 'CompetitionDistance',\n",
        "       'CompetitionOpenSinceMonth', 'CompetitionOpenSinceYear', 'Promo2',\n",
        "       'Promo2SinceWeek', 'Promo2SinceYear', 'PromoInterval', 'DayOfWeek',\n",
        "       'Date', 'Sales', 'Customers', 'Open', 'Promo', 'StateHoliday',\n",
        "       'SchoolHoliday']\n",
        "\n",
        "sneakcase = lambda x: inflection.underscore (x)\n",
        "\n",
        "cols_new = list(map(sneakcase,cols_old))\n",
        "\n",
        "df1.columns = cols_new"
      ],
      "execution_count": 6,
      "outputs": []
    },
    {
      "cell_type": "markdown",
      "metadata": {
        "id": "nKF5KXn088IT"
      },
      "source": [
        "## 1.2 Data Dimensions"
      ]
    },
    {
      "cell_type": "code",
      "metadata": {
        "colab": {
          "base_uri": "https://localhost:8080/"
        },
        "id": "ulfa-5n488IT",
        "outputId": "80449978-7380-4751-b41e-bce5f7cdd57c"
      },
      "source": [
        "print('Number of columns:', format(df1.shape[1]))\n",
        "print('Number of rows:', format(df1.shape[0]))"
      ],
      "execution_count": 7,
      "outputs": [
        {
          "output_type": "stream",
          "text": [
            "Number of columns: 18\n",
            "Number of rows: 1017209\n"
          ],
          "name": "stdout"
        }
      ]
    },
    {
      "cell_type": "markdown",
      "metadata": {
        "id": "nhoCp74a88IV"
      },
      "source": [
        "## 1.3 Data types"
      ]
    },
    {
      "cell_type": "code",
      "metadata": {
        "colab": {
          "base_uri": "https://localhost:8080/"
        },
        "id": "9Iq4qqtK88IV",
        "outputId": "1f4b0db0-b020-4fa9-c0c4-b01ddf67cb8f"
      },
      "source": [
        "df1['date'] = pd.to_datetime(df1['date'])\n",
        "df1.dtypes"
      ],
      "execution_count": 8,
      "outputs": [
        {
          "output_type": "execute_result",
          "data": {
            "text/plain": [
              "store                                    int64\n",
              "store_type                              object\n",
              "assortment                              object\n",
              "competition_distance                   float64\n",
              "competition_open_since_month           float64\n",
              "competition_open_since_year            float64\n",
              "promo2                                   int64\n",
              "promo2_since_week                      float64\n",
              "promo2_since_year                      float64\n",
              "promo_interval                          object\n",
              "day_of_week                              int64\n",
              "date                            datetime64[ns]\n",
              "sales                                    int64\n",
              "customers                                int64\n",
              "open                                     int64\n",
              "promo                                    int64\n",
              "state_holiday                           object\n",
              "school_holiday                           int64\n",
              "dtype: object"
            ]
          },
          "metadata": {
            "tags": []
          },
          "execution_count": 8
        }
      ]
    },
    {
      "cell_type": "markdown",
      "metadata": {
        "id": "p-1UBHBI88IV"
      },
      "source": [
        "## 1.4 Check NA"
      ]
    },
    {
      "cell_type": "code",
      "metadata": {
        "colab": {
          "base_uri": "https://localhost:8080/"
        },
        "id": "2yTq2uTX88IW",
        "outputId": "d854d37b-9319-4a6d-c68c-19d5def8ad79"
      },
      "source": [
        "df1.isna().sum()"
      ],
      "execution_count": 9,
      "outputs": [
        {
          "output_type": "execute_result",
          "data": {
            "text/plain": [
              "store                                0\n",
              "store_type                           0\n",
              "assortment                           0\n",
              "competition_distance              2642\n",
              "competition_open_since_month    323348\n",
              "competition_open_since_year     323348\n",
              "promo2                               0\n",
              "promo2_since_week               508031\n",
              "promo2_since_year               508031\n",
              "promo_interval                  508031\n",
              "day_of_week                          0\n",
              "date                                 0\n",
              "sales                                0\n",
              "customers                            0\n",
              "open                                 0\n",
              "promo                                0\n",
              "state_holiday                        0\n",
              "school_holiday                       0\n",
              "dtype: int64"
            ]
          },
          "metadata": {
            "tags": []
          },
          "execution_count": 9
        }
      ]
    },
    {
      "cell_type": "markdown",
      "metadata": {
        "id": "HWXAW03x88IW"
      },
      "source": [
        "## 1.5 Fillout NA"
      ]
    },
    {
      "cell_type": "code",
      "metadata": {
        "id": "tbDjcUwN88IW"
      },
      "source": [
        "#competition_distance\n",
        "df1['competition_distance'] = df1['competition_distance'].apply(lambda x: 200000.0 if math.isnan(x) else x)\n",
        "\n",
        "#competition_open_since_month\n",
        "df1['competition_open_since_month'] = df1.apply(lambda x: x['date'].month if math.isnan (x['competition_open_since_month']) else x['competition_open_since_month'], axis=1)\n",
        "\n",
        "#competition_open_since_year\n",
        "df1['competition_open_since_year'] = df1.apply(lambda x: x['date'].year if math.isnan (x['competition_open_since_year']) else x['competition_open_since_year'], axis=1)\n",
        "\n",
        "#promo2_since_week\n",
        "df1['promo2_since_week'] = df1.apply(lambda x: x['date'].week if math.isnan (x['promo2_since_week']) else x['promo2_since_week'],axis=1)\n",
        "\n",
        "#promo2_since_year\n",
        "df1['promo2_since_year'] = df1.apply(lambda x: x['date'].year if math.isnan (x['promo2_since_year']) else x['promo2_since_year'],axis=1)\n",
        "\n",
        "#promo_interval\n",
        "month_map = {1: 'Jan', 2:'Fev', 3:'Mar', 4:'Abr', 5:'May', 6:'Jun', 7:'Jul', 8:'Ago', 9:'Set', 10:'Oct', 11:'Nov', 12:'Dec'}\n",
        "\n",
        "df1['promo_interval'].fillna(0,inplace=True)\n",
        "\n",
        "df1['month_map'] = df1['date'].dt.month.map(month_map)\n",
        "\n",
        "df1['is_promo'] = df1[['promo_interval','month_map']].apply(lambda x: 0 if x['promo_interval'] == 0 else 1 if x['month_map'] in x['promo_interval'].split(',') else 0, axis=1)"
      ],
      "execution_count": 10,
      "outputs": []
    },
    {
      "cell_type": "markdown",
      "metadata": {
        "id": "RNzb3TE188IX"
      },
      "source": [
        "## 1.6 Change Types"
      ]
    },
    {
      "cell_type": "code",
      "metadata": {
        "id": "JB0MCg2r88IY"
      },
      "source": [
        "df1['competition_open_since_month'] = df1['competition_open_since_month'].astype('int64')\n",
        "df1['competition_open_since_year'] = df1['competition_open_since_year'].astype('int64')\n",
        "\n",
        "df1['promo2_since_week'] = df1['promo2_since_week'].astype('int64')\n",
        "df1['promo2_since_year'] = df1['promo2_since_year'].astype('int64')"
      ],
      "execution_count": 11,
      "outputs": []
    },
    {
      "cell_type": "markdown",
      "metadata": {
        "id": "zpMndeL688IY"
      },
      "source": [
        "## 1.7 Descriptive Statistical"
      ]
    },
    {
      "cell_type": "code",
      "metadata": {
        "id": "FQfhmx1188IY"
      },
      "source": [
        "num_attributes = df1.select_dtypes(include=['int64','float64'])\n",
        "cat_attributes = df1.select_dtypes(exclude=['int64','float64','datetime64[ns]'])"
      ],
      "execution_count": 12,
      "outputs": []
    },
    {
      "cell_type": "markdown",
      "metadata": {
        "id": "ldHnYXnq88IZ"
      },
      "source": [
        "### 1.7.1 Numerical Attributes"
      ]
    },
    {
      "cell_type": "code",
      "metadata": {
        "colab": {
          "base_uri": "https://localhost:8080/",
          "height": 0
        },
        "id": "znFSD-We88IZ",
        "outputId": "4a5f2634-a41b-4f4a-8ced-9cc7bb8c0e21"
      },
      "source": [
        "#central tendency - mean, median\n",
        "ct1 = pd.DataFrame(num_attributes.apply(np.mean)).T\n",
        "ct2 = pd.DataFrame(num_attributes.apply(np.median)).T\n",
        "\n",
        "#Dispersion - std, min, max, range, skew, kurtosis\n",
        "d1 = pd.DataFrame(num_attributes.apply(min)).T\n",
        "d2 = pd.DataFrame(num_attributes.apply(max)).T\n",
        "d3 = pd.DataFrame(num_attributes.apply(lambda x: x.max() - x.min())).T\n",
        "d4 = pd.DataFrame(num_attributes.apply(np.std)).T\n",
        "d5 = pd.DataFrame(num_attributes.apply(lambda x: x.skew())).T\n",
        "d6 = pd.DataFrame(num_attributes.apply(lambda x: x.kurtosis())).T\n",
        "\n",
        "#concatenate\n",
        "m = pd.concat([d1,d2,d3,ct1,ct2,d4,d5,d6]).T.reset_index()\n",
        "m.columns = ['attributes','min','max','range','mean','median','std','skew','kurtosis']\n",
        "m"
      ],
      "execution_count": 13,
      "outputs": [
        {
          "output_type": "execute_result",
          "data": {
            "text/html": [
              "<div>\n",
              "<style scoped>\n",
              "    .dataframe tbody tr th:only-of-type {\n",
              "        vertical-align: middle;\n",
              "    }\n",
              "\n",
              "    .dataframe tbody tr th {\n",
              "        vertical-align: top;\n",
              "    }\n",
              "\n",
              "    .dataframe thead th {\n",
              "        text-align: right;\n",
              "    }\n",
              "</style>\n",
              "<table border=\"1\" class=\"dataframe\">\n",
              "  <thead>\n",
              "    <tr style=\"text-align: right;\">\n",
              "      <th></th>\n",
              "      <th>attributes</th>\n",
              "      <th>min</th>\n",
              "      <th>max</th>\n",
              "      <th>range</th>\n",
              "      <th>mean</th>\n",
              "      <th>median</th>\n",
              "      <th>std</th>\n",
              "      <th>skew</th>\n",
              "      <th>kurtosis</th>\n",
              "    </tr>\n",
              "  </thead>\n",
              "  <tbody>\n",
              "    <tr>\n",
              "      <th>0</th>\n",
              "      <td>store</td>\n",
              "      <td>1.0</td>\n",
              "      <td>1115.0</td>\n",
              "      <td>1114.0</td>\n",
              "      <td>558.429727</td>\n",
              "      <td>558.0</td>\n",
              "      <td>321.908493</td>\n",
              "      <td>-0.000955</td>\n",
              "      <td>-1.200524</td>\n",
              "    </tr>\n",
              "    <tr>\n",
              "      <th>1</th>\n",
              "      <td>competition_distance</td>\n",
              "      <td>20.0</td>\n",
              "      <td>200000.0</td>\n",
              "      <td>199980.0</td>\n",
              "      <td>5935.442677</td>\n",
              "      <td>2330.0</td>\n",
              "      <td>12547.646829</td>\n",
              "      <td>10.242344</td>\n",
              "      <td>147.789712</td>\n",
              "    </tr>\n",
              "    <tr>\n",
              "      <th>2</th>\n",
              "      <td>competition_open_since_month</td>\n",
              "      <td>1.0</td>\n",
              "      <td>12.0</td>\n",
              "      <td>11.0</td>\n",
              "      <td>6.786849</td>\n",
              "      <td>7.0</td>\n",
              "      <td>3.311085</td>\n",
              "      <td>-0.042076</td>\n",
              "      <td>-1.232607</td>\n",
              "    </tr>\n",
              "    <tr>\n",
              "      <th>3</th>\n",
              "      <td>competition_open_since_year</td>\n",
              "      <td>1900.0</td>\n",
              "      <td>2015.0</td>\n",
              "      <td>115.0</td>\n",
              "      <td>2010.324840</td>\n",
              "      <td>2012.0</td>\n",
              "      <td>5.515591</td>\n",
              "      <td>-7.235657</td>\n",
              "      <td>124.071304</td>\n",
              "    </tr>\n",
              "    <tr>\n",
              "      <th>4</th>\n",
              "      <td>promo2</td>\n",
              "      <td>0.0</td>\n",
              "      <td>1.0</td>\n",
              "      <td>1.0</td>\n",
              "      <td>0.500564</td>\n",
              "      <td>1.0</td>\n",
              "      <td>0.500000</td>\n",
              "      <td>-0.002255</td>\n",
              "      <td>-1.999999</td>\n",
              "    </tr>\n",
              "    <tr>\n",
              "      <th>5</th>\n",
              "      <td>promo2_since_week</td>\n",
              "      <td>1.0</td>\n",
              "      <td>52.0</td>\n",
              "      <td>51.0</td>\n",
              "      <td>23.619033</td>\n",
              "      <td>22.0</td>\n",
              "      <td>14.310057</td>\n",
              "      <td>0.178723</td>\n",
              "      <td>-1.184046</td>\n",
              "    </tr>\n",
              "    <tr>\n",
              "      <th>6</th>\n",
              "      <td>promo2_since_year</td>\n",
              "      <td>2009.0</td>\n",
              "      <td>2015.0</td>\n",
              "      <td>6.0</td>\n",
              "      <td>2012.793297</td>\n",
              "      <td>2013.0</td>\n",
              "      <td>1.662657</td>\n",
              "      <td>-0.784436</td>\n",
              "      <td>-0.210075</td>\n",
              "    </tr>\n",
              "    <tr>\n",
              "      <th>7</th>\n",
              "      <td>day_of_week</td>\n",
              "      <td>1.0</td>\n",
              "      <td>7.0</td>\n",
              "      <td>6.0</td>\n",
              "      <td>3.998341</td>\n",
              "      <td>4.0</td>\n",
              "      <td>1.997390</td>\n",
              "      <td>0.001593</td>\n",
              "      <td>-1.246873</td>\n",
              "    </tr>\n",
              "    <tr>\n",
              "      <th>8</th>\n",
              "      <td>sales</td>\n",
              "      <td>0.0</td>\n",
              "      <td>41551.0</td>\n",
              "      <td>41551.0</td>\n",
              "      <td>5773.818972</td>\n",
              "      <td>5744.0</td>\n",
              "      <td>3849.924283</td>\n",
              "      <td>0.641460</td>\n",
              "      <td>1.778375</td>\n",
              "    </tr>\n",
              "    <tr>\n",
              "      <th>9</th>\n",
              "      <td>customers</td>\n",
              "      <td>0.0</td>\n",
              "      <td>7388.0</td>\n",
              "      <td>7388.0</td>\n",
              "      <td>633.145946</td>\n",
              "      <td>609.0</td>\n",
              "      <td>464.411506</td>\n",
              "      <td>1.598650</td>\n",
              "      <td>7.091773</td>\n",
              "    </tr>\n",
              "    <tr>\n",
              "      <th>10</th>\n",
              "      <td>open</td>\n",
              "      <td>0.0</td>\n",
              "      <td>1.0</td>\n",
              "      <td>1.0</td>\n",
              "      <td>0.830107</td>\n",
              "      <td>1.0</td>\n",
              "      <td>0.375539</td>\n",
              "      <td>-1.758045</td>\n",
              "      <td>1.090723</td>\n",
              "    </tr>\n",
              "    <tr>\n",
              "      <th>11</th>\n",
              "      <td>promo</td>\n",
              "      <td>0.0</td>\n",
              "      <td>1.0</td>\n",
              "      <td>1.0</td>\n",
              "      <td>0.381515</td>\n",
              "      <td>0.0</td>\n",
              "      <td>0.485758</td>\n",
              "      <td>0.487838</td>\n",
              "      <td>-1.762018</td>\n",
              "    </tr>\n",
              "    <tr>\n",
              "      <th>12</th>\n",
              "      <td>school_holiday</td>\n",
              "      <td>0.0</td>\n",
              "      <td>1.0</td>\n",
              "      <td>1.0</td>\n",
              "      <td>0.178647</td>\n",
              "      <td>0.0</td>\n",
              "      <td>0.383056</td>\n",
              "      <td>1.677842</td>\n",
              "      <td>0.815154</td>\n",
              "    </tr>\n",
              "    <tr>\n",
              "      <th>13</th>\n",
              "      <td>is_promo</td>\n",
              "      <td>0.0</td>\n",
              "      <td>1.0</td>\n",
              "      <td>1.0</td>\n",
              "      <td>0.118307</td>\n",
              "      <td>0.0</td>\n",
              "      <td>0.322971</td>\n",
              "      <td>2.363637</td>\n",
              "      <td>3.586787</td>\n",
              "    </tr>\n",
              "  </tbody>\n",
              "</table>\n",
              "</div>"
            ],
            "text/plain": [
              "                      attributes     min  ...       skew    kurtosis\n",
              "0                          store     1.0  ...  -0.000955   -1.200524\n",
              "1           competition_distance    20.0  ...  10.242344  147.789712\n",
              "2   competition_open_since_month     1.0  ...  -0.042076   -1.232607\n",
              "3    competition_open_since_year  1900.0  ...  -7.235657  124.071304\n",
              "4                         promo2     0.0  ...  -0.002255   -1.999999\n",
              "5              promo2_since_week     1.0  ...   0.178723   -1.184046\n",
              "6              promo2_since_year  2009.0  ...  -0.784436   -0.210075\n",
              "7                    day_of_week     1.0  ...   0.001593   -1.246873\n",
              "8                          sales     0.0  ...   0.641460    1.778375\n",
              "9                      customers     0.0  ...   1.598650    7.091773\n",
              "10                          open     0.0  ...  -1.758045    1.090723\n",
              "11                         promo     0.0  ...   0.487838   -1.762018\n",
              "12                school_holiday     0.0  ...   1.677842    0.815154\n",
              "13                      is_promo     0.0  ...   2.363637    3.586787\n",
              "\n",
              "[14 rows x 9 columns]"
            ]
          },
          "metadata": {
            "tags": []
          },
          "execution_count": 13
        }
      ]
    },
    {
      "cell_type": "markdown",
      "metadata": {
        "id": "kTE0Z86-88Ia"
      },
      "source": [
        "### 1.7.2 Categorical Attributes"
      ]
    },
    {
      "cell_type": "code",
      "metadata": {
        "colab": {
          "base_uri": "https://localhost:8080/"
        },
        "id": "ihEj_CpS88Ia",
        "outputId": "ce93369a-fe9a-4ddf-ab74-4e65ed4bfae7"
      },
      "source": [
        "cat_attributes.apply(lambda x: x.unique().shape[0])"
      ],
      "execution_count": 14,
      "outputs": [
        {
          "output_type": "execute_result",
          "data": {
            "text/plain": [
              "store_type         4\n",
              "assortment         3\n",
              "promo_interval     4\n",
              "state_holiday      4\n",
              "month_map         12\n",
              "dtype: int64"
            ]
          },
          "metadata": {
            "tags": []
          },
          "execution_count": 14
        }
      ]
    },
    {
      "cell_type": "code",
      "metadata": {
        "colab": {
          "base_uri": "https://localhost:8080/",
          "height": 0
        },
        "id": "mOLCfuGj88Ia",
        "outputId": "e8652dcf-60c0-40d9-8e57-331a2c26ebb7"
      },
      "source": [
        "aux1 = df1[(df1['state_holiday'] != '0') & (df1['sales'] > 0)]\n",
        "\n",
        "#plt.subplot(1,3,1)\n",
        "sns.boxplot(x='state_holiday', y='sales', data=aux1)"
      ],
      "execution_count": 15,
      "outputs": [
        {
          "output_type": "execute_result",
          "data": {
            "text/plain": [
              "<matplotlib.axes._subplots.AxesSubplot at 0x7fbac3b52290>"
            ]
          },
          "metadata": {
            "tags": []
          },
          "execution_count": 15
        },
        {
          "output_type": "display_data",
          "data": {
            "image/png": "[encoded data removed]",
            "text/plain": [
              "<Figure size 432x288 with 1 Axes>"
            ]
          },
          "metadata": {
            "tags": [],
            "needs_background": "light"
          }
        }
      ]
    },
    {
      "cell_type": "code",
      "metadata": {
        "colab": {
          "base_uri": "https://localhost:8080/",
          "height": 0
        },
        "id": "-VvsWpb788Ib",
        "outputId": "3a2755a4-7e8a-4f73-9191-25478b726c0e"
      },
      "source": [
        "sns.boxplot(x='store_type', y='sales', data=aux1)"
      ],
      "execution_count": 16,
      "outputs": [
        {
          "output_type": "execute_result",
          "data": {
            "text/plain": [
              "<matplotlib.axes._subplots.AxesSubplot at 0x7fbaaf07d950>"
            ]
          },
          "metadata": {
            "tags": []
          },
          "execution_count": 16
        },
        {
          "output_type": "display_data",
          "data": {
            "image/png": "[encoded data removed]",
            "text/plain": [
              "<Figure size 432x288 with 1 Axes>"
            ]
          },
          "metadata": {
            "tags": [],
            "needs_background": "light"
          }
        }
      ]
    },
    {
      "cell_type": "code",
      "metadata": {
        "colab": {
          "base_uri": "https://localhost:8080/",
          "height": 0
        },
        "id": "NqA_RVkr88Ib",
        "outputId": "57f2b2b4-845b-4cd0-e6a6-4cbf8bd56d0d"
      },
      "source": [
        "sns.boxplot(x='assortment', y='sales', data=aux1)"
      ],
      "execution_count": 17,
      "outputs": [
        {
          "output_type": "execute_result",
          "data": {
            "text/plain": [
              "<matplotlib.axes._subplots.AxesSubplot at 0x7fbac4bca8d0>"
            ]
          },
          "metadata": {
            "tags": []
          },
          "execution_count": 17
        },
        {
          "output_type": "display_data",
          "data": {
            "image/png": "[encoded data removed]",
            "text/plain": [
              "<Figure size 432x288 with 1 Axes>"
            ]
          },
          "metadata": {
            "tags": [],
            "needs_background": "light"
          }
        }
      ]
    },
    {
      "cell_type": "markdown",
      "metadata": {
        "id": "ZJvUn0k188Ic"
      },
      "source": [
        "# 2.0 Feature Engineering"
      ]
    },
    {
      "cell_type": "code",
      "metadata": {
        "id": "4au2Kw8B88Ic"
      },
      "source": [
        "df2 = df1.copy()"
      ],
      "execution_count": 18,
      "outputs": []
    },
    {
      "cell_type": "markdown",
      "metadata": {
        "id": "xLFBoXta88Ic"
      },
      "source": [
        "## 2.1 Mind Map Hypothesis"
      ]
    },
    {
      "cell_type": "code",
      "metadata": {
        "colab": {
          "base_uri": "https://localhost:8080/",
          "height": 0
        },
        "id": "z1myPIsA88Ic",
        "outputId": "53b3f8fa-fc8a-41b1-ee04-d59fbd71eac3"
      },
      "source": [
        "Image('img\\MindMapHypothesis.png')\n"
      ],
      "execution_count": 19,
      "outputs": [
        {
          "output_type": "execute_result",
          "data": {
            "image/png": "img\\MindMapHypothesis.png",
            "text/plain": [
              "<IPython.core.display.Image object>"
            ]
          },
          "metadata": {
            "tags": []
          },
          "execution_count": 19
        }
      ]
    },
    {
      "cell_type": "markdown",
      "metadata": {
        "id": "vRjYmY3b88Id"
      },
      "source": [
        "## 2.2 Hypothesis Creation"
      ]
    },
    {
      "cell_type": "markdown",
      "metadata": {
        "id": "7vWtJQam88Id"
      },
      "source": [
        "### 2.1.1 Store Hypothesis "
      ]
    },
    {
      "cell_type": "markdown",
      "metadata": {
        "id": "ctvXckhg88Id"
      },
      "source": [
        "**1.** Lojas com maior número de funcionários deveriam vender mais.\n",
        "\n",
        "**2.** Lojas com maior capacidade de estoque deveriam vender mais.\n",
        "\n",
        "**3.** Lojas com maior porte deveriam vender mais.\n",
        "\n",
        "**4.** Lojas com maior sortimento deveriam vender mais.\n",
        "\n",
        "**5.** Lojas com mais competidores deveriam vender menos.\n",
        "\n",
        "**6.** Lojas com competidores à mais tempo deveriam vender mais."
      ]
    },
    {
      "cell_type": "markdown",
      "metadata": {
        "id": "9pYdS9Q088Id"
      },
      "source": [
        "### 2.1.2 Product Hypothesis"
      ]
    },
    {
      "cell_type": "markdown",
      "metadata": {
        "id": "rzlDeA2c88Id"
      },
      "source": [
        "**1.** Lojas que investem mais em marketing deveriam vender mais.\n",
        "\n",
        "**2.** Lojas com maior exposição do produto deveriam vender mais.\n",
        "\n",
        "**3.** Lojas com produtos com preço menor deveriam vender mais.\n",
        "\n",
        "**4.** Lojas com descontos maiores deveriam vender mais.\n",
        "\n",
        "**5.** Lojas com promoções ativas por mais tempo deveriam vender mais.\n",
        "\n",
        "**6.** Lojas com promoções mais longas deveriam vender mais.\n",
        "\n",
        "**7.** Lojas com promoções consecutivas deveriam vender mais."
      ]
    },
    {
      "cell_type": "markdown",
      "metadata": {
        "id": "dnqLtHds88Ie"
      },
      "source": [
        "### 2.1.3 Time Hypothesis"
      ]
    },
    {
      "cell_type": "markdown",
      "metadata": {
        "id": "OxJnYQDY88Ie"
      },
      "source": [
        "**1.** Lojas abertas durante o Natal deveriam vender mais.\n",
        "\n",
        "**2.** Lojas deveriam vender mais ao longo do ano.\n",
        "\n",
        "**3.** Lojas deveriam vender mais no segundo semestre do ano.\n",
        "\n",
        "**4.** Lojas deveriam vender mais depois do dia 10 de cada mês.\n",
        "\n",
        "**5.** Lojas deveriam vender menos aos finais de semana.\n",
        "\n",
        "**6.** Lojas deveriam vender menos durante os feriados escolares."
      ]
    },
    {
      "cell_type": "markdown",
      "metadata": {
        "id": "qXwpv6a288Ie"
      },
      "source": [
        "## 2.2 Final Hypothesis"
      ]
    },
    {
      "cell_type": "markdown",
      "metadata": {
        "id": "Fz9tY8uU88Ie"
      },
      "source": [
        "**1.** Lojas com maior sortimento deveriam vender mais.\n",
        "\n",
        "**2.** Lojas com mais competidores deveriam vender menos.\n",
        "\n",
        "**3.** Lojas com competidores à mais tempo deveriam vender mais.\n",
        "\n",
        "**4.** Lojas com promoções ativas por mais tempo deveriam vender mais.\n",
        "\n",
        "**5.** Lojas com promoções mais longas deveriam vender mais.\n",
        "\n",
        "**6.** Lojas com promoções consecutivas deveriam vender mais.\n",
        "\n",
        "**7.** Lojas abertas durante o Natal deveriam vender mais.\n",
        "\n",
        "**8.** Lojas deveriam vender mais ao longo do ano.\n",
        "\n",
        "**9.** Lojas deveriam vender mais no segundo semestre do ano.\n",
        "\n",
        "**10.** Lojas deveriam vender mais depois do dia 10 de cada mês.\n",
        "\n",
        "**11.** Lojas deveriam vender menos aos finais de semana.\n",
        "\n",
        "**12.** Lojas deveriam vender menos durante os feriados escolares."
      ]
    },
    {
      "cell_type": "markdown",
      "metadata": {
        "id": "GN_dsolH88If"
      },
      "source": [
        "## 2.3 Feature Engineering"
      ]
    },
    {
      "cell_type": "code",
      "metadata": {
        "id": "UgTNyWsH88If"
      },
      "source": [
        "#year\n",
        "df2['year'] = df2['date'].dt.year\n",
        "\n",
        "#month\n",
        "df2['month'] = df2['date'].dt.month\n",
        "\n",
        "#day\n",
        "df2['day'] = df2['date'].dt.day\n",
        "\n",
        "#week_of_year\n",
        "df2['week_of_year'] = df2['date'].dt.isocalendar().week\n",
        "\n",
        "#year_week\n",
        "df2['year_week'] = df2['date'].dt.strftime('%Y-%W')\n",
        "\n",
        "#competition_since\n",
        "df2['competition_since'] = df2.apply(lambda x: datetime(year=x['competition_open_since_year'],month=x['competition_open_since_month'],day=1),axis=1)\n",
        "df2['competition_time_month'] = ((df2['date']-df2['competition_since'])/30).apply(lambda x: x.days).astype(int)\n",
        "\n",
        "#promo_since\n",
        "df2['promo_since'] = df2['promo2_since_year'].astype(str) + '-' + df2['promo2_since_week'].astype(str)\n",
        "df2['promo_since'] = df2['promo_since'].apply(lambda x: datetime.strptime(x + '-1', '%Y-%W-%w')- timedelta(days=7))\n",
        "df2['promo_time_week'] = ((df2['date']-df2['promo_since'])/7).apply(lambda x: x.days).astype(int)\n",
        "\n",
        "#assortment\n",
        "df2['assortment'] = df2['assortment'].apply(lambda x: 'basic' if x == 'a' else 'extra' if x == 'b' else 'extended')\n",
        "\n",
        "#state_holiday\n",
        "df2['state_holiday'] = df2['state_holiday'].apply(lambda x: 'public_holiday' if x == 'a' else 'easter_holiday' if x == 'b' else 'christmas' if x == 'c' else 'regular_day')"
      ],
      "execution_count": 20,
      "outputs": []
    },
    {
      "cell_type": "markdown",
      "metadata": {
        "id": "NLvNZPSO88Ig"
      },
      "source": [
        "# 3.0 Filtering Variables"
      ]
    },
    {
      "cell_type": "code",
      "metadata": {
        "id": "Ausue4TN88Ig"
      },
      "source": [
        "df3 = df2.copy()"
      ],
      "execution_count": 21,
      "outputs": []
    },
    {
      "cell_type": "markdown",
      "metadata": {
        "id": "U814hujP88Ig"
      },
      "source": [
        "## 3.1 Filtering lines"
      ]
    },
    {
      "cell_type": "code",
      "metadata": {
        "id": "rngpjtUz88Ig"
      },
      "source": [
        "df3 = df3[(df3['open'] != 0) & (df3['sales'] > 0)]"
      ],
      "execution_count": 22,
      "outputs": []
    },
    {
      "cell_type": "markdown",
      "metadata": {
        "id": "Og2Bamd788Ih"
      },
      "source": [
        "## 3.2 Filtering cols"
      ]
    },
    {
      "cell_type": "code",
      "metadata": {
        "id": "kr_JKChX88Ih"
      },
      "source": [
        "cols_drop = ['customers', 'open', 'promo_interval', 'month_map']\n",
        "df3 = df3.drop(cols_drop, axis=1)"
      ],
      "execution_count": 23,
      "outputs": []
    },
    {
      "cell_type": "markdown",
      "metadata": {
        "id": "uHBFcDMQ88Ih"
      },
      "source": [
        "# 4.0 Exploratory Data Analysis"
      ]
    },
    {
      "cell_type": "code",
      "metadata": {
        "id": "9-BYYp6R88Ih"
      },
      "source": [
        "df4 = df3.copy()"
      ],
      "execution_count": 24,
      "outputs": []
    },
    {
      "cell_type": "markdown",
      "metadata": {
        "id": "0BLS1Vlv88Ii"
      },
      "source": [
        "## 4.1 Univariate Analysis"
      ]
    },
    {
      "cell_type": "markdown",
      "metadata": {
        "id": "O51ZKnXB88Ii"
      },
      "source": [
        "### 4.1.1 Response variable"
      ]
    },
    {
      "cell_type": "code",
      "metadata": {
        "colab": {
          "base_uri": "https://localhost:8080/",
          "height": 0
        },
        "id": "ppm4HDvp88Ii",
        "outputId": "0e087624-7a6e-40f6-9059-de81fe5ce8f4"
      },
      "source": [
        "sns.displot(df4['sales'], kde=True)"
      ],
      "execution_count": 25,
      "outputs": [
        {
          "output_type": "execute_result",
          "data": {
            "text/plain": [
              "<seaborn.axisgrid.FacetGrid at 0x7fbac4c11250>"
            ]
          },
          "metadata": {
            "tags": []
          },
          "execution_count": 25
        },
        {
          "output_type": "display_data",
          "data": {
            "image/png": "[encoded data removed]",
            "text/plain": [
              "<Figure size 360x360 with 1 Axes>"
            ]
          },
          "metadata": {
            "tags": [],
            "needs_background": "light"
          }
        }
      ]
    },
    {
      "cell_type": "markdown",
      "metadata": {
        "id": "mD2EEW7O88Ii"
      },
      "source": [
        "### 4.1.2 Numeric variable"
      ]
    },
    {
      "cell_type": "code",
      "metadata": {
        "colab": {
          "base_uri": "https://localhost:8080/",
          "height": 0
        },
        "id": "J9JXP-9988Ij",
        "outputId": "36a9ad3c-5fcb-45f0-f571-fb99fe7fc56b"
      },
      "source": [
        "num_attributes.hist(bins=25);"
      ],
      "execution_count": 26,
      "outputs": [
        {
          "output_type": "display_data",
          "data": {
            "image/png": "[encoded data removed]",
            "text/plain": [
              "<Figure size 432x288 with 16 Axes>"
            ]
          },
          "metadata": {
            "tags": [],
            "needs_background": "light"
          }
        }
      ]
    },
    {
      "cell_type": "markdown",
      "metadata": {
        "id": "XDzzU6eO88Ij"
      },
      "source": [
        "### 4.1.3 Categorical variable"
      ]
    },
    {
      "cell_type": "code",
      "metadata": {
        "colab": {
          "base_uri": "https://localhost:8080/",
          "height": 0
        },
        "id": "ESSZRZY388Ij",
        "outputId": "b7eca934-1711-470f-83b4-e05c5e541e17"
      },
      "source": [
        "#state_holiday\n",
        "plt.subplot(3,2,1)\n",
        "a = df4[df4['state_holiday'] != 'regular_day']\n",
        "sns.countplot(a['state_holiday'])\n",
        "\n",
        "plt.subplot(3,2,2)\n",
        "sns.kdeplot(df4[df4['state_holiday'] == 'public_holiday']['sales'], label='public_holiday', shade=True)\n",
        "sns.kdeplot(df4[df4['state_holiday'] == 'easter_holiday']['sales'], label='easter_holiday', shade=True)\n",
        "sns.kdeplot(df4[df4['state_holiday'] == 'christmas']['sales'], label='christmas', shade=True)"
      ],
      "execution_count": 27,
      "outputs": [
        {
          "output_type": "stream",
          "text": [
            "/usr/local/lib/python3.7/dist-packages/seaborn/_decorators.py:43: FutureWarning: Pass the following variable as a keyword arg: x. From version 0.12, the only valid positional argument will be `data`, and passing other arguments without an explicit keyword will result in an error or misinterpretation.\n",
            "  FutureWarning\n"
          ],
          "name": "stderr"
        },
        {
          "output_type": "execute_result",
          "data": {
            "text/plain": [
              "<matplotlib.axes._subplots.AxesSubplot at 0x7fbabf92b950>"
            ]
          },
          "metadata": {
            "tags": []
          },
          "execution_count": 27
        },
        {
          "output_type": "display_data",
          "data": {
            "image/png": "[encoded data removed]",
            "text/plain": [
              "<Figure size 432x288 with 2 Axes>"
            ]
          },
          "metadata": {
            "tags": [],
            "needs_background": "light"
          }
        }
      ]
    },
    {
      "cell_type": "code",
      "metadata": {
        "colab": {
          "base_uri": "https://localhost:8080/",
          "height": 0
        },
        "id": "CPImPSsf88Ik",
        "outputId": "c27d1af2-3f1d-4d86-bc4e-e638fe6e88a7"
      },
      "source": [
        "#store_type\n",
        "plt.subplot(3,2,3)\n",
        "sns.countplot(df4['store_type'])\n",
        "\n",
        "plt.subplot(3,2,4)\n",
        "sns.kdeplot(df4[df4['store_type'] == 'a']['sales'], label='a', shade=True)\n",
        "sns.kdeplot(df4[df4['store_type'] == 'b']['sales'], label='b', shade=True)\n",
        "sns.kdeplot(df4[df4['store_type'] == 'c']['sales'], label='c', shade=True)\n",
        "sns.kdeplot(df4[df4['store_type'] == 'd']['sales'], label='d', shade=True)"
      ],
      "execution_count": 28,
      "outputs": [
        {
          "output_type": "stream",
          "text": [
            "/usr/local/lib/python3.7/dist-packages/seaborn/_decorators.py:43: FutureWarning: Pass the following variable as a keyword arg: x. From version 0.12, the only valid positional argument will be `data`, and passing other arguments without an explicit keyword will result in an error or misinterpretation.\n",
            "  FutureWarning\n"
          ],
          "name": "stderr"
        },
        {
          "output_type": "execute_result",
          "data": {
            "text/plain": [
              "<matplotlib.axes._subplots.AxesSubplot at 0x7fbabf52f510>"
            ]
          },
          "metadata": {
            "tags": []
          },
          "execution_count": 28
        },
        {
          "output_type": "display_data",
          "data": {
            "image/png": "[encoded data removed]",
            "text/plain": [
              "<Figure size 432x288 with 2 Axes>"
            ]
          },
          "metadata": {
            "tags": [],
            "needs_background": "light"
          }
        }
      ]
    },
    {
      "cell_type": "code",
      "metadata": {
        "colab": {
          "base_uri": "https://localhost:8080/",
          "height": 0
        },
        "id": "n765ydr288Ik",
        "outputId": "3abb0172-46da-4275-916b-dd23792f0b57"
      },
      "source": [
        "#assortment\n",
        "plt.subplot(3,2,5)\n",
        "sns.countplot(df4['assortment'])\n",
        "\n",
        "plt.subplot(3,2,6)\n",
        "sns.kdeplot(df4[df4['assortment'] == 'extended']['sales'], label='extended', shade=True)\n",
        "sns.kdeplot(df4[df4['assortment'] == 'basic']['sales'], label='basic', shade=True)\n",
        "sns.kdeplot(df4[df4['assortment'] == 'extra']['sales'], label='extra', shade=True)"
      ],
      "execution_count": 29,
      "outputs": [
        {
          "output_type": "stream",
          "text": [
            "/usr/local/lib/python3.7/dist-packages/seaborn/_decorators.py:43: FutureWarning: Pass the following variable as a keyword arg: x. From version 0.12, the only valid positional argument will be `data`, and passing other arguments without an explicit keyword will result in an error or misinterpretation.\n",
            "  FutureWarning\n"
          ],
          "name": "stderr"
        },
        {
          "output_type": "execute_result",
          "data": {
            "text/plain": [
              "<matplotlib.axes._subplots.AxesSubplot at 0x7fbabf4fe450>"
            ]
          },
          "metadata": {
            "tags": []
          },
          "execution_count": 29
        },
        {
          "output_type": "display_data",
          "data": {
            "image/png": "[encoded data removed]",
            "text/plain": [
              "<Figure size 432x288 with 2 Axes>"
            ]
          },
          "metadata": {
            "tags": [],
            "needs_background": "light"
          }
        }
      ]
    },
    {
      "cell_type": "markdown",
      "metadata": {
        "id": "Dy9bK2l288Ik"
      },
      "source": [
        "## 4.2 Bivariate Analysis"
      ]
    },
    {
      "cell_type": "markdown",
      "metadata": {
        "id": "6VVMeQs-88Ik"
      },
      "source": [
        "### H1. Lojas com maior sortimento deveriam vender mais.\n",
        "FALSO com lojas mais sortimento vendem menos"
      ]
    },
    {
      "cell_type": "code",
      "metadata": {
        "colab": {
          "base_uri": "https://localhost:8080/",
          "height": 0
        },
        "id": "ryqjDtpt88Il",
        "outputId": "54325f0b-d95f-4773-caa3-4ee70fdeb70a"
      },
      "source": [
        "aux1 = df4[['assortment', 'sales']].groupby('assortment').sum().reset_index()\n",
        "sns.barplot(x='assortment', y='sales', data=aux1);\n",
        "\n",
        "aux2 = df4[['year_week','assortment','sales']].groupby(['year_week','assortment']).sum().reset_index()\n",
        "aux2.pivot(index='year_week',columns='assortment',values='sales').plot()\n",
        "\n",
        "aux3 = aux2[aux2['assortment'] == 'extra']\n",
        "aux3.pivot(index='year_week',columns='assortment',values='sales').plot()"
      ],
      "execution_count": 30,
      "outputs": [
        {
          "output_type": "execute_result",
          "data": {
            "text/plain": [
              "<matplotlib.axes._subplots.AxesSubplot at 0x7fbabf598f10>"
            ]
          },
          "metadata": {
            "tags": []
          },
          "execution_count": 30
        },
        {
          "output_type": "display_data",
          "data": {
            "image/png": "[encoded data removed]",
            "text/plain": [
              "<Figure size 432x288 with 1 Axes>"
            ]
          },
          "metadata": {
            "tags": [],
            "needs_background": "light"
          }
        },
        {
          "output_type": "display_data",
          "data": {
            "image/png": "[encoded data removed]",
            "text/plain": [
              "<Figure size 432x288 with 1 Axes>"
            ]
          },
          "metadata": {
            "tags": [],
            "needs_background": "light"
          }
        },
        {
          "output_type": "display_data",
          "data": {
            "image/png": "[encoded data removed]",
            "text/plain": [
              "<Figure size 432x288 with 1 Axes>"
            ]
          },
          "metadata": {
            "tags": [],
            "needs_background": "light"
          }
        }
      ]
    },
    {
      "cell_type": "markdown",
      "metadata": {
        "id": "0D5tEPL488Il"
      },
      "source": [
        "### H2. Lojas com mais competidores deveriam vender menos.\n",
        "FALSO lojas com mais competidores vendem mais"
      ]
    },
    {
      "cell_type": "code",
      "metadata": {
        "colab": {
          "base_uri": "https://localhost:8080/",
          "height": 0
        },
        "id": "cP4VIU8q88Il",
        "outputId": "f7c51c15-f4ac-4b80-ad7c-29ffcd2827e2"
      },
      "source": [
        "aux1 = df4[['competition_distance','sales']].groupby('competition_distance').sum().reset_index()\n",
        "\n",
        "plt.subplot(1, 3, 1)\n",
        "sns.scatterplot(x='competition_distance', y='sales', data=aux1)\n",
        "\n",
        "plt.subplot(1, 3, 2)\n",
        "bins = list(np.arange(0, 20000, 1000))\n",
        "aux1['competition_distance_binned'] = pd.cut(aux1['competition_distance'], bins=bins)\n",
        "aux2 = aux1[['competition_distance_binned','sales']].groupby('competition_distance_binned').sum().reset_index()\n",
        "sns.barplot(x='competition_distance_binned', y='sales', data=aux2);\n",
        "plt.xticks(rotation=90);\n",
        "\n",
        "plt.subplot(1, 3, 3)\n",
        "x = sns.heatmap(aux1.corr(method='pearson'), annot=True);\n",
        "bottom, top = x.get_ylim()\n",
        "#x.set_xlim(bottom+0.5, top-0.5)"
      ],
      "execution_count": 31,
      "outputs": [
        {
          "output_type": "display_data",
          "data": {
            "image/png": "[encoded data removed]",
            "text/plain": [
              "<Figure size 432x288 with 4 Axes>"
            ]
          },
          "metadata": {
            "tags": [],
            "needs_background": "light"
          }
        }
      ]
    },
    {
      "cell_type": "markdown",
      "metadata": {
        "id": "sqyUwSG188Im"
      },
      "source": [
        "### H3. Lojas com competidores à mais tempo deveriam vender mais.\n",
        "FALSO lojas com competidores a mais tempo vendem mais"
      ]
    },
    {
      "cell_type": "code",
      "metadata": {
        "colab": {
          "base_uri": "https://localhost:8080/",
          "height": 0
        },
        "id": "lq3wmOqE88Im",
        "outputId": "be8a7232-eab2-402d-9df4-002f9658345f"
      },
      "source": [
        "plt.subplot (1, 3, 1)\n",
        "aux1 = df4[['competition_time_month','sales']].groupby('competition_time_month').sum().reset_index()\n",
        "aux2 = aux1[(aux1['competition_time_month'] < 120) & (aux1['competition_time_month'] != 0)]\n",
        "sns.barplot(x='competition_time_month', y='sales', data=aux2)\n",
        "plt.xticks(rotation=90);\n",
        "\n",
        "plt.subplot(1, 3, 2)\n",
        "sns.regplot(x='competition_time_month', y='sales', data=aux2)\n",
        "\n",
        "plt.subplot(1, 3, 3)\n",
        "x = sns.heatmap(aux1.corr(method='pearson'), annot=True);\n",
        "bottom, top = x.get_ylim()"
      ],
      "execution_count": 32,
      "outputs": [
        {
          "output_type": "display_data",
          "data": {
            "image/png": "[encoded data removed]",
            "text/plain": [
              "<Figure size 432x288 with 4 Axes>"
            ]
          },
          "metadata": {
            "tags": [],
            "needs_background": "light"
          }
        }
      ]
    },
    {
      "cell_type": "markdown",
      "metadata": {
        "id": "Kkf5-U0v88Im"
      },
      "source": [
        "### H4. Lojas com promoções ativas por mais tempo deveriam vender mais.\n",
        "FALSO lojas com promoções extendidas vendem menos, depois de algum tempo"
      ]
    },
    {
      "cell_type": "code",
      "metadata": {
        "colab": {
          "base_uri": "https://localhost:8080/",
          "height": 0
        },
        "id": "y3S7vL5C88Im",
        "outputId": "abb9d261-1c56-48b8-aa69-c829bfe5c172"
      },
      "source": [
        "aux1 = df4[['promo_time_week','sales']].groupby('promo_time_week').sum().reset_index()\n",
        "\n",
        "grid = gs.GridSpec(2,3)\n",
        "\n",
        "plt.subplot(grid[0,0])\n",
        "aux2 = aux1[aux1['promo_time_week'] > 0] #promo extendida\n",
        "sns.barplot(x='promo_time_week', y='sales', data=aux2);\n",
        "plt.xticks(rotation=90);\n",
        "\n",
        "plt.subplot(grid[0,1])\n",
        "sns.regplot(x='promo_time_week', y='sales', data=aux2)\n",
        "\n",
        "plt.subplot(grid[1,0])\n",
        "aux3 = aux1[aux1['promo_time_week'] < 0] #promo regular\n",
        "sns.barplot(x='promo_time_week', y='sales', data=aux3);\n",
        "plt.xticks(rotation=90);\n",
        "\n",
        "plt.subplot(grid[1,1])\n",
        "sns.regplot(x='promo_time_week', y='sales', data=aux3);\n",
        "\n",
        "plt.subplot(grid[:,2])\n",
        "sns.heatmap(aux1.corr(method='pearson'), annot=True);"
      ],
      "execution_count": 33,
      "outputs": [
        {
          "output_type": "display_data",
          "data": {
            "image/png": "[encoded data removed]",
            "text/plain": [
              "<Figure size 432x288 with 6 Axes>"
            ]
          },
          "metadata": {
            "tags": [],
            "needs_background": "light"
          }
        }
      ]
    },
    {
      "cell_type": "markdown",
      "metadata": {
        "id": "gUdIZfGf88In"
      },
      "source": [
        "### <s> H5. Lojas com promoções mais longas deveriam vender mais. </s>"
      ]
    },
    {
      "cell_type": "markdown",
      "metadata": {
        "id": "sfQoR0Di88In"
      },
      "source": [
        "### H6. Lojas com promoções consecutivas deveriam vender mais.\n",
        "FALSO lojas com promoções consecutivas vendem menos"
      ]
    },
    {
      "cell_type": "code",
      "metadata": {
        "colab": {
          "base_uri": "https://localhost:8080/",
          "height": 0
        },
        "id": "aYrNZI1S88In",
        "outputId": "4f2acd3c-9fb4-4b2c-c817-f4cb9640f65f"
      },
      "source": [
        "df4[['promo','promo2','sales']].groupby(['promo','promo2']).sum().reset_index()"
      ],
      "execution_count": 34,
      "outputs": [
        {
          "output_type": "execute_result",
          "data": {
            "text/html": [
              "<div>\n",
              "<style scoped>\n",
              "    .dataframe tbody tr th:only-of-type {\n",
              "        vertical-align: middle;\n",
              "    }\n",
              "\n",
              "    .dataframe tbody tr th {\n",
              "        vertical-align: top;\n",
              "    }\n",
              "\n",
              "    .dataframe thead th {\n",
              "        text-align: right;\n",
              "    }\n",
              "</style>\n",
              "<table border=\"1\" class=\"dataframe\">\n",
              "  <thead>\n",
              "    <tr style=\"text-align: right;\">\n",
              "      <th></th>\n",
              "      <th>promo</th>\n",
              "      <th>promo2</th>\n",
              "      <th>sales</th>\n",
              "    </tr>\n",
              "  </thead>\n",
              "  <tbody>\n",
              "    <tr>\n",
              "      <th>0</th>\n",
              "      <td>0</td>\n",
              "      <td>0</td>\n",
              "      <td>1482612096</td>\n",
              "    </tr>\n",
              "    <tr>\n",
              "      <th>1</th>\n",
              "      <td>0</td>\n",
              "      <td>1</td>\n",
              "      <td>1289362241</td>\n",
              "    </tr>\n",
              "    <tr>\n",
              "      <th>2</th>\n",
              "      <td>1</td>\n",
              "      <td>0</td>\n",
              "      <td>1628930532</td>\n",
              "    </tr>\n",
              "    <tr>\n",
              "      <th>3</th>\n",
              "      <td>1</td>\n",
              "      <td>1</td>\n",
              "      <td>1472275754</td>\n",
              "    </tr>\n",
              "  </tbody>\n",
              "</table>\n",
              "</div>"
            ],
            "text/plain": [
              "   promo  promo2       sales\n",
              "0      0       0  1482612096\n",
              "1      0       1  1289362241\n",
              "2      1       0  1628930532\n",
              "3      1       1  1472275754"
            ]
          },
          "metadata": {
            "tags": []
          },
          "execution_count": 34
        }
      ]
    },
    {
      "cell_type": "code",
      "metadata": {
        "colab": {
          "base_uri": "https://localhost:8080/",
          "height": 0
        },
        "id": "sSJToHWT88In",
        "outputId": "59c59fea-941c-4bd9-cba6-138841ae96cf"
      },
      "source": [
        "aux1 = df4[(df4['promo'] == 1) & (df4['promo2'] == 1)][['year_week','sales']].groupby('year_week').sum().reset_index()\n",
        "ax = aux1.plot()\n",
        "\n",
        "aux2 = df4[(df4['promo'] == 1) & (df4['promo2'] == 0)][['year_week','sales']].groupby('year_week').sum().reset_index()\n",
        "aux2.plot(ax=ax)\n",
        "\n",
        "ax.legend(labels=['Tradicional & Extendida','Extendida']);"
      ],
      "execution_count": 35,
      "outputs": [
        {
          "output_type": "display_data",
          "data": {
            "image/png": "[encoded data removed]",
            "text/plain": [
              "<Figure size 432x288 with 1 Axes>"
            ]
          },
          "metadata": {
            "tags": [],
            "needs_background": "light"
          }
        }
      ]
    },
    {
      "cell_type": "markdown",
      "metadata": {
        "id": "GWGVQ7RW88Io"
      },
      "source": [
        "### H7. Lojas abertas durante o Natal deveriam vender mais.\n",
        "FALSO lojas que abrem no natal vendem menos"
      ]
    },
    {
      "cell_type": "code",
      "metadata": {
        "colab": {
          "base_uri": "https://localhost:8080/",
          "height": 0
        },
        "id": "FwDuFZ0a88Io",
        "outputId": "64da6c89-6964-48f4-878c-2b297554ef12"
      },
      "source": [
        "aux = df4[df4['state_holiday'] != 'regular_day']\n",
        "\n",
        "plt.subplot(1,2,1)\n",
        "aux1 = aux[['state_holiday','sales']].groupby('state_holiday').sum().reset_index()\n",
        "sns.barplot(x='state_holiday', y='sales', data=aux1);\n",
        "\n",
        "plt.subplot(1,2,2)\n",
        "aux2 = aux[['year','state_holiday','sales']].groupby(['year','state_holiday']).sum().reset_index()\n",
        "sns.barplot(x='sales', y='sales', hue='state_holiday', data=aux2);"
      ],
      "execution_count": 36,
      "outputs": [
        {
          "output_type": "display_data",
          "data": {
            "image/png": "[encoded data removed]",
            "text/plain": [
              "<Figure size 432x288 with 2 Axes>"
            ]
          },
          "metadata": {
            "tags": [],
            "needs_background": "light"
          }
        }
      ]
    },
    {
      "cell_type": "markdown",
      "metadata": {
        "id": "ck9pKm1W88Io"
      },
      "source": [
        "### H8. Lojas deveriam vender mais ao longo do ano.\n",
        "FALSO lojas vendem menos durante os anos"
      ]
    },
    {
      "cell_type": "code",
      "metadata": {
        "colab": {
          "base_uri": "https://localhost:8080/",
          "height": 0
        },
        "id": "vGaAp7VM88Io",
        "outputId": "7de4eca6-88c9-466c-8979-d853a12b6057"
      },
      "source": [
        "aux1 = df4[['year','sales']].groupby('year').sum().reset_index()\n",
        "\n",
        "plt.subplot(1,3,1)\n",
        "sns.barplot(x='year', y='sales', data=aux1);\n",
        "plt.xticks(rotation=90);\n",
        "\n",
        "plt.subplot(1,3,2)\n",
        "sns.regplot(x='year', y='sales', data=aux1);\n",
        "\n",
        "plt.subplot(1,3,3)\n",
        "sns.heatmap(aux1.corr(method='pearson'), annot=True);"
      ],
      "execution_count": 37,
      "outputs": [
        {
          "output_type": "display_data",
          "data": {
            "image/png": "[encoded data removed]",
            "text/plain": [
              "<Figure size 432x288 with 4 Axes>"
            ]
          },
          "metadata": {
            "tags": [],
            "needs_background": "light"
          }
        }
      ]
    },
    {
      "cell_type": "markdown",
      "metadata": {
        "id": "TCMh1Vlm88Ip"
      },
      "source": [
        "### H9. Lojas deveriam vender mais no segundo semestre do ano.\n",
        "FALSO lojas vendem menos no segundo semestre"
      ]
    },
    {
      "cell_type": "code",
      "metadata": {
        "colab": {
          "base_uri": "https://localhost:8080/",
          "height": 0
        },
        "id": "m8uP1hMV88Ip",
        "outputId": "5ac9299c-dfeb-4f62-9777-e1575d109bcd"
      },
      "source": [
        "aux1 = df4[['month','sales']].groupby('month').sum().reset_index()\n",
        "\n",
        "plt.subplot(1,3,1)\n",
        "sns.barplot(x='month', y='sales', data=aux1);\n",
        "plt.xticks(rotation=90);\n",
        "\n",
        "plt.subplot(1,3,2)\n",
        "sns.regplot(x='month', y='sales', data=aux1);\n",
        "\n",
        "plt.subplot(1,3,3)\n",
        "sns.heatmap(aux1.corr(method='pearson'), annot=True);"
      ],
      "execution_count": 38,
      "outputs": [
        {
          "output_type": "display_data",
          "data": {
            "image/png": "[encoded data removed]",
            "text/plain": [
              "<Figure size 432x288 with 4 Axes>"
            ]
          },
          "metadata": {
            "tags": [],
            "needs_background": "light"
          }
        }
      ]
    },
    {
      "cell_type": "markdown",
      "metadata": {
        "id": "BEW3MiDi88Ip"
      },
      "source": [
        "### H10. Lojas deveriam vender mais depois do dia 10 de cada mês.\n",
        "VERDADEIRO lojas vendem mais depois do dia 10"
      ]
    },
    {
      "cell_type": "code",
      "metadata": {
        "colab": {
          "base_uri": "https://localhost:8080/",
          "height": 0
        },
        "id": "HH53e0nT88Iq",
        "outputId": "6a9d8fc6-5fef-4c00-d09c-5785b120b066"
      },
      "source": [
        "aux1 = df4[['day','sales']].groupby('day').sum().reset_index()\n",
        "\n",
        "plt.subplot(2,2,1)\n",
        "sns.barplot(x='day', y='sales', data=aux1);\n",
        "#plt.xticks(rotation=90);\n",
        "\n",
        "plt.subplot(2,2,2)\n",
        "sns.regplot(x='day', y='sales', data=aux1);\n",
        "\n",
        "plt.subplot(2,2,3)\n",
        "sns.heatmap(aux1.corr(method='pearson'), annot=True);\n",
        "\n",
        "aux1['before_after'] = aux1['day'].apply(lambda x: 'before_10_days' if x <= 10 else 'after_10_days')\n",
        "aux2 = aux1[['before_after','sales']].groupby('before_after').sum().reset_index()\n",
        "\n",
        "plt.subplot(2,2,4)\n",
        "sns.barplot(x='before_after', y='sales', data=aux2);"
      ],
      "execution_count": 39,
      "outputs": [
        {
          "output_type": "display_data",
          "data": {
            "image/png": "[encoded data removed]",
            "text/plain": [
              "<Figure size 432x288 with 5 Axes>"
            ]
          },
          "metadata": {
            "tags": [],
            "needs_background": "light"
          }
        }
      ]
    },
    {
      "cell_type": "markdown",
      "metadata": {
        "id": "6-L4VJ2288Iq"
      },
      "source": [
        "### H11. Lojas deveriam vender menos aos finais de semana.\n",
        "VERDADEIRO lojas vendem menos aos finais de semana"
      ]
    },
    {
      "cell_type": "code",
      "metadata": {
        "colab": {
          "base_uri": "https://localhost:8080/",
          "height": 0
        },
        "id": "UKEOrH9W88Iq",
        "outputId": "dbe537af-d443-4e25-d37f-ce225e742bc5"
      },
      "source": [
        "aux1 = df4[['day_of_week','sales']].groupby('day_of_week').sum().reset_index()\n",
        "\n",
        "plt.subplot(1,3,1)\n",
        "sns.barplot(x='day_of_week', y='sales', data=aux1);\n",
        "#plt.xticks(rotation=90);\n",
        "\n",
        "plt.subplot(1,3,2)\n",
        "sns.regplot(x='day_of_week', y='sales', data=aux1);\n",
        "\n",
        "plt.subplot(1,3,3)\n",
        "sns.heatmap(aux1.corr(method='pearson'), annot=True);"
      ],
      "execution_count": 40,
      "outputs": [
        {
          "output_type": "display_data",
          "data": {
            "image/png": "[encoded data removed]",
            "text/plain": [
              "<Figure size 432x288 with 4 Axes>"
            ]
          },
          "metadata": {
            "tags": [],
            "needs_background": "light"
          }
        }
      ]
    },
    {
      "cell_type": "markdown",
      "metadata": {
        "id": "SLff-OAx88Iq"
      },
      "source": [
        "### H12. Lojas deveriam vender menos durante os feriados escolares.\n",
        "VERDADEIRO lojas vendem menos durante os feriados escolares, exceto julho e agosto"
      ]
    },
    {
      "cell_type": "code",
      "metadata": {
        "colab": {
          "base_uri": "https://localhost:8080/",
          "height": 0
        },
        "id": "AqdOLxmU88Ir",
        "outputId": "cd3c22fe-6c1f-4c70-d69a-40efaec2bccb"
      },
      "source": [
        "aux1 = df4[['school_holiday','sales']].groupby('school_holiday').sum().reset_index()\n",
        "plt.subplot(2,1,1)\n",
        "sns.barplot(x='school_holiday', y='sales', data=aux1);\n",
        "\n",
        "aux2 = df4[['month', 'school_holiday','sales']].groupby(['month','school_holiday']).sum().reset_index()\n",
        "plt.subplot(2,1,2)\n",
        "sns.barplot(x='month', y='sales', hue='school_holiday', data=aux2);"
      ],
      "execution_count": 41,
      "outputs": [
        {
          "output_type": "display_data",
          "data": {
            "image/png": "[encoded data removed]",
            "text/plain": [
              "<Figure size 432x288 with 2 Axes>"
            ]
          },
          "metadata": {
            "tags": [],
            "needs_background": "light"
          }
        }
      ]
    },
    {
      "cell_type": "markdown",
      "metadata": {
        "id": "pkSXNOyN88Ir"
      },
      "source": [
        "### 4.2.1 Resumo"
      ]
    },
    {
      "cell_type": "code",
      "metadata": {
        "colab": {
          "base_uri": "https://localhost:8080/"
        },
        "id": "2Lx9cAAP88Ir",
        "outputId": "e5289242-3691-4c20-d27e-210e4cba3e1c"
      },
      "source": [
        "tab = [['Hipoteses', 'Conclusão', 'Relevância'], \n",
        "       ['H1', 'Falsa', 'Baixa'],\n",
        "       ['H2', 'Falsa', 'Média'],\n",
        "       ['H3', 'Falsa', 'Média'],\n",
        "       ['H4', 'Falsa', 'Baixa'],\n",
        "       ['H5', '-', '-'],\n",
        "       ['H6', 'Falsa', 'Baixa'],\n",
        "       ['H7', 'Falsa', 'Média'],\n",
        "       ['H8', 'Falsa', 'Alta'],\n",
        "       ['H9', 'Falsa', 'Alta'],\n",
        "       ['H10', 'Verdadeira', 'Alta'],\n",
        "       ['H11', 'Verdadeira', 'Alta'],\n",
        "       ['H12', 'Verdadeira', 'Baixa']]\n",
        "\n",
        "print(tabulate(tab, headers='firstrow'))"
      ],
      "execution_count": 42,
      "outputs": [
        {
          "output_type": "stream",
          "text": [
            "Hipoteses    Conclusão    Relevância\n",
            "-----------  -----------  ------------\n",
            "H1           Falsa        Baixa\n",
            "H2           Falsa        Média\n",
            "H3           Falsa        Média\n",
            "H4           Falsa        Baixa\n",
            "H5           -            -\n",
            "H6           Falsa        Baixa\n",
            "H7           Falsa        Média\n",
            "H8           Falsa        Alta\n",
            "H9           Falsa        Alta\n",
            "H10          Verdadeira   Alta\n",
            "H11          Verdadeira   Alta\n",
            "H12          Verdadeira   Baixa\n"
          ],
          "name": "stdout"
        }
      ]
    },
    {
      "cell_type": "markdown",
      "metadata": {
        "id": "5-cnYu5688Ir"
      },
      "source": [
        "## 4.3 Multivariate Analysis"
      ]
    },
    {
      "cell_type": "markdown",
      "metadata": {
        "id": "b5yfqrdJ88Is"
      },
      "source": [
        "### 4.3.1 Numerical Attributes"
      ]
    },
    {
      "cell_type": "code",
      "metadata": {
        "colab": {
          "base_uri": "https://localhost:8080/",
          "height": 0
        },
        "id": "IN5_58Yh88Is",
        "outputId": "7a3d031b-f594-4087-f82b-ef6856a1bc58"
      },
      "source": [
        "correlations = num_attributes.corr(method='pearson')\n",
        "sns.heatmap(correlations,annot=True);"
      ],
      "execution_count": 43,
      "outputs": [
        {
          "output_type": "display_data",
          "data": {
            "image/png": "[encoded data removed]",
            "text/plain": [
              "<Figure size 432x288 with 2 Axes>"
            ]
          },
          "metadata": {
            "tags": [],
            "needs_background": "light"
          }
        }
      ]
    },
    {
      "cell_type": "markdown",
      "metadata": {
        "id": "ajCtNEgp88Is"
      },
      "source": [
        "### 4.3.2 Categorical Attributes"
      ]
    },
    {
      "cell_type": "code",
      "metadata": {
        "colab": {
          "base_uri": "https://localhost:8080/",
          "height": 0
        },
        "id": "k8wQFH9o88Is",
        "outputId": "158634af-03f2-4a16-cf3a-aea85ec313e7"
      },
      "source": [
        "#only categorical data\n",
        "a = df4.select_dtypes(include='object')\n",
        "\n",
        "#calculate cramer v\n",
        "a1 = cramer_v (a['state_holiday'], a['state_holiday'])\n",
        "a2 = cramer_v (a['state_holiday'], a['store_type'])\n",
        "a3 = cramer_v (a['state_holiday'], a['assortment'])\n",
        "\n",
        "a4 = cramer_v (a['store_type'], a['state_holiday'])\n",
        "a5 = cramer_v (a['store_type'], a['store_type'])\n",
        "a6 = cramer_v (a['store_type'], a['assortment'])\n",
        "\n",
        "a7 = cramer_v (a['assortment'], a['state_holiday'])\n",
        "a8 = cramer_v (a['assortment'], a['store_type'])\n",
        "a9 = cramer_v (a['assortment'], a['assortment'])\n",
        "\n",
        "#finald ataset\n",
        "d = pd.DataFrame({'state_holiday': [a1,a2,a3],\n",
        "                 'store_type': [a4,a5,a6],\n",
        "                 'assortment': [a7,a8,a9]})\n",
        "d = d.set_index(d.columns)\n",
        "\n",
        "#heat map\n",
        "sns.heatmap(d,annot=True)"
      ],
      "execution_count": 44,
      "outputs": [
        {
          "output_type": "execute_result",
          "data": {
            "text/plain": [
              "<matplotlib.axes._subplots.AxesSubplot at 0x7fbabf0d9390>"
            ]
          },
          "metadata": {
            "tags": []
          },
          "execution_count": 44
        },
        {
          "output_type": "display_data",
          "data": {
            "image/png": "[encoded data removed]",
            "text/plain": [
              "<Figure size 432x288 with 2 Axes>"
            ]
          },
          "metadata": {
            "tags": [],
            "needs_background": "light"
          }
        }
      ]
    },
    {
      "cell_type": "markdown",
      "metadata": {
        "id": "E0VgySKX88It"
      },
      "source": [
        "# 5.0 Data Preparation"
      ]
    },
    {
      "cell_type": "code",
      "metadata": {
        "id": "SffdO_GG88It"
      },
      "source": [
        "df5 = df4.copy()"
      ],
      "execution_count": 45,
      "outputs": []
    },
    {
      "cell_type": "markdown",
      "metadata": {
        "id": "1omiq_qr88It"
      },
      "source": [
        "## 5.1 Normalização"
      ]
    },
    {
      "cell_type": "markdown",
      "metadata": {
        "id": "bdraJn2H88It"
      },
      "source": [
        "**Não tem variável com distribuição normal**"
      ]
    },
    {
      "cell_type": "markdown",
      "metadata": {
        "id": "N5QWXtYY88It"
      },
      "source": [
        "## 5.2 Rescaling"
      ]
    },
    {
      "cell_type": "code",
      "metadata": {
        "id": "Ip1kGwWL88It"
      },
      "source": [
        "#a = df5.select_dtypes(include=['float64','int64'])\n",
        "\n",
        "rs = RobustScaler()\n",
        "mms = MinMaxScaler()\n",
        "\n",
        "#competition_distance\n",
        "df5['competition_distance'] = rs.fit_transform(df5[['competition_distance']].values)\n",
        "\n",
        "#competition_time_month\n",
        "df5['competition_time_month'] = rs.fit_transform(df5[['competition_time_month']].values)\n",
        "\n",
        "#promo_time_week\n",
        "df5['promo_time_week'] = mms.fit_transform(df5[['promo_time_week']].values)\n",
        "\n",
        "#year\n",
        "df5['year'] = mms.fit_transform(df5[['year']].values)"
      ],
      "execution_count": 46,
      "outputs": []
    },
    {
      "cell_type": "markdown",
      "metadata": {
        "id": "cOoXUFFy88Iu"
      },
      "source": [
        "## 5.3 Transformação"
      ]
    },
    {
      "cell_type": "markdown",
      "metadata": {
        "id": "gk7jEVFH88Iu"
      },
      "source": [
        "### 5.3.1 Encoding"
      ]
    },
    {
      "cell_type": "code",
      "metadata": {
        "id": "VMbtCh_688Iu"
      },
      "source": [
        "#state_holiday - One Hot Encoding\n",
        "df5 = pd.get_dummies(df5,prefix=['state_holiday'], columns=['state_holiday'])\n",
        "\n",
        "#store_type - Label Encoding\n",
        "le = LabelEncoder()\n",
        "df5['store_type'] = le.fit_transform(df5['store_type'])\n",
        "\n",
        "#assortment - Ordinal Encoding\n",
        "assortment_dict = {'basic':1, 'extra':2, 'extended':3}\n",
        "df5['assortment'] = df5['assortment'].map(assortment_dict)"
      ],
      "execution_count": 47,
      "outputs": []
    },
    {
      "cell_type": "markdown",
      "metadata": {
        "id": "hy_w2fG_88Iu"
      },
      "source": [
        "### 5.3.2 Response Variable Transformation"
      ]
    },
    {
      "cell_type": "code",
      "metadata": {
        "id": "1MxapAo588Iv"
      },
      "source": [
        "df5['sales'] = np.log(df5['sales'])"
      ],
      "execution_count": 48,
      "outputs": []
    },
    {
      "cell_type": "markdown",
      "metadata": {
        "id": "cdehjqFW88Iv"
      },
      "source": [
        "### 5.3.3 Nature Transformation"
      ]
    },
    {
      "cell_type": "code",
      "metadata": {
        "id": "EALOruyQ88Iv"
      },
      "source": [
        "#day_of_week\n",
        "df5['day_of_week_sin'] = df5['day_of_week'].apply(lambda x: np.sin(x*(2.*np.pi/7)))\n",
        "df5['day_of_week_cos'] = df5['day_of_week'].apply(lambda x: np.cos(x*(2.*np.pi/7)))\n",
        "\n",
        "#month\n",
        "df5['month_sin'] = df5['month'].apply(lambda x: np.sin(x*(2.*np.pi/12)))\n",
        "df5['month_cos'] = df5['month'].apply(lambda x: np.cos(x*(2.*np.pi/12)))\n",
        "\n",
        "#day\n",
        "df5['day_sin'] = df5['day'].apply(lambda x: np.sin(x*(2.*np.pi/30)))\n",
        "df5['day_cos'] = df5['day'].apply(lambda x: np.cos(x*(2.*np.pi/30)))\n",
        "\n",
        "#week_of_year\n",
        "df5['week_of_year_sin'] = df5['week_of_year'].apply(lambda x: np.sin(x*(2.*np.pi/52)))\n",
        "df5['week_of_year_cos'] = df5['week_of_year'].apply(lambda x: np.cos(x*(2.*np.pi/52)))"
      ],
      "execution_count": 49,
      "outputs": []
    },
    {
      "cell_type": "markdown",
      "metadata": {
        "id": "gPoki5QE88Iv"
      },
      "source": [
        "# 6.0 Feature Selection"
      ]
    },
    {
      "cell_type": "code",
      "metadata": {
        "id": "UQlfWSfN88Iv"
      },
      "source": [
        "df6 = df5.copy()"
      ],
      "execution_count": 50,
      "outputs": []
    },
    {
      "cell_type": "markdown",
      "metadata": {
        "id": "bDvQmVR088Iw"
      },
      "source": [
        "## 6.1 Split Dataframe into test and training dataset"
      ]
    },
    {
      "cell_type": "code",
      "metadata": {
        "colab": {
          "base_uri": "https://localhost:8080/"
        },
        "id": "LkseT2Uy88Iw",
        "outputId": "137955be-2fe1-46d4-a245-5159fab68624"
      },
      "source": [
        "cols_drop = ['week_of_year','day','month','day_of_week','promo_since','competition_since','year_week']\n",
        "df6 = df6.drop(cols_drop,axis=1)\n",
        "\n",
        "#training dataset\n",
        "X_train = df6[df6['date'] < '2015-06-19']\n",
        "y_train = X_train['sales']\n",
        "\n",
        "#test dataset\n",
        "X_test = df6[df6['date'] >= '2015-06-19']\n",
        "y_test = X_test['sales']\n",
        "\n",
        "print('Training Min Date: {}'.format(X_train['date'].min()))\n",
        "print('Training Max Date: {}\\n'.format(X_train['date'].max()))\n",
        "\n",
        "print('Test Min Date: {}'.format(X_test['date'].min()))\n",
        "print('Test Max Date: {}'.format(X_test['date'].max()))"
      ],
      "execution_count": 51,
      "outputs": [
        {
          "output_type": "stream",
          "text": [
            "Training Min Date: 2013-01-01 00:00:00\n",
            "Training Max Date: 2015-06-18 00:00:00\n",
            "\n",
            "Test Min Date: 2015-06-19 00:00:00\n",
            "Test Max Date: 2015-07-31 00:00:00\n"
          ],
          "name": "stdout"
        }
      ]
    },
    {
      "cell_type": "markdown",
      "metadata": {
        "id": "GdmNUX8E88Iw"
      },
      "source": [
        "## 6.2 Boruta as feature selector"
      ]
    },
    {
      "cell_type": "code",
      "metadata": {
        "id": "QgcWfYYb88Iw"
      },
      "source": [
        "#training and test dataset for Boruta\n",
        "x_train_n = X_train.drop(['date','sales'],axis=1).values\n",
        "y_train_n = y_train.values.ravel()\n",
        "\n",
        "#define RandomForestRegressor\n",
        "rf = RandomForestRegressor(n_jobs=-1)\n",
        "\n",
        "#define Boruta\n",
        "#boruta = BorutaPy(rf, n_estimators='auto',verbose=2,random_state=42).fit(x_train_n,y_train_n)"
      ],
      "execution_count": 52,
      "outputs": []
    },
    {
      "cell_type": "markdown",
      "metadata": {
        "id": "aCTmRF__88Ix"
      },
      "source": [
        "### 6.2.1 Best feature from Boruta"
      ]
    },
    {
      "cell_type": "code",
      "metadata": {
        "id": "IEtKkHfa88Ix"
      },
      "source": [
        "#cols_selected = boruta.support_.tolist()\n",
        "\n",
        "#best feature\n",
        "#x_train_fs = x_train.drop(['date','sales'],axis=1)\n",
        "#cols_selected_boruta = x_train_fs.iloc[:,cols_selected].columns.to_list()\n",
        "#cols_selected_boruta\n",
        "\n",
        "#not selected from Boruta\n",
        "#cols_not_selected_boruta = list(np.setdiff1d(x_train_fs.columns,cols_selected_boruta))\n",
        "#cols_not_selected_boruta"
      ],
      "execution_count": 53,
      "outputs": []
    },
    {
      "cell_type": "markdown",
      "metadata": {
        "id": "8v2wx9rP88Ix"
      },
      "source": [
        "## 6.3 Manual Feature Selection"
      ]
    },
    {
      "cell_type": "code",
      "metadata": {
        "id": "-DBOIrLR88Ix"
      },
      "source": [
        "cols_selected_boruta = ['store','promo','store_type','assortment','competition_distance','competition_open_since_month',\n",
        "                        'competition_open_since_year','promo2','promo2_since_week','promo2_since_year','competition_time_month',\n",
        "                        'promo_time_week','day_of_week_sin','day_of_week_cos','month_sin','month_cos','day_sin','day_cos',\n",
        "                        'week_of_year_sin','week_of_year_cos']\n",
        "\n",
        "#columns to add\n",
        "feat_to_add = ['date','sales']\n",
        "\n",
        "#final feature\n",
        "#cols_selected_boruta.extend(feat_to_add)\n",
        "\n",
        "cols_selected_boruta_full = cols_selected_boruta.copy()\n",
        "cols_selected_boruta_full.extend(feat_to_add)"
      ],
      "execution_count": 54,
      "outputs": []
    },
    {
      "cell_type": "markdown",
      "metadata": {
        "id": "Kgujfegy88Iy"
      },
      "source": [
        "# 7.0 Machine Learning Modeling"
      ]
    },
    {
      "cell_type": "code",
      "metadata": {
        "id": "cWj4MITr88Iy"
      },
      "source": [
        "x_train = X_train[cols_selected_boruta]\n",
        "x_test = X_test [cols_selected_boruta]\n",
        "\n",
        "#time series data preparation\n",
        "x_training = X_train[cols_selected_boruta_full]"
      ],
      "execution_count": 55,
      "outputs": []
    },
    {
      "cell_type": "markdown",
      "metadata": {
        "id": "5LdUd-k188Iy"
      },
      "source": [
        "## 7.1 Average Model"
      ]
    },
    {
      "cell_type": "code",
      "metadata": {
        "colab": {
          "base_uri": "https://localhost:8080/",
          "height": 0
        },
        "id": "utRuiCOw88Iy",
        "outputId": "765d2fbd-2dd8-46f3-a7bd-a1ec584a290f"
      },
      "source": [
        "aux1 = x_test.copy()\n",
        "aux1['sales'] = y_test.copy()\n",
        "\n",
        "#prediction\n",
        "aux2 = aux1[['store','sales']].groupby('store').mean().reset_index().rename(columns={'sales':'predictions'})\n",
        "aux1 = pd.merge(aux1,aux2,how='left',on='store')\n",
        "yhat_baseline = aux1['predictions']\n",
        "\n",
        "#performance\n",
        "baseline_result = ml_error('Average Model', np.expm1(y_test), np.expm1(yhat_baseline))\n",
        "baseline_result"
      ],
      "execution_count": 56,
      "outputs": [
        {
          "output_type": "execute_result",
          "data": {
            "text/html": [
              "<div>\n",
              "<style scoped>\n",
              "    .dataframe tbody tr th:only-of-type {\n",
              "        vertical-align: middle;\n",
              "    }\n",
              "\n",
              "    .dataframe tbody tr th {\n",
              "        vertical-align: top;\n",
              "    }\n",
              "\n",
              "    .dataframe thead th {\n",
              "        text-align: right;\n",
              "    }\n",
              "</style>\n",
              "<table border=\"1\" class=\"dataframe\">\n",
              "  <thead>\n",
              "    <tr style=\"text-align: right;\">\n",
              "      <th></th>\n",
              "      <th>Model Name</th>\n",
              "      <th>MAE</th>\n",
              "      <th>MAPE</th>\n",
              "      <th>RMSE</th>\n",
              "    </tr>\n",
              "  </thead>\n",
              "  <tbody>\n",
              "    <tr>\n",
              "      <th>0</th>\n",
              "      <td>Average Model</td>\n",
              "      <td>1354.800167</td>\n",
              "      <td>0.413085</td>\n",
              "      <td>1835.141019</td>\n",
              "    </tr>\n",
              "  </tbody>\n",
              "</table>\n",
              "</div>"
            ],
            "text/plain": [
              "      Model Name          MAE      MAPE         RMSE\n",
              "0  Average Model  1354.800167  0.413085  1835.141019"
            ]
          },
          "metadata": {
            "tags": []
          },
          "execution_count": 56
        }
      ]
    },
    {
      "cell_type": "markdown",
      "metadata": {
        "id": "Bj_WZNCP88Iz"
      },
      "source": [
        "## 7.2 Linear Regression Model"
      ]
    },
    {
      "cell_type": "code",
      "metadata": {
        "colab": {
          "base_uri": "https://localhost:8080/",
          "height": 0
        },
        "id": "XtPJgjmo88Iz",
        "outputId": "d8a52afc-b9d4-46c9-bc59-f68e6d3315ee"
      },
      "source": [
        "#model\n",
        "lr = LinearRegression().fit(x_train,y_train)\n",
        "\n",
        "#prediction\n",
        "yhat_lr = lr.predict(x_test)\n",
        "\n",
        "#performance\n",
        "lr_result = ml_error('Linear Regression', np.expm1(y_test), np.expm1(yhat_lr))\n",
        "lr_result"
      ],
      "execution_count": 57,
      "outputs": [
        {
          "output_type": "execute_result",
          "data": {
            "text/html": [
              "<div>\n",
              "<style scoped>\n",
              "    .dataframe tbody tr th:only-of-type {\n",
              "        vertical-align: middle;\n",
              "    }\n",
              "\n",
              "    .dataframe tbody tr th {\n",
              "        vertical-align: top;\n",
              "    }\n",
              "\n",
              "    .dataframe thead th {\n",
              "        text-align: right;\n",
              "    }\n",
              "</style>\n",
              "<table border=\"1\" class=\"dataframe\">\n",
              "  <thead>\n",
              "    <tr style=\"text-align: right;\">\n",
              "      <th></th>\n",
              "      <th>Model Name</th>\n",
              "      <th>MAE</th>\n",
              "      <th>MAPE</th>\n",
              "      <th>RMSE</th>\n",
              "    </tr>\n",
              "  </thead>\n",
              "  <tbody>\n",
              "    <tr>\n",
              "      <th>0</th>\n",
              "      <td>Linear Regression</td>\n",
              "      <td>1867.086951</td>\n",
              "      <td>0.292756</td>\n",
              "      <td>2671.056821</td>\n",
              "    </tr>\n",
              "  </tbody>\n",
              "</table>\n",
              "</div>"
            ],
            "text/plain": [
              "          Model Name          MAE      MAPE         RMSE\n",
              "0  Linear Regression  1867.086951  0.292756  2671.056821"
            ]
          },
          "metadata": {
            "tags": []
          },
          "execution_count": 57
        }
      ]
    },
    {
      "cell_type": "markdown",
      "metadata": {
        "id": "yOSPBH91gnDQ"
      },
      "source": [
        "### 7.2.1 Linear Regression Model"
      ]
    },
    {
      "cell_type": "code",
      "metadata": {
        "colab": {
          "base_uri": "https://localhost:8080/",
          "height": 0
        },
        "id": "5I7c2qjOiN0C",
        "outputId": "6118cd2f-d73e-4a4e-9f90-dbf0665e53bb"
      },
      "source": [
        "lr_result_cv = cross_validation(x_training, 5, 'Linear Regression', lr, verbose=False)\n",
        "lr_result_cv"
      ],
      "execution_count": 58,
      "outputs": [
        {
          "output_type": "execute_result",
          "data": {
            "text/html": [
              "<div>\n",
              "<style scoped>\n",
              "    .dataframe tbody tr th:only-of-type {\n",
              "        vertical-align: middle;\n",
              "    }\n",
              "\n",
              "    .dataframe tbody tr th {\n",
              "        vertical-align: top;\n",
              "    }\n",
              "\n",
              "    .dataframe thead th {\n",
              "        text-align: right;\n",
              "    }\n",
              "</style>\n",
              "<table border=\"1\" class=\"dataframe\">\n",
              "  <thead>\n",
              "    <tr style=\"text-align: right;\">\n",
              "      <th></th>\n",
              "      <th>MAE CV</th>\n",
              "      <th>MAPE CV</th>\n",
              "      <th>RMSE CV</th>\n",
              "    </tr>\n",
              "  </thead>\n",
              "  <tbody>\n",
              "    <tr>\n",
              "      <th>0</th>\n",
              "      <td>2081.73 +/- 295.64</td>\n",
              "      <td>0.3 +/- 0.02</td>\n",
              "      <td>2952.53 +/- 468.38</td>\n",
              "    </tr>\n",
              "  </tbody>\n",
              "</table>\n",
              "</div>"
            ],
            "text/plain": [
              "               MAE CV       MAPE CV             RMSE CV\n",
              "0  2081.73 +/- 295.64  0.3 +/- 0.02  2952.53 +/- 468.38"
            ]
          },
          "metadata": {
            "tags": []
          },
          "execution_count": 58
        }
      ]
    },
    {
      "cell_type": "markdown",
      "metadata": {
        "id": "n9IxNeGkl5C8"
      },
      "source": [
        ""
      ]
    },
    {
      "cell_type": "markdown",
      "metadata": {
        "id": "PMdu_WS588Iz"
      },
      "source": [
        "## 7.3 Linear Regression Regularized Model - Lasso"
      ]
    },
    {
      "cell_type": "code",
      "metadata": {
        "colab": {
          "base_uri": "https://localhost:8080/",
          "height": 0
        },
        "id": "WUnFNIRA88Iz",
        "outputId": "484393d4-e484-470f-a625-25b80e08a6d6"
      },
      "source": [
        "#model\n",
        "lrr = Lasso(alpha = 0.01).fit(x_train,y_train)\n",
        "\n",
        "#prediction\n",
        "yhat_lrr = lrr.predict(x_test)\n",
        "\n",
        "#performance\n",
        "lrr_result = ml_error('Linear Regression Regularized', np.expm1(y_test), np.expm1(yhat_lrr))\n",
        "lrr_result"
      ],
      "execution_count": 59,
      "outputs": [
        {
          "output_type": "execute_result",
          "data": {
            "text/html": [
              "<div>\n",
              "<style scoped>\n",
              "    .dataframe tbody tr th:only-of-type {\n",
              "        vertical-align: middle;\n",
              "    }\n",
              "\n",
              "    .dataframe tbody tr th {\n",
              "        vertical-align: top;\n",
              "    }\n",
              "\n",
              "    .dataframe thead th {\n",
              "        text-align: right;\n",
              "    }\n",
              "</style>\n",
              "<table border=\"1\" class=\"dataframe\">\n",
              "  <thead>\n",
              "    <tr style=\"text-align: right;\">\n",
              "      <th></th>\n",
              "      <th>Model Name</th>\n",
              "      <th>MAE</th>\n",
              "      <th>MAPE</th>\n",
              "      <th>RMSE</th>\n",
              "    </tr>\n",
              "  </thead>\n",
              "  <tbody>\n",
              "    <tr>\n",
              "      <th>0</th>\n",
              "      <td>Linear Regression Regularized</td>\n",
              "      <td>1891.702084</td>\n",
              "      <td>0.289165</td>\n",
              "      <td>2744.462517</td>\n",
              "    </tr>\n",
              "  </tbody>\n",
              "</table>\n",
              "</div>"
            ],
            "text/plain": [
              "                      Model Name          MAE      MAPE         RMSE\n",
              "0  Linear Regression Regularized  1891.702084  0.289165  2744.462517"
            ]
          },
          "metadata": {
            "tags": []
          },
          "execution_count": 59
        }
      ]
    },
    {
      "cell_type": "markdown",
      "metadata": {
        "id": "tqetVXFRkQYr"
      },
      "source": [
        "### 7.3.1 Lasso - Cross Validation"
      ]
    },
    {
      "cell_type": "code",
      "metadata": {
        "colab": {
          "base_uri": "https://localhost:8080/",
          "height": 0
        },
        "id": "kRSNZSYkkP1T",
        "outputId": "116bec2d-6966-4319-d4bb-6db190993ed3"
      },
      "source": [
        "lrr_result_cv = cross_validation(x_training, 5, 'Lasso', lrr, verbose=False)\n",
        "lrr_result_cv"
      ],
      "execution_count": 60,
      "outputs": [
        {
          "output_type": "execute_result",
          "data": {
            "text/html": [
              "<div>\n",
              "<style scoped>\n",
              "    .dataframe tbody tr th:only-of-type {\n",
              "        vertical-align: middle;\n",
              "    }\n",
              "\n",
              "    .dataframe tbody tr th {\n",
              "        vertical-align: top;\n",
              "    }\n",
              "\n",
              "    .dataframe thead th {\n",
              "        text-align: right;\n",
              "    }\n",
              "</style>\n",
              "<table border=\"1\" class=\"dataframe\">\n",
              "  <thead>\n",
              "    <tr style=\"text-align: right;\">\n",
              "      <th></th>\n",
              "      <th>MAE CV</th>\n",
              "      <th>MAPE CV</th>\n",
              "      <th>RMSE CV</th>\n",
              "    </tr>\n",
              "  </thead>\n",
              "  <tbody>\n",
              "    <tr>\n",
              "      <th>0</th>\n",
              "      <td>2116.39 +/- 341.51</td>\n",
              "      <td>0.29 +/- 0.01</td>\n",
              "      <td>3057.76 +/- 504.27</td>\n",
              "    </tr>\n",
              "  </tbody>\n",
              "</table>\n",
              "</div>"
            ],
            "text/plain": [
              "               MAE CV        MAPE CV             RMSE CV\n",
              "0  2116.39 +/- 341.51  0.29 +/- 0.01  3057.76 +/- 504.27"
            ]
          },
          "metadata": {
            "tags": []
          },
          "execution_count": 60
        }
      ]
    },
    {
      "cell_type": "markdown",
      "metadata": {
        "id": "imaJoT9z88I0"
      },
      "source": [
        "## 7.4 Random Forest Regressor"
      ]
    },
    {
      "cell_type": "code",
      "metadata": {
        "colab": {
          "base_uri": "https://localhost:8080/",
          "height": 0
        },
        "id": "hx4wbLRL88I0",
        "outputId": "1b4a2614-7ec0-4f95-e925-00d9894348ab"
      },
      "source": [
        "#model\n",
        "rf = RandomForestRegressor(n_estimators=100, n_jobs=-1,random_state=42).fit(x_train,y_train)\n",
        "\n",
        "#prediction\n",
        "yhat_rf = rf.predict(x_test)\n",
        "\n",
        "#performance\n",
        "rf_result = ml_error('Random Forest Regressor', np.expm1(y_test), np.expm1(yhat_rf))\n",
        "rf_result"
      ],
      "execution_count": 61,
      "outputs": [
        {
          "output_type": "execute_result",
          "data": {
            "text/html": [
              "<div>\n",
              "<style scoped>\n",
              "    .dataframe tbody tr th:only-of-type {\n",
              "        vertical-align: middle;\n",
              "    }\n",
              "\n",
              "    .dataframe tbody tr th {\n",
              "        vertical-align: top;\n",
              "    }\n",
              "\n",
              "    .dataframe thead th {\n",
              "        text-align: right;\n",
              "    }\n",
              "</style>\n",
              "<table border=\"1\" class=\"dataframe\">\n",
              "  <thead>\n",
              "    <tr style=\"text-align: right;\">\n",
              "      <th></th>\n",
              "      <th>Model Name</th>\n",
              "      <th>MAE</th>\n",
              "      <th>MAPE</th>\n",
              "      <th>RMSE</th>\n",
              "    </tr>\n",
              "  </thead>\n",
              "  <tbody>\n",
              "    <tr>\n",
              "      <th>0</th>\n",
              "      <td>Random Forest Regressor</td>\n",
              "      <td>687.318371</td>\n",
              "      <td>0.101078</td>\n",
              "      <td>1021.03838</td>\n",
              "    </tr>\n",
              "  </tbody>\n",
              "</table>\n",
              "</div>"
            ],
            "text/plain": [
              "                Model Name         MAE      MAPE        RMSE\n",
              "0  Random Forest Regressor  687.318371  0.101078  1021.03838"
            ]
          },
          "metadata": {
            "tags": []
          },
          "execution_count": 61
        }
      ]
    },
    {
      "cell_type": "markdown",
      "metadata": {
        "id": "hwngl6pZqYoA"
      },
      "source": [
        "### 7.4.1 Random Forest Regressor - Cross Validation"
      ]
    },
    {
      "cell_type": "code",
      "metadata": {
        "colab": {
          "base_uri": "https://localhost:8080/",
          "height": 0
        },
        "id": "e85FDw14qdAs",
        "outputId": "a314c0a9-9b90-4061-86e8-33dbda92d154"
      },
      "source": [
        "rf_result_cv = cross_validation(x_training, 5, 'Random Forest', rf, verbose=True)\n",
        "rf_result_cv"
      ],
      "execution_count": 62,
      "outputs": [
        {
          "output_type": "stream",
          "text": [
            "\n",
            "KFold Number: 5\n",
            "\n",
            "KFold Number: 4\n",
            "\n",
            "KFold Number: 3\n",
            "\n",
            "KFold Number: 2\n",
            "\n",
            "KFold Number: 1\n"
          ],
          "name": "stdout"
        },
        {
          "output_type": "execute_result",
          "data": {
            "text/html": [
              "<div>\n",
              "<style scoped>\n",
              "    .dataframe tbody tr th:only-of-type {\n",
              "        vertical-align: middle;\n",
              "    }\n",
              "\n",
              "    .dataframe tbody tr th {\n",
              "        vertical-align: top;\n",
              "    }\n",
              "\n",
              "    .dataframe thead th {\n",
              "        text-align: right;\n",
              "    }\n",
              "</style>\n",
              "<table border=\"1\" class=\"dataframe\">\n",
              "  <thead>\n",
              "    <tr style=\"text-align: right;\">\n",
              "      <th></th>\n",
              "      <th>MAE CV</th>\n",
              "      <th>MAPE CV</th>\n",
              "      <th>RMSE CV</th>\n",
              "    </tr>\n",
              "  </thead>\n",
              "  <tbody>\n",
              "    <tr>\n",
              "      <th>0</th>\n",
              "      <td>838.28 +/- 218.2</td>\n",
              "      <td>0.12 +/- 0.02</td>\n",
              "      <td>1257.66 +/- 319.42</td>\n",
              "    </tr>\n",
              "  </tbody>\n",
              "</table>\n",
              "</div>"
            ],
            "text/plain": [
              "             MAE CV        MAPE CV             RMSE CV\n",
              "0  838.28 +/- 218.2  0.12 +/- 0.02  1257.66 +/- 319.42"
            ]
          },
          "metadata": {
            "tags": []
          },
          "execution_count": 62
        }
      ]
    },
    {
      "cell_type": "markdown",
      "metadata": {
        "id": "HW4hJQiQ88I0"
      },
      "source": [
        "## 7.5 XGBoost"
      ]
    },
    {
      "cell_type": "code",
      "metadata": {
        "colab": {
          "base_uri": "https://localhost:8080/",
          "height": 80
        },
        "id": "rcsWREOg88I0",
        "outputId": "b54ac96c-dd64-4b83-d5ce-1091fdfd0369"
      },
      "source": [
        "#model\n",
        "model_xgb = xgb.XGBRegressor(objective = 'reg:squarederror',\n",
        "                            n_estimators=100,\n",
        "                            eta=0.01,\n",
        "                            max_depth=10,\n",
        "                            subsample=0.7,\n",
        "                            colsample_bytee=0.9).fit(x_train,y_train)\n",
        "\n",
        "#prediction\n",
        "yhat_xgb = model_xgb.predict(x_test)\n",
        "\n",
        "#performance\n",
        "xgb_result = ml_error('XGBoost Regressor', np.expm1(y_test), np.expm1(yhat_xgb))\n",
        "xgb_result"
      ],
      "execution_count": 63,
      "outputs": [
        {
          "output_type": "execute_result",
          "data": {
            "text/html": [
              "<div>\n",
              "<style scoped>\n",
              "    .dataframe tbody tr th:only-of-type {\n",
              "        vertical-align: middle;\n",
              "    }\n",
              "\n",
              "    .dataframe tbody tr th {\n",
              "        vertical-align: top;\n",
              "    }\n",
              "\n",
              "    .dataframe thead th {\n",
              "        text-align: right;\n",
              "    }\n",
              "</style>\n",
              "<table border=\"1\" class=\"dataframe\">\n",
              "  <thead>\n",
              "    <tr style=\"text-align: right;\">\n",
              "      <th></th>\n",
              "      <th>Model Name</th>\n",
              "      <th>MAE</th>\n",
              "      <th>MAPE</th>\n",
              "      <th>RMSE</th>\n",
              "    </tr>\n",
              "  </thead>\n",
              "  <tbody>\n",
              "    <tr>\n",
              "      <th>0</th>\n",
              "      <td>XGBoost Regressor</td>\n",
              "      <td>864.410771</td>\n",
              "      <td>0.124925</td>\n",
              "      <td>1271.519798</td>\n",
              "    </tr>\n",
              "  </tbody>\n",
              "</table>\n",
              "</div>"
            ],
            "text/plain": [
              "          Model Name         MAE      MAPE         RMSE\n",
              "0  XGBoost Regressor  864.410771  0.124925  1271.519798"
            ]
          },
          "metadata": {
            "tags": []
          },
          "execution_count": 63
        }
      ]
    },
    {
      "cell_type": "markdown",
      "metadata": {
        "id": "v48AjCOt5HHs"
      },
      "source": [
        "### 7.5.1 XGBoost - Cross Validation"
      ]
    },
    {
      "cell_type": "code",
      "metadata": {
        "colab": {
          "base_uri": "https://localhost:8080/",
          "height": 0
        },
        "id": "FM8xjpIm5Lhb",
        "outputId": "8402d323-f772-46a8-a036-5835e9c8ab61"
      },
      "source": [
        "xgb_result_cv = cross_validation(x_training, 5, 'XGBoost', model_xgb, verbose=True)\n",
        "xgb_result_cv"
      ],
      "execution_count": 64,
      "outputs": [
        {
          "output_type": "stream",
          "text": [
            "\n",
            "KFold Number: 5\n",
            "\n",
            "KFold Number: 4\n",
            "\n",
            "KFold Number: 3\n",
            "\n",
            "KFold Number: 2\n",
            "\n",
            "KFold Number: 1\n"
          ],
          "name": "stdout"
        },
        {
          "output_type": "execute_result",
          "data": {
            "text/html": [
              "<div>\n",
              "<style scoped>\n",
              "    .dataframe tbody tr th:only-of-type {\n",
              "        vertical-align: middle;\n",
              "    }\n",
              "\n",
              "    .dataframe tbody tr th {\n",
              "        vertical-align: top;\n",
              "    }\n",
              "\n",
              "    .dataframe thead th {\n",
              "        text-align: right;\n",
              "    }\n",
              "</style>\n",
              "<table border=\"1\" class=\"dataframe\">\n",
              "  <thead>\n",
              "    <tr style=\"text-align: right;\">\n",
              "      <th></th>\n",
              "      <th>MAE CV</th>\n",
              "      <th>MAPE CV</th>\n",
              "      <th>RMSE CV</th>\n",
              "    </tr>\n",
              "  </thead>\n",
              "  <tbody>\n",
              "    <tr>\n",
              "      <th>0</th>\n",
              "      <td>1022.52 +/- 156.61</td>\n",
              "      <td>0.14 +/- 0.02</td>\n",
              "      <td>1474.96 +/- 216.05</td>\n",
              "    </tr>\n",
              "  </tbody>\n",
              "</table>\n",
              "</div>"
            ],
            "text/plain": [
              "               MAE CV        MAPE CV             RMSE CV\n",
              "0  1022.52 +/- 156.61  0.14 +/- 0.02  1474.96 +/- 216.05"
            ]
          },
          "metadata": {
            "tags": []
          },
          "execution_count": 64
        }
      ]
    },
    {
      "cell_type": "markdown",
      "metadata": {
        "id": "WM_5djyv88I1"
      },
      "source": [
        "## 7.6 Compare Model's Performance"
      ]
    },
    {
      "cell_type": "markdown",
      "metadata": {
        "id": "Qrxz-iIp-c6V"
      },
      "source": [
        "### 7.6.1 Single Performance"
      ]
    },
    {
      "cell_type": "code",
      "metadata": {
        "colab": {
          "base_uri": "https://localhost:8080/",
          "height": 0
        },
        "id": "oR3iF4l788I1",
        "outputId": "efd6ac23-76ac-4c96-9a86-eeb4f54520b2"
      },
      "source": [
        "modelling_result = pd.concat([baseline_result, lr_result, lrr_result, rf_result, xgb_result])\n",
        "modelling_result.sort_values('RMSE')"
      ],
      "execution_count": 65,
      "outputs": [
        {
          "output_type": "execute_result",
          "data": {
            "text/html": [
              "<div>\n",
              "<style scoped>\n",
              "    .dataframe tbody tr th:only-of-type {\n",
              "        vertical-align: middle;\n",
              "    }\n",
              "\n",
              "    .dataframe tbody tr th {\n",
              "        vertical-align: top;\n",
              "    }\n",
              "\n",
              "    .dataframe thead th {\n",
              "        text-align: right;\n",
              "    }\n",
              "</style>\n",
              "<table border=\"1\" class=\"dataframe\">\n",
              "  <thead>\n",
              "    <tr style=\"text-align: right;\">\n",
              "      <th></th>\n",
              "      <th>Model Name</th>\n",
              "      <th>MAE</th>\n",
              "      <th>MAPE</th>\n",
              "      <th>RMSE</th>\n",
              "    </tr>\n",
              "  </thead>\n",
              "  <tbody>\n",
              "    <tr>\n",
              "      <th>0</th>\n",
              "      <td>Random Forest Regressor</td>\n",
              "      <td>687.318371</td>\n",
              "      <td>0.101078</td>\n",
              "      <td>1021.038380</td>\n",
              "    </tr>\n",
              "    <tr>\n",
              "      <th>0</th>\n",
              "      <td>XGBoost Regressor</td>\n",
              "      <td>864.410771</td>\n",
              "      <td>0.124925</td>\n",
              "      <td>1271.519798</td>\n",
              "    </tr>\n",
              "    <tr>\n",
              "      <th>0</th>\n",
              "      <td>Average Model</td>\n",
              "      <td>1354.800167</td>\n",
              "      <td>0.413085</td>\n",
              "      <td>1835.141019</td>\n",
              "    </tr>\n",
              "    <tr>\n",
              "      <th>0</th>\n",
              "      <td>Linear Regression</td>\n",
              "      <td>1867.086951</td>\n",
              "      <td>0.292756</td>\n",
              "      <td>2671.056821</td>\n",
              "    </tr>\n",
              "    <tr>\n",
              "      <th>0</th>\n",
              "      <td>Linear Regression Regularized</td>\n",
              "      <td>1891.702084</td>\n",
              "      <td>0.289165</td>\n",
              "      <td>2744.462517</td>\n",
              "    </tr>\n",
              "  </tbody>\n",
              "</table>\n",
              "</div>"
            ],
            "text/plain": [
              "                      Model Name          MAE      MAPE         RMSE\n",
              "0        Random Forest Regressor   687.318371  0.101078  1021.038380\n",
              "0              XGBoost Regressor   864.410771  0.124925  1271.519798\n",
              "0                  Average Model  1354.800167  0.413085  1835.141019\n",
              "0              Linear Regression  1867.086951  0.292756  2671.056821\n",
              "0  Linear Regression Regularized  1891.702084  0.289165  2744.462517"
            ]
          },
          "metadata": {
            "tags": []
          },
          "execution_count": 65
        }
      ]
    },
    {
      "cell_type": "markdown",
      "metadata": {
        "id": "kuY74Tkz-iJz"
      },
      "source": [
        "### 7.6.2 Real Performance - Cross Validation"
      ]
    },
    {
      "cell_type": "code",
      "metadata": {
        "id": "QLUwfXxf-ndl",
        "colab": {
          "base_uri": "https://localhost:8080/",
          "height": 0
        },
        "outputId": "e077f5cc-337c-4436-c97d-1c7a54b212fa"
      },
      "source": [
        "modelling_result_cv = pd.concat([lr_result_cv, lrr_result_cv, rf_result_cv, xgb_result_cv])\n",
        "modelling_result_cv"
      ],
      "execution_count": 66,
      "outputs": [
        {
          "output_type": "execute_result",
          "data": {
            "text/html": [
              "<div>\n",
              "<style scoped>\n",
              "    .dataframe tbody tr th:only-of-type {\n",
              "        vertical-align: middle;\n",
              "    }\n",
              "\n",
              "    .dataframe tbody tr th {\n",
              "        vertical-align: top;\n",
              "    }\n",
              "\n",
              "    .dataframe thead th {\n",
              "        text-align: right;\n",
              "    }\n",
              "</style>\n",
              "<table border=\"1\" class=\"dataframe\">\n",
              "  <thead>\n",
              "    <tr style=\"text-align: right;\">\n",
              "      <th></th>\n",
              "      <th>MAE CV</th>\n",
              "      <th>MAPE CV</th>\n",
              "      <th>RMSE CV</th>\n",
              "    </tr>\n",
              "  </thead>\n",
              "  <tbody>\n",
              "    <tr>\n",
              "      <th>0</th>\n",
              "      <td>2081.73 +/- 295.64</td>\n",
              "      <td>0.3 +/- 0.02</td>\n",
              "      <td>2952.53 +/- 468.38</td>\n",
              "    </tr>\n",
              "    <tr>\n",
              "      <th>0</th>\n",
              "      <td>2116.39 +/- 341.51</td>\n",
              "      <td>0.29 +/- 0.01</td>\n",
              "      <td>3057.76 +/- 504.27</td>\n",
              "    </tr>\n",
              "    <tr>\n",
              "      <th>0</th>\n",
              "      <td>838.28 +/- 218.2</td>\n",
              "      <td>0.12 +/- 0.02</td>\n",
              "      <td>1257.66 +/- 319.42</td>\n",
              "    </tr>\n",
              "    <tr>\n",
              "      <th>0</th>\n",
              "      <td>1022.52 +/- 156.61</td>\n",
              "      <td>0.14 +/- 0.02</td>\n",
              "      <td>1474.96 +/- 216.05</td>\n",
              "    </tr>\n",
              "  </tbody>\n",
              "</table>\n",
              "</div>"
            ],
            "text/plain": [
              "               MAE CV        MAPE CV             RMSE CV\n",
              "0  2081.73 +/- 295.64   0.3 +/- 0.02  2952.53 +/- 468.38\n",
              "0  2116.39 +/- 341.51  0.29 +/- 0.01  3057.76 +/- 504.27\n",
              "0    838.28 +/- 218.2  0.12 +/- 0.02  1257.66 +/- 319.42\n",
              "0  1022.52 +/- 156.61  0.14 +/- 0.02  1474.96 +/- 216.05"
            ]
          },
          "metadata": {
            "tags": []
          },
          "execution_count": 66
        }
      ]
    },
    {
      "cell_type": "markdown",
      "metadata": {
        "id": "eIAWzfN8A2P1"
      },
      "source": [
        "# 8.0 Hyperparameter Fine Tuning"
      ]
    },
    {
      "cell_type": "markdown",
      "metadata": {
        "id": "Iy3s7tTGA_Vr"
      },
      "source": [
        "## 8.1 Random Search"
      ]
    },
    {
      "cell_type": "code",
      "metadata": {
        "id": "N0c48p_3A1qI"
      },
      "source": [
        "#warnings.filterwarnings('ignore')\n",
        "\n",
        "#param = {'n_estimators': [1500, 1700, 2500, 3000, 3500],\n",
        "         #'eta': [0.01, 0.03],\n",
        "         #'max_depth': [3, 5, 9],\n",
        "         #'subsample': [0.1, 0.5, 0.7],\n",
        "         #'colsample_bytree': [0.3, 0.7, 0.9],\n",
        "         #'min_child_weight': [3, 8, 15]}\n",
        "\n",
        "#MAX_EVAL = 10"
      ],
      "execution_count": 67,
      "outputs": []
    },
    {
      "cell_type": "code",
      "metadata": {
        "id": "1xJkIWLjCKWu"
      },
      "source": [
        "#final_result = pd.DataFrame()\n",
        "\n",
        "#for i in range(MAX_EVAL):\n",
        "  #choose values for parameters randomly\n",
        "#  hp = {k: random.sample(v,1)[0] for k, v in param.items()}\n",
        " # print(hp)\n",
        "\n",
        "  #model\n",
        " # model_xgb = xgb.XGBRegressor(objective = 'reg:squarederror',\n",
        "                          #  n_estimators = hp['n_estimators'],\n",
        "                          #  eta = hp['eta'],\n",
        "                          #  max_depth = hp['max_depth'],\n",
        "                          # subsample = hp['subsample'],\n",
        "                          #  colsample_bytee = hp['colsample_bytree'])\n",
        "\n",
        "  #performance\n",
        "  #result = cross_validation(x_training, 2, 'XGBoost Regressor', model_xgb, verbose=False)\n",
        "  #final_result = pd.concat([final_result, result])\n",
        "\n",
        "#final_result"
      ],
      "execution_count": 68,
      "outputs": []
    },
    {
      "cell_type": "markdown",
      "metadata": {
        "id": "VEUrBgdhEOsk"
      },
      "source": [
        "## 8.2 Final Result"
      ]
    },
    {
      "cell_type": "code",
      "metadata": {
        "id": "Isk_YupQEQY8"
      },
      "source": [
        "param_tuned = {'n_estimators': 3000,\n",
        "         'eta': 0.03,\n",
        "         'max_depth': 5,\n",
        "         'subsample': 0.7,\n",
        "         'colsample_bytree': 0.7,\n",
        "         'min_child_weight': 3}"
      ],
      "execution_count": 69,
      "outputs": []
    },
    {
      "cell_type": "code",
      "metadata": {
        "id": "Lm8xnQuEEXXy",
        "colab": {
          "base_uri": "https://localhost:8080/",
          "height": 80
        },
        "outputId": "0a4437ce-e49d-4276-9fe7-534e4da7502e"
      },
      "source": [
        "#model\n",
        "model_xgb_tuned = xgb.XGBRegressor(objective = 'reg:squarederror',\n",
        "                            n_estimators = param_tuned['n_estimators'],\n",
        "                            eta = param_tuned['eta'],\n",
        "                            max_depth = param_tuned['max_depth'],\n",
        "                            subsample = param_tuned['subsample'],\n",
        "                            colsample_bytee = param_tuned['colsample_bytree']).fit(x_train, y_train)\n",
        "\n",
        "#prediction\n",
        "yhat_xgb_tuned = model_xgb_tuned.predict(x_test)\n",
        "\n",
        "#performance\n",
        "xgb_result_tuned = ml_error('XGBoost Regressor', np.expm1(y_test), np.expm1(yhat_xgb_tuned))\n",
        "xgb_result_tuned"
      ],
      "execution_count": 70,
      "outputs": [
        {
          "output_type": "execute_result",
          "data": {
            "text/html": [
              "<div>\n",
              "<style scoped>\n",
              "    .dataframe tbody tr th:only-of-type {\n",
              "        vertical-align: middle;\n",
              "    }\n",
              "\n",
              "    .dataframe tbody tr th {\n",
              "        vertical-align: top;\n",
              "    }\n",
              "\n",
              "    .dataframe thead th {\n",
              "        text-align: right;\n",
              "    }\n",
              "</style>\n",
              "<table border=\"1\" class=\"dataframe\">\n",
              "  <thead>\n",
              "    <tr style=\"text-align: right;\">\n",
              "      <th></th>\n",
              "      <th>Model Name</th>\n",
              "      <th>MAE</th>\n",
              "      <th>MAPE</th>\n",
              "      <th>RMSE</th>\n",
              "    </tr>\n",
              "  </thead>\n",
              "  <tbody>\n",
              "    <tr>\n",
              "      <th>0</th>\n",
              "      <td>XGBoost Regressor</td>\n",
              "      <td>668.022437</td>\n",
              "      <td>0.098032</td>\n",
              "      <td>963.037535</td>\n",
              "    </tr>\n",
              "  </tbody>\n",
              "</table>\n",
              "</div>"
            ],
            "text/plain": [
              "          Model Name         MAE      MAPE        RMSE\n",
              "0  XGBoost Regressor  668.022437  0.098032  963.037535"
            ]
          },
          "metadata": {
            "tags": []
          },
          "execution_count": 70
        }
      ]
    },
    {
      "cell_type": "markdown",
      "metadata": {
        "id": "LukkZNDfXQ-T"
      },
      "source": [
        "# 9.0 Translation and interpretation error"
      ]
    },
    {
      "cell_type": "code",
      "metadata": {
        "colab": {
          "base_uri": "https://localhost:8080/"
        },
        "id": "UIdNzGc2XXCl",
        "outputId": "ff17fef7-8b89-4e49-9f48-5dce1d2ba6e1"
      },
      "source": [
        "df9 = X_test[cols_selected_boruta_full]\n",
        "\n",
        "#rescale\n",
        "df9['sales'] = np.expm1(df9['sales'])\n",
        "df9['predictions'] = np.expm1(yhat_xgb_tuned)"
      ],
      "execution_count": 71,
      "outputs": [
        {
          "output_type": "stream",
          "text": [
            "/usr/local/lib/python3.7/dist-packages/ipykernel_launcher.py:4: SettingWithCopyWarning: \n",
            "A value is trying to be set on a copy of a slice from a DataFrame.\n",
            "Try using .loc[row_indexer,col_indexer] = value instead\n",
            "\n",
            "See the caveats in the documentation: https://pandas.pydata.org/pandas-docs/stable/user_guide/indexing.html#returning-a-view-versus-a-copy\n",
            "  after removing the cwd from sys.path.\n",
            "/usr/local/lib/python3.7/dist-packages/ipykernel_launcher.py:5: SettingWithCopyWarning: \n",
            "A value is trying to be set on a copy of a slice from a DataFrame.\n",
            "Try using .loc[row_indexer,col_indexer] = value instead\n",
            "\n",
            "See the caveats in the documentation: https://pandas.pydata.org/pandas-docs/stable/user_guide/indexing.html#returning-a-view-versus-a-copy\n",
            "  \"\"\"\n"
          ],
          "name": "stderr"
        }
      ]
    },
    {
      "cell_type": "markdown",
      "metadata": {
        "id": "Y-HixBXhYyHZ"
      },
      "source": [
        "## 9.1 Business Performance"
      ]
    },
    {
      "cell_type": "code",
      "metadata": {
        "id": "6lQJlh5aY7vX"
      },
      "source": [
        "#sum of predictions\n",
        "df91 = df9[['store','predictions']].groupby('store').sum().reset_index()\n",
        "\n",
        "#MAE and MAPE\n",
        "df9_aux1 = df9[['store','sales','predictions']].groupby('store').apply(lambda x: mean_absolute_error(x['sales'], x['predictions'])).reset_index().rename(columns={0: 'MAE'})\n",
        "df9_aux2 = df9[['store','sales','predictions']].groupby('store').apply(lambda x: mean_absolute_percentage_error(x['sales'], x['predictions'])).reset_index().rename(columns={0:'MAPE'})\n",
        "\n",
        "#merge\n",
        "df9_aux3 = pd.merge(df9_aux1, df9_aux2, how='inner', on='store')\n",
        "df92 = pd.merge(df91,df9_aux3, how='inner', on='store')\n",
        "\n",
        "#scenarios\n",
        "df92['worst_scenario'] = df92['predictions'] - df92['MAE']\n",
        "df92['best_scenario'] = df92['predictions'] + df92['MAE']\n",
        "\n",
        "#order columns\n",
        "df92 = df92[['store','predictions', 'worst_scenario','best_scenario','MAE','MAPE']]"
      ],
      "execution_count": 72,
      "outputs": []
    },
    {
      "cell_type": "code",
      "metadata": {
        "colab": {
          "base_uri": "https://localhost:8080/",
          "height": 204
        },
        "id": "zyZn2V2KbH5G",
        "outputId": "5ce126c1-dfb3-4c91-b383-6682a010c99f"
      },
      "source": [
        "df92.sort_values('MAPE',ascending=False).head()"
      ],
      "execution_count": 73,
      "outputs": [
        {
          "output_type": "execute_result",
          "data": {
            "text/html": [
              "<div>\n",
              "<style scoped>\n",
              "    .dataframe tbody tr th:only-of-type {\n",
              "        vertical-align: middle;\n",
              "    }\n",
              "\n",
              "    .dataframe tbody tr th {\n",
              "        vertical-align: top;\n",
              "    }\n",
              "\n",
              "    .dataframe thead th {\n",
              "        text-align: right;\n",
              "    }\n",
              "</style>\n",
              "<table border=\"1\" class=\"dataframe\">\n",
              "  <thead>\n",
              "    <tr style=\"text-align: right;\">\n",
              "      <th></th>\n",
              "      <th>store</th>\n",
              "      <th>predictions</th>\n",
              "      <th>worst_scenario</th>\n",
              "      <th>best_scenario</th>\n",
              "      <th>MAE</th>\n",
              "      <th>MAPE</th>\n",
              "    </tr>\n",
              "  </thead>\n",
              "  <tbody>\n",
              "    <tr>\n",
              "      <th>291</th>\n",
              "      <td>292</td>\n",
              "      <td>104024.937500</td>\n",
              "      <td>100704.572831</td>\n",
              "      <td>107345.302169</td>\n",
              "      <td>3320.364669</td>\n",
              "      <td>0.570637</td>\n",
              "    </tr>\n",
              "    <tr>\n",
              "      <th>908</th>\n",
              "      <td>909</td>\n",
              "      <td>244212.890625</td>\n",
              "      <td>236653.837933</td>\n",
              "      <td>251771.943317</td>\n",
              "      <td>7559.052692</td>\n",
              "      <td>0.515193</td>\n",
              "    </tr>\n",
              "    <tr>\n",
              "      <th>875</th>\n",
              "      <td>876</td>\n",
              "      <td>201609.515625</td>\n",
              "      <td>197732.421610</td>\n",
              "      <td>205486.609640</td>\n",
              "      <td>3877.094015</td>\n",
              "      <td>0.293502</td>\n",
              "    </tr>\n",
              "    <tr>\n",
              "      <th>721</th>\n",
              "      <td>722</td>\n",
              "      <td>358672.156250</td>\n",
              "      <td>356525.854809</td>\n",
              "      <td>360818.457691</td>\n",
              "      <td>2146.301441</td>\n",
              "      <td>0.288606</td>\n",
              "    </tr>\n",
              "    <tr>\n",
              "      <th>717</th>\n",
              "      <td>718</td>\n",
              "      <td>195933.218750</td>\n",
              "      <td>193908.750653</td>\n",
              "      <td>197957.686847</td>\n",
              "      <td>2024.468097</td>\n",
              "      <td>0.276714</td>\n",
              "    </tr>\n",
              "  </tbody>\n",
              "</table>\n",
              "</div>"
            ],
            "text/plain": [
              "     store    predictions  worst_scenario  best_scenario          MAE      MAPE\n",
              "291    292  104024.937500   100704.572831  107345.302169  3320.364669  0.570637\n",
              "908    909  244212.890625   236653.837933  251771.943317  7559.052692  0.515193\n",
              "875    876  201609.515625   197732.421610  205486.609640  3877.094015  0.293502\n",
              "721    722  358672.156250   356525.854809  360818.457691  2146.301441  0.288606\n",
              "717    718  195933.218750   193908.750653  197957.686847  2024.468097  0.276714"
            ]
          },
          "metadata": {
            "tags": []
          },
          "execution_count": 73
        }
      ]
    },
    {
      "cell_type": "code",
      "metadata": {
        "colab": {
          "base_uri": "https://localhost:8080/",
          "height": 296
        },
        "id": "7xGnsiDzbl7h",
        "outputId": "ecf34389-e3fb-4415-f5e0-92a33fbf49dc"
      },
      "source": [
        "sns.scatterplot(x='store',y='MAPE', data=df92)"
      ],
      "execution_count": 74,
      "outputs": [
        {
          "output_type": "execute_result",
          "data": {
            "text/plain": [
              "<matplotlib.axes._subplots.AxesSubplot at 0x7fbabe61cad0>"
            ]
          },
          "metadata": {
            "tags": []
          },
          "execution_count": 74
        },
        {
          "output_type": "display_data",
          "data": {
            "image/png": "[encoded data removed]",
            "text/plain": [
              "<Figure size 432x288 with 1 Axes>"
            ]
          },
          "metadata": {
            "tags": [],
            "needs_background": "light"
          }
        }
      ]
    },
    {
      "cell_type": "markdown",
      "metadata": {
        "id": "kRIVVSn8Y23j"
      },
      "source": [
        "## 9.2 Total Performance"
      ]
    },
    {
      "cell_type": "code",
      "metadata": {
        "colab": {
          "base_uri": "https://localhost:8080/",
          "height": 142
        },
        "id": "Vp5HPSWSb_5v",
        "outputId": "4945e7f7-8192-4894-c84f-aef4d1db41e2"
      },
      "source": [
        "df93 = df92[['predictions', 'worst_scenario','best_scenario']].apply(lambda x: np.sum(x), axis=0).reset_index().rename(columns={'index': 'Scneario', 0:'Values'})\n",
        "df93['Values'] = df93['Values'].map('R$ {:,.2f}'.format)\n",
        "df93"
      ],
      "execution_count": 75,
      "outputs": [
        {
          "output_type": "execute_result",
          "data": {
            "text/html": [
              "<div>\n",
              "<style scoped>\n",
              "    .dataframe tbody tr th:only-of-type {\n",
              "        vertical-align: middle;\n",
              "    }\n",
              "\n",
              "    .dataframe tbody tr th {\n",
              "        vertical-align: top;\n",
              "    }\n",
              "\n",
              "    .dataframe thead th {\n",
              "        text-align: right;\n",
              "    }\n",
              "</style>\n",
              "<table border=\"1\" class=\"dataframe\">\n",
              "  <thead>\n",
              "    <tr style=\"text-align: right;\">\n",
              "      <th></th>\n",
              "      <th>Scneario</th>\n",
              "      <th>Values</th>\n",
              "    </tr>\n",
              "  </thead>\n",
              "  <tbody>\n",
              "    <tr>\n",
              "      <th>0</th>\n",
              "      <td>predictions</td>\n",
              "      <td>R$ 286,150,016.00</td>\n",
              "    </tr>\n",
              "    <tr>\n",
              "      <th>1</th>\n",
              "      <td>worst_scenario</td>\n",
              "      <td>R$ 285,401,124.72</td>\n",
              "    </tr>\n",
              "    <tr>\n",
              "      <th>2</th>\n",
              "      <td>best_scenario</td>\n",
              "      <td>R$ 286,898,936.70</td>\n",
              "    </tr>\n",
              "  </tbody>\n",
              "</table>\n",
              "</div>"
            ],
            "text/plain": [
              "         Scneario             Values\n",
              "0     predictions  R$ 286,150,016.00\n",
              "1  worst_scenario  R$ 285,401,124.72\n",
              "2   best_scenario  R$ 286,898,936.70"
            ]
          },
          "metadata": {
            "tags": []
          },
          "execution_count": 75
        }
      ]
    },
    {
      "cell_type": "markdown",
      "metadata": {
        "id": "QwGz-U2WY5Kd"
      },
      "source": [
        "## 9.3 ML Performance"
      ]
    },
    {
      "cell_type": "code",
      "metadata": {
        "colab": {
          "base_uri": "https://localhost:8080/"
        },
        "id": "dgz4KOLJYxoP",
        "outputId": "7fa4cede-a144-446e-8c88-81c0798fb5b5"
      },
      "source": [
        "df9['error'] = df9['sales'] - df9['predictions']\n",
        "df9['error_rate'] = df9['predictions']/df9['sales']"
      ],
      "execution_count": 76,
      "outputs": [
        {
          "output_type": "stream",
          "text": [
            "/usr/local/lib/python3.7/dist-packages/ipykernel_launcher.py:1: SettingWithCopyWarning: \n",
            "A value is trying to be set on a copy of a slice from a DataFrame.\n",
            "Try using .loc[row_indexer,col_indexer] = value instead\n",
            "\n",
            "See the caveats in the documentation: https://pandas.pydata.org/pandas-docs/stable/user_guide/indexing.html#returning-a-view-versus-a-copy\n",
            "  \"\"\"Entry point for launching an IPython kernel.\n",
            "/usr/local/lib/python3.7/dist-packages/ipykernel_launcher.py:2: SettingWithCopyWarning: \n",
            "A value is trying to be set on a copy of a slice from a DataFrame.\n",
            "Try using .loc[row_indexer,col_indexer] = value instead\n",
            "\n",
            "See the caveats in the documentation: https://pandas.pydata.org/pandas-docs/stable/user_guide/indexing.html#returning-a-view-versus-a-copy\n",
            "  \n"
          ],
          "name": "stderr"
        }
      ]
    },
    {
      "cell_type": "code",
      "metadata": {
        "colab": {
          "base_uri": "https://localhost:8080/",
          "height": 384
        },
        "id": "PTZixeQkYxsB",
        "outputId": "d2e3d622-ab01-423e-893e-a6ffaa944a3f"
      },
      "source": [
        "plt.subplot(2,2,1)\n",
        "sns.lineplot(x='date', y='sales', data=df9, label='SALES')\n",
        "sns.lineplot(x='date', y='predictions', data=df9, label='PREDICTIONS')\n",
        "\n",
        "plt.subplot(2,2,2)\n",
        "sns.lineplot(x='date', y='error_rate', data=df9)\n",
        "\n",
        "plt.subplot(2,2,3)\n",
        "sns.distplot(df9['error'])\n",
        "\n",
        "plt.subplot(2,2,4)\n",
        "sns.scatterplot(df9['error'])"
      ],
      "execution_count": 77,
      "outputs": [
        {
          "output_type": "stream",
          "text": [
            "/usr/local/lib/python3.7/dist-packages/seaborn/distributions.py:2557: FutureWarning: `distplot` is a deprecated function and will be removed in a future version. Please adapt your code to use either `displot` (a figure-level function with similar flexibility) or `histplot` (an axes-level function for histograms).\n",
            "  warnings.warn(msg, FutureWarning)\n",
            "/usr/local/lib/python3.7/dist-packages/seaborn/_decorators.py:43: FutureWarning: Pass the following variable as a keyword arg: x. From version 0.12, the only valid positional argument will be `data`, and passing other arguments without an explicit keyword will result in an error or misinterpretation.\n",
            "  FutureWarning\n"
          ],
          "name": "stderr"
        },
        {
          "output_type": "execute_result",
          "data": {
            "text/plain": [
              "<matplotlib.axes._subplots.AxesSubplot at 0x7fbabf4c5610>"
            ]
          },
          "metadata": {
            "tags": []
          },
          "execution_count": 77
        },
        {
          "output_type": "display_data",
          "data": {
            "image/png": "[encoded data removed]",
            "text/plain": [
              "<Figure size 432x288 with 4 Axes>"
            ]
          },
          "metadata": {
            "tags": [],
            "needs_background": "light"
          }
        }
      ]
    },
    {
      "cell_type": "code",
      "metadata": {
        "id": "fui9k6ZK2hoP"
      },
      "source": [
        "#pickle.dump(model_xgb_tuned, open('C:/Users/Henrique/data_science_producao/model.rossmann.pkl','wb'))"
      ],
      "execution_count": 78,
      "outputs": []
    }
  ]
}