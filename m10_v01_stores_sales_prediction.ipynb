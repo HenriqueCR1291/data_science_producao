{
  "nbformat": 4,
  "nbformat_minor": 0,
  "metadata": {
    "colab": {
      "name": "m10_v01_stores_sales_prediction.ipynb",
      "provenance": [],
      "collapsed_sections": [
        "uTGiCoKp88IF",
        "qLSNsd7f88IP",
        "t8t2uqO788IR",
        "zpMndeL688IY",
        "ldHnYXnq88IZ",
        "kTE0Z86-88Ia",
        "ZJvUn0k188Ic",
        "xLFBoXta88Ic",
        "vRjYmY3b88Id",
        "7vWtJQam88Id",
        "9pYdS9Q088Id",
        "dnqLtHds88Ie",
        "qXwpv6a288Ie",
        "NLvNZPSO88Ig",
        "uHBFcDMQ88Ih",
        "0BLS1Vlv88Ii",
        "O51ZKnXB88Ii",
        "mD2EEW7O88Ii",
        "XDzzU6eO88Ij",
        "Dy9bK2l288Ik",
        "6VVMeQs-88Ik",
        "0D5tEPL488Il",
        "sqyUwSG188Im",
        "Kkf5-U0v88Im",
        "gUdIZfGf88In",
        "sfQoR0Di88In",
        "GWGVQ7RW88Io",
        "ck9pKm1W88Io",
        "TCMh1Vlm88Ip",
        "BEW3MiDi88Ip",
        "6-L4VJ2288Iq",
        "SLff-OAx88Iq",
        "pkSXNOyN88Ir",
        "5-cnYu5688Ir",
        "b5yfqrdJ88Is",
        "ajCtNEgp88Is",
        "E0VgySKX88It",
        "N5QWXtYY88It",
        "gk7jEVFH88Iu",
        "hy_w2fG_88Iu",
        "cdehjqFW88Iv",
        "bDvQmVR088Iw",
        "GdmNUX8E88Iw",
        "aCTmRF__88Ix",
        "Kgujfegy88Iy",
        "5LdUd-k188Iy",
        "Bj_WZNCP88Iz",
        "yOSPBH91gnDQ",
        "PMdu_WS588Iz",
        "tqetVXFRkQYr",
        "imaJoT9z88I0",
        "hwngl6pZqYoA",
        "HW4hJQiQ88I0",
        "v48AjCOt5HHs",
        "Qrxz-iIp-c6V",
        "kuY74Tkz-iJz",
        "eIAWzfN8A2P1",
        "LukkZNDfXQ-T"
      ],
      "toc_visible": true
    },
    "kernelspec": {
      "display_name": "Python 3",
      "language": "python",
      "name": "python3"
    },
    "language_info": {
      "codemirror_mode": {
        "name": "ipython",
        "version": 3
      },
      "file_extension": ".py",
      "mimetype": "text/x-python",
      "name": "python",
      "nbconvert_exporter": "python",
      "pygments_lexer": "ipython3",
      "version": "3.8.5"
    }
  },
  "cells": [
    {
      "cell_type": "markdown",
      "metadata": {
        "id": "uTGiCoKp88IF"
      },
      "source": [
        "# 0.0 Imports"
      ]
    },
    {
      "cell_type": "code",
      "metadata": {
        "id": "smFU8C3FKlyX"
      },
      "source": [
        ""
      ],
      "execution_count": null,
      "outputs": []
    },
    {
      "cell_type": "code",
      "metadata": {
        "colab": {
          "base_uri": "https://localhost:8080/"
        },
        "id": "w-_KjU3D-NgV",
        "outputId": "cb79b461-10a3-4b84-d634-6319ee31bd9f"
      },
      "source": [
        "!pip install inflection\n",
        "!pip install boruta\n",
        "!pip install tabulate\n",
        "!pip install requests"
      ],
      "execution_count": 82,
      "outputs": [
        {
          "output_type": "stream",
          "text": [
            "Requirement already satisfied: inflection in /usr/local/lib/python3.7/dist-packages (0.5.1)\n",
            "Requirement already satisfied: boruta in /usr/local/lib/python3.7/dist-packages (0.3)\n",
            "Requirement already satisfied: scipy>=0.17.0 in /usr/local/lib/python3.7/dist-packages (from boruta) (1.4.1)\n",
            "Requirement already satisfied: scikit-learn>=0.17.1 in /usr/local/lib/python3.7/dist-packages (from boruta) (0.22.2.post1)\n",
            "Requirement already satisfied: numpy>=1.10.4 in /usr/local/lib/python3.7/dist-packages (from boruta) (1.19.5)\n",
            "Requirement already satisfied: joblib>=0.11 in /usr/local/lib/python3.7/dist-packages (from scikit-learn>=0.17.1->boruta) (1.0.1)\n",
            "Requirement already satisfied: tabulate in /usr/local/lib/python3.7/dist-packages (0.8.9)\n",
            "Requirement already satisfied: requests in /usr/local/lib/python3.7/dist-packages (2.23.0)\n",
            "Requirement already satisfied: certifi>=2017.4.17 in /usr/local/lib/python3.7/dist-packages (from requests) (2020.12.5)\n",
            "Requirement already satisfied: chardet<4,>=3.0.2 in /usr/local/lib/python3.7/dist-packages (from requests) (3.0.4)\n",
            "Requirement already satisfied: idna<3,>=2.5 in /usr/local/lib/python3.7/dist-packages (from requests) (2.10)\n",
            "Requirement already satisfied: urllib3!=1.25.0,!=1.25.1,<1.26,>=1.21.1 in /usr/local/lib/python3.7/dist-packages (from requests) (1.24.3)\n"
          ],
          "name": "stdout"
        }
      ]
    },
    {
      "cell_type": "code",
      "metadata": {
        "id": "QO7EQmLR88IN"
      },
      "source": [
        "import inflection\n",
        "import math\n",
        "import matplotlib\n",
        "import pickle\n",
        "import random\n",
        "import warnings\n",
        "\n",
        "import matplotlib.pyplot   as plt\n",
        "import matplotlib.gridspec as gs\n",
        "import numpy               as np\n",
        "import pandas              as pd\n",
        "import seaborn             as sns\n",
        "import xgboost             as xgb\n",
        "\n",
        "from boruta                import BorutaPy\n",
        "from datetime              import datetime, timedelta, date\n",
        "from IPython.core.display  import HTML\n",
        "from IPython.display       import Image\n",
        "from scipy                 import stats as ss\n",
        "from sklearn.ensemble      import RandomForestRegressor\n",
        "from sklearn.linear_model  import LinearRegression,Lasso\n",
        "from sklearn.metrics       import mean_absolute_error, mean_squared_error\n",
        "from sklearn.preprocessing import RobustScaler, MinMaxScaler, LabelEncoder\n",
        "from tabulate              import tabulate"
      ],
      "execution_count": 2,
      "outputs": []
    },
    {
      "cell_type": "markdown",
      "metadata": {
        "id": "qLSNsd7f88IP"
      },
      "source": [
        "## 0.1 Helper functions"
      ]
    },
    {
      "cell_type": "code",
      "metadata": {
        "id": "xWFRMXQu88IP"
      },
      "source": [
        "def cramer_v (a,b):\n",
        "    cm = pd.crosstab(a, b).values\n",
        "    \n",
        "    n = cm.sum()\n",
        "    k,r = cm.shape\n",
        "    \n",
        "    chi2 = ss.chi2_contingency(cm)[0]\n",
        "    chi2corr = max(0, chi2 - (k-1)*(r-1)/(n-1))\n",
        "    \n",
        "    kcorr = k - (k-1)**2/(n-1)\n",
        "    rcorr = r - (r-1)**2/(n-1)\n",
        "    \n",
        "    return np.sqrt((chi2corr/n)/(min(kcorr-1,rcorr-1)))\n",
        "\n",
        "def mean_absolute_percentage_error (y,yhat):\n",
        "    return np.mean(np.abs((y-yhat)/y))\n",
        "\n",
        "def ml_error (model_name, y, yhat):\n",
        "    mae = mean_absolute_error(y,yhat)\n",
        "    mape = mean_absolute_percentage_error(y,yhat)\n",
        "    rmse = np.sqrt(mean_squared_error(y,yhat))\n",
        "    \n",
        "    return pd.DataFrame({'Model Name': model_name,\n",
        "                        'MAE': mae,\n",
        "                        'MAPE': mape,\n",
        "                        'RMSE': rmse}, index=[0])\n",
        "\n",
        "def cross_validation(x_training, kfold, model_name, model, verbose=False):\n",
        "    mae_list = []\n",
        "    mape_list = []\n",
        "    rmse_list = []\n",
        "    for k in reversed(range(1,kfold+1)):\n",
        "      if verbose:\n",
        "        print('\\nKFold Number: {}'.format(k))\n",
        "            \n",
        "      #start and end date for validation\n",
        "      validation_start_date = x_training['date'].max() - timedelta(days=k*6*7)\n",
        "      validation_end_date = x_training['date'].max() - timedelta(days=(k-1)*6*7)\n",
        "    \n",
        "      #filtering dataset\n",
        "      training = x_training[x_training['date'] < validation_start_date]\n",
        "      validation = x_training[(x_training['date'] >= validation_start_date) & (x_training['date'] <= validation_end_date)]\n",
        "    \n",
        "      #training and validation dataset\n",
        "      #training\n",
        "      xtraining = training.drop(['date','sales'],axis=1)\n",
        "      ytraining = training['sales']\n",
        "    \n",
        "      #validation\n",
        "      xvalidation = validation.drop(['date','sales'],axis=1)\n",
        "      yvalidation = validation['sales']\n",
        "    \n",
        "      #model\n",
        "      m = model.fit(xtraining, ytraining)\n",
        "\n",
        "      #prediction\n",
        "      yhat = m.predict(xvalidation)\n",
        "    \n",
        "      #performance\n",
        "      m_result = ml_error(model_name, np.expm1(yvalidation), np.expm1(yhat))\n",
        "    \n",
        "      #store performance of each kfold iteration\n",
        "      mae_list.append(m_result['MAE'])\n",
        "      mape_list.append(m_result['MAPE'])\n",
        "      rmse_list.append(m_result['RMSE'])\n",
        "    \n",
        "    return pd.DataFrame({'MAE CV': [np.round(np.mean(mae_list),2).astype(str) + ' +/- ' + np.round(np.std(mae_list),2).astype(str)],\n",
        "                         'MAPE CV': [np.round(np.mean(mape_list),2).astype(str) + ' +/- ' + np.round(np.std(mape_list),2).astype(str)],\n",
        "                         'RMSE CV': [np.round(np.mean(rmse_list),2).astype(str) + ' +/- ' + np.round(np.std(rmse_list),2).astype(str)]\n",
        "                         })"
      ],
      "execution_count": 3,
      "outputs": []
    },
    {
      "cell_type": "markdown",
      "metadata": {
        "id": "VSPVsOUk88IQ"
      },
      "source": [
        "## 0.2 Loading Data"
      ]
    },
    {
      "cell_type": "code",
      "metadata": {
        "id": "8M1X9DaH88IR"
      },
      "source": [
        "df_store_raw = pd.read_csv('store.csv', low_memory=False)\n",
        "df_sales_raw = pd.read_csv('train.csv', low_memory=False)\n",
        "\n",
        "#merge\n",
        "df_raw = pd.merge(df_store_raw,df_sales_raw,how='left',on='Store')"
      ],
      "execution_count": 4,
      "outputs": []
    },
    {
      "cell_type": "markdown",
      "metadata": {
        "id": "t8t2uqO788IR"
      },
      "source": [
        "# 1.0 Descrição dos Dados"
      ]
    },
    {
      "cell_type": "code",
      "metadata": {
        "id": "aeZRQBVb88IS"
      },
      "source": [
        "df1 = df_raw.copy()"
      ],
      "execution_count": 5,
      "outputs": []
    },
    {
      "cell_type": "markdown",
      "metadata": {
        "id": "Bsj1ApcL88IS"
      },
      "source": [
        "## 1.1 Rename Columns"
      ]
    },
    {
      "cell_type": "code",
      "metadata": {
        "id": "nQIAAXew88IS"
      },
      "source": [
        "cols_old = ['Store', 'StoreType', 'Assortment', 'CompetitionDistance',\n",
        "       'CompetitionOpenSinceMonth', 'CompetitionOpenSinceYear', 'Promo2',\n",
        "       'Promo2SinceWeek', 'Promo2SinceYear', 'PromoInterval', 'DayOfWeek',\n",
        "       'Date', 'Sales', 'Customers', 'Open', 'Promo', 'StateHoliday',\n",
        "       'SchoolHoliday']\n",
        "\n",
        "sneakcase = lambda x: inflection.underscore (x)\n",
        "\n",
        "cols_new = list(map(sneakcase,cols_old))\n",
        "\n",
        "df1.columns = cols_new"
      ],
      "execution_count": 6,
      "outputs": []
    },
    {
      "cell_type": "markdown",
      "metadata": {
        "id": "nKF5KXn088IT"
      },
      "source": [
        "## 1.2 Data Dimensions"
      ]
    },
    {
      "cell_type": "code",
      "metadata": {
        "colab": {
          "base_uri": "https://localhost:8080/"
        },
        "id": "ulfa-5n488IT",
        "outputId": "a9984c17-c3aa-4098-edd6-7bcfd693d9dd"
      },
      "source": [
        "print('Number of columns:', format(df1.shape[1]))\n",
        "print('Number of rows:', format(df1.shape[0]))"
      ],
      "execution_count": 7,
      "outputs": [
        {
          "output_type": "stream",
          "text": [
            "Number of columns: 18\n",
            "Number of rows: 1017209\n"
          ],
          "name": "stdout"
        }
      ]
    },
    {
      "cell_type": "markdown",
      "metadata": {
        "id": "nhoCp74a88IV"
      },
      "source": [
        "## 1.3 Data types"
      ]
    },
    {
      "cell_type": "code",
      "metadata": {
        "colab": {
          "base_uri": "https://localhost:8080/"
        },
        "id": "9Iq4qqtK88IV",
        "outputId": "0e9ea9eb-b773-4d9b-a7d5-a3b59c9fdfeb"
      },
      "source": [
        "df1['date'] = pd.to_datetime(df1['date'])\n",
        "df1.dtypes"
      ],
      "execution_count": 8,
      "outputs": [
        {
          "output_type": "execute_result",
          "data": {
            "text/plain": [
              "store                                    int64\n",
              "store_type                              object\n",
              "assortment                              object\n",
              "competition_distance                   float64\n",
              "competition_open_since_month           float64\n",
              "competition_open_since_year            float64\n",
              "promo2                                   int64\n",
              "promo2_since_week                      float64\n",
              "promo2_since_year                      float64\n",
              "promo_interval                          object\n",
              "day_of_week                              int64\n",
              "date                            datetime64[ns]\n",
              "sales                                    int64\n",
              "customers                                int64\n",
              "open                                     int64\n",
              "promo                                    int64\n",
              "state_holiday                           object\n",
              "school_holiday                           int64\n",
              "dtype: object"
            ]
          },
          "metadata": {
            "tags": []
          },
          "execution_count": 8
        }
      ]
    },
    {
      "cell_type": "markdown",
      "metadata": {
        "id": "p-1UBHBI88IV"
      },
      "source": [
        "## 1.4 Check NA"
      ]
    },
    {
      "cell_type": "code",
      "metadata": {
        "colab": {
          "base_uri": "https://localhost:8080/"
        },
        "id": "2yTq2uTX88IW",
        "outputId": "538b915b-d6e5-45a6-900f-16b1ff310a6d"
      },
      "source": [
        "df1.isna().sum()"
      ],
      "execution_count": 9,
      "outputs": [
        {
          "output_type": "execute_result",
          "data": {
            "text/plain": [
              "store                                0\n",
              "store_type                           0\n",
              "assortment                           0\n",
              "competition_distance              2642\n",
              "competition_open_since_month    323348\n",
              "competition_open_since_year     323348\n",
              "promo2                               0\n",
              "promo2_since_week               508031\n",
              "promo2_since_year               508031\n",
              "promo_interval                  508031\n",
              "day_of_week                          0\n",
              "date                                 0\n",
              "sales                                0\n",
              "customers                            0\n",
              "open                                 0\n",
              "promo                                0\n",
              "state_holiday                        0\n",
              "school_holiday                       0\n",
              "dtype: int64"
            ]
          },
          "metadata": {
            "tags": []
          },
          "execution_count": 9
        }
      ]
    },
    {
      "cell_type": "markdown",
      "metadata": {
        "id": "HWXAW03x88IW"
      },
      "source": [
        "## 1.5 Fillout NA"
      ]
    },
    {
      "cell_type": "code",
      "metadata": {
        "id": "tbDjcUwN88IW"
      },
      "source": [
        "#competition_distance\n",
        "df1['competition_distance'] = df1['competition_distance'].apply(lambda x: 200000.0 if math.isnan(x) else x)\n",
        "\n",
        "#competition_open_since_month\n",
        "df1['competition_open_since_month'] = df1.apply(lambda x: x['date'].month if math.isnan (x['competition_open_since_month']) else x['competition_open_since_month'], axis=1)\n",
        "\n",
        "#competition_open_since_year\n",
        "df1['competition_open_since_year'] = df1.apply(lambda x: x['date'].year if math.isnan (x['competition_open_since_year']) else x['competition_open_since_year'], axis=1)\n",
        "\n",
        "#promo2_since_week\n",
        "df1['promo2_since_week'] = df1.apply(lambda x: x['date'].week if math.isnan (x['promo2_since_week']) else x['promo2_since_week'],axis=1)\n",
        "\n",
        "#promo2_since_year\n",
        "df1['promo2_since_year'] = df1.apply(lambda x: x['date'].year if math.isnan (x['promo2_since_year']) else x['promo2_since_year'],axis=1)\n",
        "\n",
        "#promo_interval\n",
        "month_map = {1: 'Jan', 2:'Fev', 3:'Mar', 4:'Abr', 5:'May', 6:'Jun', 7:'Jul', 8:'Ago', 9:'Set', 10:'Oct', 11:'Nov', 12:'Dec'}\n",
        "\n",
        "df1['promo_interval'].fillna(0,inplace=True)\n",
        "\n",
        "df1['month_map'] = df1['date'].dt.month.map(month_map)\n",
        "\n",
        "df1['is_promo'] = df1[['promo_interval','month_map']].apply(lambda x: 0 if x['promo_interval'] == 0 else 1 if x['month_map'] in x['promo_interval'].split(',') else 0, axis=1)"
      ],
      "execution_count": 10,
      "outputs": []
    },
    {
      "cell_type": "markdown",
      "metadata": {
        "id": "RNzb3TE188IX"
      },
      "source": [
        "## 1.6 Change Types"
      ]
    },
    {
      "cell_type": "code",
      "metadata": {
        "id": "JB0MCg2r88IY"
      },
      "source": [
        "df1['competition_open_since_month'] = df1['competition_open_since_month'].astype('int64')\n",
        "df1['competition_open_since_year'] = df1['competition_open_since_year'].astype('int64')\n",
        "\n",
        "df1['promo2_since_week'] = df1['promo2_since_week'].astype('int64')\n",
        "df1['promo2_since_year'] = df1['promo2_since_year'].astype('int64')"
      ],
      "execution_count": 11,
      "outputs": []
    },
    {
      "cell_type": "markdown",
      "metadata": {
        "id": "zpMndeL688IY"
      },
      "source": [
        "## 1.7 Descriptive Statistical"
      ]
    },
    {
      "cell_type": "code",
      "metadata": {
        "id": "FQfhmx1188IY"
      },
      "source": [
        "num_attributes = df1.select_dtypes(include=['int64','float64'])\n",
        "cat_attributes = df1.select_dtypes(exclude=['int64','float64','datetime64[ns]'])"
      ],
      "execution_count": 12,
      "outputs": []
    },
    {
      "cell_type": "markdown",
      "metadata": {
        "id": "ldHnYXnq88IZ"
      },
      "source": [
        "### 1.7.1 Numerical Attributes"
      ]
    },
    {
      "cell_type": "code",
      "metadata": {
        "colab": {
          "base_uri": "https://localhost:8080/",
          "height": 0
        },
        "id": "znFSD-We88IZ",
        "outputId": "8dc91ba4-7ad2-466b-8416-0266c7aa12b0"
      },
      "source": [
        "#central tendency - mean, median\n",
        "ct1 = pd.DataFrame(num_attributes.apply(np.mean)).T\n",
        "ct2 = pd.DataFrame(num_attributes.apply(np.median)).T\n",
        "\n",
        "#Dispersion - std, min, max, range, skew, kurtosis\n",
        "d1 = pd.DataFrame(num_attributes.apply(min)).T\n",
        "d2 = pd.DataFrame(num_attributes.apply(max)).T\n",
        "d3 = pd.DataFrame(num_attributes.apply(lambda x: x.max() - x.min())).T\n",
        "d4 = pd.DataFrame(num_attributes.apply(np.std)).T\n",
        "d5 = pd.DataFrame(num_attributes.apply(lambda x: x.skew())).T\n",
        "d6 = pd.DataFrame(num_attributes.apply(lambda x: x.kurtosis())).T\n",
        "\n",
        "#concatenate\n",
        "m = pd.concat([d1,d2,d3,ct1,ct2,d4,d5,d6]).T.reset_index()\n",
        "m.columns = ['attributes','min','max','range','mean','median','std','skew','kurtosis']\n",
        "m"
      ],
      "execution_count": 13,
      "outputs": [
        {
          "output_type": "execute_result",
          "data": {
            "text/html": [
              "<div>\n",
              "<style scoped>\n",
              "    .dataframe tbody tr th:only-of-type {\n",
              "        vertical-align: middle;\n",
              "    }\n",
              "\n",
              "    .dataframe tbody tr th {\n",
              "        vertical-align: top;\n",
              "    }\n",
              "\n",
              "    .dataframe thead th {\n",
              "        text-align: right;\n",
              "    }\n",
              "</style>\n",
              "<table border=\"1\" class=\"dataframe\">\n",
              "  <thead>\n",
              "    <tr style=\"text-align: right;\">\n",
              "      <th></th>\n",
              "      <th>attributes</th>\n",
              "      <th>min</th>\n",
              "      <th>max</th>\n",
              "      <th>range</th>\n",
              "      <th>mean</th>\n",
              "      <th>median</th>\n",
              "      <th>std</th>\n",
              "      <th>skew</th>\n",
              "      <th>kurtosis</th>\n",
              "    </tr>\n",
              "  </thead>\n",
              "  <tbody>\n",
              "    <tr>\n",
              "      <th>0</th>\n",
              "      <td>store</td>\n",
              "      <td>1.0</td>\n",
              "      <td>1115.0</td>\n",
              "      <td>1114.0</td>\n",
              "      <td>558.429727</td>\n",
              "      <td>558.0</td>\n",
              "      <td>321.908493</td>\n",
              "      <td>-0.000955</td>\n",
              "      <td>-1.200524</td>\n",
              "    </tr>\n",
              "    <tr>\n",
              "      <th>1</th>\n",
              "      <td>competition_distance</td>\n",
              "      <td>20.0</td>\n",
              "      <td>200000.0</td>\n",
              "      <td>199980.0</td>\n",
              "      <td>5935.442677</td>\n",
              "      <td>2330.0</td>\n",
              "      <td>12547.646829</td>\n",
              "      <td>10.242344</td>\n",
              "      <td>147.789712</td>\n",
              "    </tr>\n",
              "    <tr>\n",
              "      <th>2</th>\n",
              "      <td>competition_open_since_month</td>\n",
              "      <td>1.0</td>\n",
              "      <td>12.0</td>\n",
              "      <td>11.0</td>\n",
              "      <td>6.786849</td>\n",
              "      <td>7.0</td>\n",
              "      <td>3.311085</td>\n",
              "      <td>-0.042076</td>\n",
              "      <td>-1.232607</td>\n",
              "    </tr>\n",
              "    <tr>\n",
              "      <th>3</th>\n",
              "      <td>competition_open_since_year</td>\n",
              "      <td>1900.0</td>\n",
              "      <td>2015.0</td>\n",
              "      <td>115.0</td>\n",
              "      <td>2010.324840</td>\n",
              "      <td>2012.0</td>\n",
              "      <td>5.515591</td>\n",
              "      <td>-7.235657</td>\n",
              "      <td>124.071304</td>\n",
              "    </tr>\n",
              "    <tr>\n",
              "      <th>4</th>\n",
              "      <td>promo2</td>\n",
              "      <td>0.0</td>\n",
              "      <td>1.0</td>\n",
              "      <td>1.0</td>\n",
              "      <td>0.500564</td>\n",
              "      <td>1.0</td>\n",
              "      <td>0.500000</td>\n",
              "      <td>-0.002255</td>\n",
              "      <td>-1.999999</td>\n",
              "    </tr>\n",
              "    <tr>\n",
              "      <th>5</th>\n",
              "      <td>promo2_since_week</td>\n",
              "      <td>1.0</td>\n",
              "      <td>52.0</td>\n",
              "      <td>51.0</td>\n",
              "      <td>23.619033</td>\n",
              "      <td>22.0</td>\n",
              "      <td>14.310057</td>\n",
              "      <td>0.178723</td>\n",
              "      <td>-1.184046</td>\n",
              "    </tr>\n",
              "    <tr>\n",
              "      <th>6</th>\n",
              "      <td>promo2_since_year</td>\n",
              "      <td>2009.0</td>\n",
              "      <td>2015.0</td>\n",
              "      <td>6.0</td>\n",
              "      <td>2012.793297</td>\n",
              "      <td>2013.0</td>\n",
              "      <td>1.662657</td>\n",
              "      <td>-0.784436</td>\n",
              "      <td>-0.210075</td>\n",
              "    </tr>\n",
              "    <tr>\n",
              "      <th>7</th>\n",
              "      <td>day_of_week</td>\n",
              "      <td>1.0</td>\n",
              "      <td>7.0</td>\n",
              "      <td>6.0</td>\n",
              "      <td>3.998341</td>\n",
              "      <td>4.0</td>\n",
              "      <td>1.997390</td>\n",
              "      <td>0.001593</td>\n",
              "      <td>-1.246873</td>\n",
              "    </tr>\n",
              "    <tr>\n",
              "      <th>8</th>\n",
              "      <td>sales</td>\n",
              "      <td>0.0</td>\n",
              "      <td>41551.0</td>\n",
              "      <td>41551.0</td>\n",
              "      <td>5773.818972</td>\n",
              "      <td>5744.0</td>\n",
              "      <td>3849.924283</td>\n",
              "      <td>0.641460</td>\n",
              "      <td>1.778375</td>\n",
              "    </tr>\n",
              "    <tr>\n",
              "      <th>9</th>\n",
              "      <td>customers</td>\n",
              "      <td>0.0</td>\n",
              "      <td>7388.0</td>\n",
              "      <td>7388.0</td>\n",
              "      <td>633.145946</td>\n",
              "      <td>609.0</td>\n",
              "      <td>464.411506</td>\n",
              "      <td>1.598650</td>\n",
              "      <td>7.091773</td>\n",
              "    </tr>\n",
              "    <tr>\n",
              "      <th>10</th>\n",
              "      <td>open</td>\n",
              "      <td>0.0</td>\n",
              "      <td>1.0</td>\n",
              "      <td>1.0</td>\n",
              "      <td>0.830107</td>\n",
              "      <td>1.0</td>\n",
              "      <td>0.375539</td>\n",
              "      <td>-1.758045</td>\n",
              "      <td>1.090723</td>\n",
              "    </tr>\n",
              "    <tr>\n",
              "      <th>11</th>\n",
              "      <td>promo</td>\n",
              "      <td>0.0</td>\n",
              "      <td>1.0</td>\n",
              "      <td>1.0</td>\n",
              "      <td>0.381515</td>\n",
              "      <td>0.0</td>\n",
              "      <td>0.485758</td>\n",
              "      <td>0.487838</td>\n",
              "      <td>-1.762018</td>\n",
              "    </tr>\n",
              "    <tr>\n",
              "      <th>12</th>\n",
              "      <td>school_holiday</td>\n",
              "      <td>0.0</td>\n",
              "      <td>1.0</td>\n",
              "      <td>1.0</td>\n",
              "      <td>0.178647</td>\n",
              "      <td>0.0</td>\n",
              "      <td>0.383056</td>\n",
              "      <td>1.677842</td>\n",
              "      <td>0.815154</td>\n",
              "    </tr>\n",
              "    <tr>\n",
              "      <th>13</th>\n",
              "      <td>is_promo</td>\n",
              "      <td>0.0</td>\n",
              "      <td>1.0</td>\n",
              "      <td>1.0</td>\n",
              "      <td>0.118307</td>\n",
              "      <td>0.0</td>\n",
              "      <td>0.322971</td>\n",
              "      <td>2.363637</td>\n",
              "      <td>3.586787</td>\n",
              "    </tr>\n",
              "  </tbody>\n",
              "</table>\n",
              "</div>"
            ],
            "text/plain": [
              "                      attributes     min  ...       skew    kurtosis\n",
              "0                          store     1.0  ...  -0.000955   -1.200524\n",
              "1           competition_distance    20.0  ...  10.242344  147.789712\n",
              "2   competition_open_since_month     1.0  ...  -0.042076   -1.232607\n",
              "3    competition_open_since_year  1900.0  ...  -7.235657  124.071304\n",
              "4                         promo2     0.0  ...  -0.002255   -1.999999\n",
              "5              promo2_since_week     1.0  ...   0.178723   -1.184046\n",
              "6              promo2_since_year  2009.0  ...  -0.784436   -0.210075\n",
              "7                    day_of_week     1.0  ...   0.001593   -1.246873\n",
              "8                          sales     0.0  ...   0.641460    1.778375\n",
              "9                      customers     0.0  ...   1.598650    7.091773\n",
              "10                          open     0.0  ...  -1.758045    1.090723\n",
              "11                         promo     0.0  ...   0.487838   -1.762018\n",
              "12                school_holiday     0.0  ...   1.677842    0.815154\n",
              "13                      is_promo     0.0  ...   2.363637    3.586787\n",
              "\n",
              "[14 rows x 9 columns]"
            ]
          },
          "metadata": {
            "tags": []
          },
          "execution_count": 13
        }
      ]
    },
    {
      "cell_type": "markdown",
      "metadata": {
        "id": "kTE0Z86-88Ia"
      },
      "source": [
        "### 1.7.2 Categorical Attributes"
      ]
    },
    {
      "cell_type": "code",
      "metadata": {
        "colab": {
          "base_uri": "https://localhost:8080/"
        },
        "id": "ihEj_CpS88Ia",
        "outputId": "93f393ca-cccd-4b5f-96d0-530465db5cab"
      },
      "source": [
        "cat_attributes.apply(lambda x: x.unique().shape[0])"
      ],
      "execution_count": 14,
      "outputs": [
        {
          "output_type": "execute_result",
          "data": {
            "text/plain": [
              "store_type         4\n",
              "assortment         3\n",
              "promo_interval     4\n",
              "state_holiday      4\n",
              "month_map         12\n",
              "dtype: int64"
            ]
          },
          "metadata": {
            "tags": []
          },
          "execution_count": 14
        }
      ]
    },
    {
      "cell_type": "code",
      "metadata": {
        "colab": {
          "base_uri": "https://localhost:8080/",
          "height": 0
        },
        "id": "mOLCfuGj88Ia",
        "outputId": "4ed9a5ba-28ea-43f2-9aea-aa267ded8275"
      },
      "source": [
        "aux1 = df1[(df1['state_holiday'] != '0') & (df1['sales'] > 0)]\n",
        "\n",
        "#plt.subplot(1,3,1)\n",
        "sns.boxplot(x='state_holiday', y='sales', data=aux1)"
      ],
      "execution_count": 15,
      "outputs": [
        {
          "output_type": "execute_result",
          "data": {
            "text/plain": [
              "<matplotlib.axes._subplots.AxesSubplot at 0x7effba066050>"
            ]
          },
          "metadata": {
            "tags": []
          },
          "execution_count": 15
        },
        {
          "output_type": "display_data",
          "data": {
            "image/png": "[encoded data removed]",
            "text/plain": [
              "<Figure size 432x288 with 1 Axes>"
            ]
          },
          "metadata": {
            "tags": [],
            "needs_background": "light"
          }
        }
      ]
    },
    {
      "cell_type": "code",
      "metadata": {
        "colab": {
          "base_uri": "https://localhost:8080/",
          "height": 0
        },
        "id": "-VvsWpb788Ib",
        "outputId": "bb6b95af-3978-4b92-fb40-91e72eed25c7"
      },
      "source": [
        "sns.boxplot(x='store_type', y='sales', data=aux1)"
      ],
      "execution_count": 16,
      "outputs": [
        {
          "output_type": "execute_result",
          "data": {
            "text/plain": [
              "<matplotlib.axes._subplots.AxesSubplot at 0x7eff8d98cf50>"
            ]
          },
          "metadata": {
            "tags": []
          },
          "execution_count": 16
        },
        {
          "output_type": "display_data",
          "data": {
            "image/png": "[encoded data removed]",
            "text/plain": [
              "<Figure size 432x288 with 1 Axes>"
            ]
          },
          "metadata": {
            "tags": [],
            "needs_background": "light"
          }
        }
      ]
    },
    {
      "cell_type": "code",
      "metadata": {
        "colab": {
          "base_uri": "https://localhost:8080/",
          "height": 0
        },
        "id": "NqA_RVkr88Ib",
        "outputId": "33ece729-78f4-4467-e954-af48f1098d8f"
      },
      "source": [
        "sns.boxplot(x='assortment', y='sales', data=aux1)"
      ],
      "execution_count": 17,
      "outputs": [
        {
          "output_type": "execute_result",
          "data": {
            "text/plain": [
              "<matplotlib.axes._subplots.AxesSubplot at 0x7effaadec710>"
            ]
          },
          "metadata": {
            "tags": []
          },
          "execution_count": 17
        },
        {
          "output_type": "display_data",
          "data": {
            "image/png": "[encoded data removed]",
            "text/plain": [
              "<Figure size 432x288 with 1 Axes>"
            ]
          },
          "metadata": {
            "tags": [],
            "needs_background": "light"
          }
        }
      ]
    },
    {
      "cell_type": "markdown",
      "metadata": {
        "id": "ZJvUn0k188Ic"
      },
      "source": [
        "# 2.0 Feature Engineering"
      ]
    },
    {
      "cell_type": "code",
      "metadata": {
        "id": "4au2Kw8B88Ic"
      },
      "source": [
        "df2 = df1.copy()"
      ],
      "execution_count": 18,
      "outputs": []
    },
    {
      "cell_type": "markdown",
      "metadata": {
        "id": "xLFBoXta88Ic"
      },
      "source": [
        "## 2.1 Mind Map Hypothesis"
      ]
    },
    {
      "cell_type": "code",
      "metadata": {
        "colab": {
          "base_uri": "https://localhost:8080/",
          "height": 0
        },
        "id": "z1myPIsA88Ic",
        "outputId": "6c6015bb-091b-484b-b199-e4781cd6cfa3"
      },
      "source": [
        "Image('img\\MindMapHypothesis.png')\n"
      ],
      "execution_count": 19,
      "outputs": [
        {
          "output_type": "execute_result",
          "data": {
            "image/png": "img\\MindMapHypothesis.png",
            "text/plain": [
              "<IPython.core.display.Image object>"
            ]
          },
          "metadata": {
            "tags": []
          },
          "execution_count": 19
        }
      ]
    },
    {
      "cell_type": "markdown",
      "metadata": {
        "id": "vRjYmY3b88Id"
      },
      "source": [
        "## 2.2 Hypothesis Creation"
      ]
    },
    {
      "cell_type": "markdown",
      "metadata": {
        "id": "7vWtJQam88Id"
      },
      "source": [
        "### 2.1.1 Store Hypothesis "
      ]
    },
    {
      "cell_type": "markdown",
      "metadata": {
        "id": "ctvXckhg88Id"
      },
      "source": [
        "**1.** Lojas com maior número de funcionários deveriam vender mais.\n",
        "\n",
        "**2.** Lojas com maior capacidade de estoque deveriam vender mais.\n",
        "\n",
        "**3.** Lojas com maior porte deveriam vender mais.\n",
        "\n",
        "**4.** Lojas com maior sortimento deveriam vender mais.\n",
        "\n",
        "**5.** Lojas com mais competidores deveriam vender menos.\n",
        "\n",
        "**6.** Lojas com competidores à mais tempo deveriam vender mais."
      ]
    },
    {
      "cell_type": "markdown",
      "metadata": {
        "id": "9pYdS9Q088Id"
      },
      "source": [
        "### 2.1.2 Product Hypothesis"
      ]
    },
    {
      "cell_type": "markdown",
      "metadata": {
        "id": "rzlDeA2c88Id"
      },
      "source": [
        "**1.** Lojas que investem mais em marketing deveriam vender mais.\n",
        "\n",
        "**2.** Lojas com maior exposição do produto deveriam vender mais.\n",
        "\n",
        "**3.** Lojas com produtos com preço menor deveriam vender mais.\n",
        "\n",
        "**4.** Lojas com descontos maiores deveriam vender mais.\n",
        "\n",
        "**5.** Lojas com promoções ativas por mais tempo deveriam vender mais.\n",
        "\n",
        "**6.** Lojas com promoções mais longas deveriam vender mais.\n",
        "\n",
        "**7.** Lojas com promoções consecutivas deveriam vender mais."
      ]
    },
    {
      "cell_type": "markdown",
      "metadata": {
        "id": "dnqLtHds88Ie"
      },
      "source": [
        "### 2.1.3 Time Hypothesis"
      ]
    },
    {
      "cell_type": "markdown",
      "metadata": {
        "id": "OxJnYQDY88Ie"
      },
      "source": [
        "**1.** Lojas abertas durante o Natal deveriam vender mais.\n",
        "\n",
        "**2.** Lojas deveriam vender mais ao longo do ano.\n",
        "\n",
        "**3.** Lojas deveriam vender mais no segundo semestre do ano.\n",
        "\n",
        "**4.** Lojas deveriam vender mais depois do dia 10 de cada mês.\n",
        "\n",
        "**5.** Lojas deveriam vender menos aos finais de semana.\n",
        "\n",
        "**6.** Lojas deveriam vender menos durante os feriados escolares."
      ]
    },
    {
      "cell_type": "markdown",
      "metadata": {
        "id": "qXwpv6a288Ie"
      },
      "source": [
        "## 2.2 Final Hypothesis"
      ]
    },
    {
      "cell_type": "markdown",
      "metadata": {
        "id": "Fz9tY8uU88Ie"
      },
      "source": [
        "**1.** Lojas com maior sortimento deveriam vender mais.\n",
        "\n",
        "**2.** Lojas com mais competidores deveriam vender menos.\n",
        "\n",
        "**3.** Lojas com competidores à mais tempo deveriam vender mais.\n",
        "\n",
        "**4.** Lojas com promoções ativas por mais tempo deveriam vender mais.\n",
        "\n",
        "**5.** Lojas com promoções mais longas deveriam vender mais.\n",
        "\n",
        "**6.** Lojas com promoções consecutivas deveriam vender mais.\n",
        "\n",
        "**7.** Lojas abertas durante o Natal deveriam vender mais.\n",
        "\n",
        "**8.** Lojas deveriam vender mais ao longo do ano.\n",
        "\n",
        "**9.** Lojas deveriam vender mais no segundo semestre do ano.\n",
        "\n",
        "**10.** Lojas deveriam vender mais depois do dia 10 de cada mês.\n",
        "\n",
        "**11.** Lojas deveriam vender menos aos finais de semana.\n",
        "\n",
        "**12.** Lojas deveriam vender menos durante os feriados escolares."
      ]
    },
    {
      "cell_type": "markdown",
      "metadata": {
        "id": "GN_dsolH88If"
      },
      "source": [
        "## 2.3 Feature Engineering"
      ]
    },
    {
      "cell_type": "code",
      "metadata": {
        "id": "UgTNyWsH88If"
      },
      "source": [
        "#year\n",
        "df2['year'] = df2['date'].dt.year\n",
        "\n",
        "#month\n",
        "df2['month'] = df2['date'].dt.month\n",
        "\n",
        "#day\n",
        "df2['day'] = df2['date'].dt.day\n",
        "\n",
        "#week_of_year\n",
        "df2['week_of_year'] = df2['date'].dt.isocalendar().week\n",
        "\n",
        "#year_week\n",
        "df2['year_week'] = df2['date'].dt.strftime('%Y-%W')\n",
        "\n",
        "#competition_since\n",
        "df2['competition_since'] = df2.apply(lambda x: datetime(year=x['competition_open_since_year'],month=x['competition_open_since_month'],day=1),axis=1)\n",
        "df2['competition_time_month'] = ((df2['date']-df2['competition_since'])/30).apply(lambda x: x.days).astype(int)\n",
        "\n",
        "#promo_since\n",
        "df2['promo_since'] = df2['promo2_since_year'].astype(str) + '-' + df2['promo2_since_week'].astype(str)\n",
        "df2['promo_since'] = df2['promo_since'].apply(lambda x: datetime.strptime(x + '-1', '%Y-%W-%w')- timedelta(days=7))\n",
        "df2['promo_time_week'] = ((df2['date']-df2['promo_since'])/7).apply(lambda x: x.days).astype(int)\n",
        "\n",
        "#assortment\n",
        "df2['assortment'] = df2['assortment'].apply(lambda x: 'basic' if x == 'a' else 'extra' if x == 'b' else 'extended')\n",
        "\n",
        "#state_holiday\n",
        "df2['state_holiday'] = df2['state_holiday'].apply(lambda x: 'public_holiday' if x == 'a' else 'easter_holiday' if x == 'b' else 'christmas' if x == 'c' else 'regular_day')"
      ],
      "execution_count": 20,
      "outputs": []
    },
    {
      "cell_type": "markdown",
      "metadata": {
        "id": "NLvNZPSO88Ig"
      },
      "source": [
        "# 3.0 Filtering Variables"
      ]
    },
    {
      "cell_type": "code",
      "metadata": {
        "id": "Ausue4TN88Ig"
      },
      "source": [
        "df3 = df2.copy()"
      ],
      "execution_count": 21,
      "outputs": []
    },
    {
      "cell_type": "markdown",
      "metadata": {
        "id": "U814hujP88Ig"
      },
      "source": [
        "## 3.1 Filtering lines"
      ]
    },
    {
      "cell_type": "code",
      "metadata": {
        "id": "rngpjtUz88Ig"
      },
      "source": [
        "df3 = df3[(df3['open'] != 0) & (df3['sales'] > 0)]"
      ],
      "execution_count": 22,
      "outputs": []
    },
    {
      "cell_type": "markdown",
      "metadata": {
        "id": "Og2Bamd788Ih"
      },
      "source": [
        "## 3.2 Filtering cols"
      ]
    },
    {
      "cell_type": "code",
      "metadata": {
        "id": "kr_JKChX88Ih"
      },
      "source": [
        "cols_drop = ['customers', 'open', 'promo_interval', 'month_map']\n",
        "df3 = df3.drop(cols_drop, axis=1)"
      ],
      "execution_count": 23,
      "outputs": []
    },
    {
      "cell_type": "markdown",
      "metadata": {
        "id": "uHBFcDMQ88Ih"
      },
      "source": [
        "# 4.0 Exploratory Data Analysis"
      ]
    },
    {
      "cell_type": "code",
      "metadata": {
        "id": "9-BYYp6R88Ih"
      },
      "source": [
        "df4 = df3.copy()"
      ],
      "execution_count": 24,
      "outputs": []
    },
    {
      "cell_type": "markdown",
      "metadata": {
        "id": "0BLS1Vlv88Ii"
      },
      "source": [
        "## 4.1 Univariate Analysis"
      ]
    },
    {
      "cell_type": "markdown",
      "metadata": {
        "id": "O51ZKnXB88Ii"
      },
      "source": [
        "### 4.1.1 Response variable"
      ]
    },
    {
      "cell_type": "code",
      "metadata": {
        "colab": {
          "base_uri": "https://localhost:8080/",
          "height": 0
        },
        "id": "ppm4HDvp88Ii",
        "outputId": "413f8712-6541-4447-8c3e-59f37378ae61"
      },
      "source": [
        "sns.displot(df4['sales'], kde=True)"
      ],
      "execution_count": 25,
      "outputs": [
        {
          "output_type": "execute_result",
          "data": {
            "text/plain": [
              "<seaborn.axisgrid.FacetGrid at 0x7effaae30bd0>"
            ]
          },
          "metadata": {
            "tags": []
          },
          "execution_count": 25
        },
        {
          "output_type": "display_data",
          "data": {
            "image/png": "[encoded data removed]",
            "text/plain": [
              "<Figure size 360x360 with 1 Axes>"
            ]
          },
          "metadata": {
            "tags": [],
            "needs_background": "light"
          }
        }
      ]
    },
    {
      "cell_type": "markdown",
      "metadata": {
        "id": "mD2EEW7O88Ii"
      },
      "source": [
        "### 4.1.2 Numeric variable"
      ]
    },
    {
      "cell_type": "code",
      "metadata": {
        "colab": {
          "base_uri": "https://localhost:8080/",
          "height": 0
        },
        "id": "J9JXP-9988Ij",
        "outputId": "a2953b5e-3732-44f4-fd2b-eb1438b2d7dc"
      },
      "source": [
        "num_attributes.hist(bins=25);"
      ],
      "execution_count": 26,
      "outputs": [
        {
          "output_type": "display_data",
          "data": {
            "image/png": "[encoded data removed]",
            "text/plain": [
              "<Figure size 432x288 with 16 Axes>"
            ]
          },
          "metadata": {
            "tags": [],
            "needs_background": "light"
          }
        }
      ]
    },
    {
      "cell_type": "markdown",
      "metadata": {
        "id": "XDzzU6eO88Ij"
      },
      "source": [
        "### 4.1.3 Categorical variable"
      ]
    },
    {
      "cell_type": "code",
      "metadata": {
        "colab": {
          "base_uri": "https://localhost:8080/",
          "height": 0
        },
        "id": "ESSZRZY388Ij",
        "outputId": "fe38cf73-56bb-4d45-9362-4e0364d4eb30"
      },
      "source": [
        "#state_holiday\n",
        "plt.subplot(3,2,1)\n",
        "a = df4[df4['state_holiday'] != 'regular_day']\n",
        "sns.countplot(a['state_holiday'])\n",
        "\n",
        "plt.subplot(3,2,2)\n",
        "sns.kdeplot(df4[df4['state_holiday'] == 'public_holiday']['sales'], label='public_holiday', shade=True)\n",
        "sns.kdeplot(df4[df4['state_holiday'] == 'easter_holiday']['sales'], label='easter_holiday', shade=True)\n",
        "sns.kdeplot(df4[df4['state_holiday'] == 'christmas']['sales'], label='christmas', shade=True)"
      ],
      "execution_count": 27,
      "outputs": [
        {
          "output_type": "stream",
          "text": [
            "/usr/local/lib/python3.7/dist-packages/seaborn/_decorators.py:43: FutureWarning: Pass the following variable as a keyword arg: x. From version 0.12, the only valid positional argument will be `data`, and passing other arguments without an explicit keyword will result in an error or misinterpretation.\n",
            "  FutureWarning\n"
          ],
          "name": "stderr"
        },
        {
          "output_type": "execute_result",
          "data": {
            "text/plain": [
              "<matplotlib.axes._subplots.AxesSubplot at 0x7effa564e350>"
            ]
          },
          "metadata": {
            "tags": []
          },
          "execution_count": 27
        },
        {
          "output_type": "display_data",
          "data": {
            "image/png": "[encoded data removed]",
            "text/plain": [
              "<Figure size 432x288 with 2 Axes>"
            ]
          },
          "metadata": {
            "tags": [],
            "needs_background": "light"
          }
        }
      ]
    },
    {
      "cell_type": "code",
      "metadata": {
        "colab": {
          "base_uri": "https://localhost:8080/",
          "height": 0
        },
        "id": "CPImPSsf88Ik",
        "outputId": "119bd8ce-7de8-47d5-800d-e7bc1f3ea0ff"
      },
      "source": [
        "#store_type\n",
        "plt.subplot(3,2,3)\n",
        "sns.countplot(df4['store_type'])\n",
        "\n",
        "plt.subplot(3,2,4)\n",
        "sns.kdeplot(df4[df4['store_type'] == 'a']['sales'], label='a', shade=True)\n",
        "sns.kdeplot(df4[df4['store_type'] == 'b']['sales'], label='b', shade=True)\n",
        "sns.kdeplot(df4[df4['store_type'] == 'c']['sales'], label='c', shade=True)\n",
        "sns.kdeplot(df4[df4['store_type'] == 'd']['sales'], label='d', shade=True)"
      ],
      "execution_count": 28,
      "outputs": [
        {
          "output_type": "stream",
          "text": [
            "/usr/local/lib/python3.7/dist-packages/seaborn/_decorators.py:43: FutureWarning: Pass the following variable as a keyword arg: x. From version 0.12, the only valid positional argument will be `data`, and passing other arguments without an explicit keyword will result in an error or misinterpretation.\n",
            "  FutureWarning\n"
          ],
          "name": "stderr"
        },
        {
          "output_type": "execute_result",
          "data": {
            "text/plain": [
              "<matplotlib.axes._subplots.AxesSubplot at 0x7effa5597c50>"
            ]
          },
          "metadata": {
            "tags": []
          },
          "execution_count": 28
        },
        {
          "output_type": "display_data",
          "data": {
            "image/png": "[encoded data removed]",
            "text/plain": [
              "<Figure size 432x288 with 2 Axes>"
            ]
          },
          "metadata": {
            "tags": [],
            "needs_background": "light"
          }
        }
      ]
    },
    {
      "cell_type": "code",
      "metadata": {
        "colab": {
          "base_uri": "https://localhost:8080/",
          "height": 0
        },
        "id": "n765ydr288Ik",
        "outputId": "c8d6c7f9-5e2e-41a9-df9a-954ca123b3a7"
      },
      "source": [
        "#assortment\n",
        "plt.subplot(3,2,5)\n",
        "sns.countplot(df4['assortment'])\n",
        "\n",
        "plt.subplot(3,2,6)\n",
        "sns.kdeplot(df4[df4['assortment'] == 'extended']['sales'], label='extended', shade=True)\n",
        "sns.kdeplot(df4[df4['assortment'] == 'basic']['sales'], label='basic', shade=True)\n",
        "sns.kdeplot(df4[df4['assortment'] == 'extra']['sales'], label='extra', shade=True)"
      ],
      "execution_count": 29,
      "outputs": [
        {
          "output_type": "stream",
          "text": [
            "/usr/local/lib/python3.7/dist-packages/seaborn/_decorators.py:43: FutureWarning: Pass the following variable as a keyword arg: x. From version 0.12, the only valid positional argument will be `data`, and passing other arguments without an explicit keyword will result in an error or misinterpretation.\n",
            "  FutureWarning\n"
          ],
          "name": "stderr"
        },
        {
          "output_type": "execute_result",
          "data": {
            "text/plain": [
              "<matplotlib.axes._subplots.AxesSubplot at 0x7effa56aafd0>"
            ]
          },
          "metadata": {
            "tags": []
          },
          "execution_count": 29
        },
        {
          "output_type": "display_data",
          "data": {
            "image/png": "[encoded data removed]",
            "text/plain": [
              "<Figure size 432x288 with 2 Axes>"
            ]
          },
          "metadata": {
            "tags": [],
            "needs_background": "light"
          }
        }
      ]
    },
    {
      "cell_type": "markdown",
      "metadata": {
        "id": "Dy9bK2l288Ik"
      },
      "source": [
        "## 4.2 Bivariate Analysis"
      ]
    },
    {
      "cell_type": "markdown",
      "metadata": {
        "id": "6VVMeQs-88Ik"
      },
      "source": [
        "### H1. Lojas com maior sortimento deveriam vender mais.\n",
        "FALSO com lojas mais sortimento vendem menos"
      ]
    },
    {
      "cell_type": "code",
      "metadata": {
        "colab": {
          "base_uri": "https://localhost:8080/",
          "height": 0
        },
        "id": "ryqjDtpt88Il",
        "outputId": "d8039b96-a766-468d-a913-1c0db07a3704"
      },
      "source": [
        "aux1 = df4[['assortment', 'sales']].groupby('assortment').sum().reset_index()\n",
        "sns.barplot(x='assortment', y='sales', data=aux1);\n",
        "\n",
        "aux2 = df4[['year_week','assortment','sales']].groupby(['year_week','assortment']).sum().reset_index()\n",
        "aux2.pivot(index='year_week',columns='assortment',values='sales').plot()\n",
        "\n",
        "aux3 = aux2[aux2['assortment'] == 'extra']\n",
        "aux3.pivot(index='year_week',columns='assortment',values='sales').plot()"
      ],
      "execution_count": 30,
      "outputs": [
        {
          "output_type": "execute_result",
          "data": {
            "text/plain": [
              "<matplotlib.axes._subplots.AxesSubplot at 0x7effa5975550>"
            ]
          },
          "metadata": {
            "tags": []
          },
          "execution_count": 30
        },
        {
          "output_type": "display_data",
          "data": {
            "image/png": "[encoded data removed]",
            "text/plain": [
              "<Figure size 432x288 with 1 Axes>"
            ]
          },
          "metadata": {
            "tags": [],
            "needs_background": "light"
          }
        },
        {
          "output_type": "display_data",
          "data": {
            "image/png": "[encoded data removed]",
            "text/plain": [
              "<Figure size 432x288 with 1 Axes>"
            ]
          },
          "metadata": {
            "tags": [],
            "needs_background": "light"
          }
        },
        {
          "output_type": "display_data",
          "data": {
            "image/png": "[encoded data removed]",
            "text/plain": [
              "<Figure size 432x288 with 1 Axes>"
            ]
          },
          "metadata": {
            "tags": [],
            "needs_background": "light"
          }
        }
      ]
    },
    {
      "cell_type": "markdown",
      "metadata": {
        "id": "0D5tEPL488Il"
      },
      "source": [
        "### H2. Lojas com mais competidores deveriam vender menos.\n",
        "FALSO lojas com mais competidores vendem mais"
      ]
    },
    {
      "cell_type": "code",
      "metadata": {
        "colab": {
          "base_uri": "https://localhost:8080/",
          "height": 0
        },
        "id": "cP4VIU8q88Il",
        "outputId": "d9135dfc-d33e-4f3e-bc04-96bebeeac80c"
      },
      "source": [
        "aux1 = df4[['competition_distance','sales']].groupby('competition_distance').sum().reset_index()\n",
        "\n",
        "plt.subplot(1, 3, 1)\n",
        "sns.scatterplot(x='competition_distance', y='sales', data=aux1)\n",
        "\n",
        "plt.subplot(1, 3, 2)\n",
        "bins = list(np.arange(0, 20000, 1000))\n",
        "aux1['competition_distance_binned'] = pd.cut(aux1['competition_distance'], bins=bins)\n",
        "aux2 = aux1[['competition_distance_binned','sales']].groupby('competition_distance_binned').sum().reset_index()\n",
        "sns.barplot(x='competition_distance_binned', y='sales', data=aux2);\n",
        "plt.xticks(rotation=90);\n",
        "\n",
        "plt.subplot(1, 3, 3)\n",
        "x = sns.heatmap(aux1.corr(method='pearson'), annot=True);\n",
        "bottom, top = x.get_ylim()\n",
        "#x.set_xlim(bottom+0.5, top-0.5)"
      ],
      "execution_count": 31,
      "outputs": [
        {
          "output_type": "display_data",
          "data": {
            "image/png": "[encoded data removed]",
            "text/plain": [
              "<Figure size 432x288 with 4 Axes>"
            ]
          },
          "metadata": {
            "tags": [],
            "needs_background": "light"
          }
        }
      ]
    },
    {
      "cell_type": "markdown",
      "metadata": {
        "id": "sqyUwSG188Im"
      },
      "source": [
        "### H3. Lojas com competidores à mais tempo deveriam vender mais.\n",
        "FALSO lojas com competidores a mais tempo vendem mais"
      ]
    },
    {
      "cell_type": "code",
      "metadata": {
        "colab": {
          "base_uri": "https://localhost:8080/",
          "height": 0
        },
        "id": "lq3wmOqE88Im",
        "outputId": "31daed5d-5a09-4f32-b305-69ba4996a284"
      },
      "source": [
        "plt.subplot (1, 3, 1)\n",
        "aux1 = df4[['competition_time_month','sales']].groupby('competition_time_month').sum().reset_index()\n",
        "aux2 = aux1[(aux1['competition_time_month'] < 120) & (aux1['competition_time_month'] != 0)]\n",
        "sns.barplot(x='competition_time_month', y='sales', data=aux2)\n",
        "plt.xticks(rotation=90);\n",
        "\n",
        "plt.subplot(1, 3, 2)\n",
        "sns.regplot(x='competition_time_month', y='sales', data=aux2)\n",
        "\n",
        "plt.subplot(1, 3, 3)\n",
        "x = sns.heatmap(aux1.corr(method='pearson'), annot=True);\n",
        "bottom, top = x.get_ylim()"
      ],
      "execution_count": 32,
      "outputs": [
        {
          "output_type": "display_data",
          "data": {
            "image/png": "[encoded data removed]",
            "text/plain": [
              "<Figure size 432x288 with 4 Axes>"
            ]
          },
          "metadata": {
            "tags": [],
            "needs_background": "light"
          }
        }
      ]
    },
    {
      "cell_type": "markdown",
      "metadata": {
        "id": "Kkf5-U0v88Im"
      },
      "source": [
        "### H4. Lojas com promoções ativas por mais tempo deveriam vender mais.\n",
        "FALSO lojas com promoções extendidas vendem menos, depois de algum tempo"
      ]
    },
    {
      "cell_type": "code",
      "metadata": {
        "colab": {
          "base_uri": "https://localhost:8080/",
          "height": 0
        },
        "id": "y3S7vL5C88Im",
        "outputId": "afcfcb96-f42a-4a44-a10e-9ec8a11c2ff9"
      },
      "source": [
        "aux1 = df4[['promo_time_week','sales']].groupby('promo_time_week').sum().reset_index()\n",
        "\n",
        "grid = gs.GridSpec(2,3)\n",
        "\n",
        "plt.subplot(grid[0,0])\n",
        "aux2 = aux1[aux1['promo_time_week'] > 0] #promo extendida\n",
        "sns.barplot(x='promo_time_week', y='sales', data=aux2);\n",
        "plt.xticks(rotation=90);\n",
        "\n",
        "plt.subplot(grid[0,1])\n",
        "sns.regplot(x='promo_time_week', y='sales', data=aux2)\n",
        "\n",
        "plt.subplot(grid[1,0])\n",
        "aux3 = aux1[aux1['promo_time_week'] < 0] #promo regular\n",
        "sns.barplot(x='promo_time_week', y='sales', data=aux3);\n",
        "plt.xticks(rotation=90);\n",
        "\n",
        "plt.subplot(grid[1,1])\n",
        "sns.regplot(x='promo_time_week', y='sales', data=aux3);\n",
        "\n",
        "plt.subplot(grid[:,2])\n",
        "sns.heatmap(aux1.corr(method='pearson'), annot=True);"
      ],
      "execution_count": 33,
      "outputs": [
        {
          "output_type": "display_data",
          "data": {
            "image/png": "[encoded data removed]",
            "text/plain": [
              "<Figure size 432x288 with 6 Axes>"
            ]
          },
          "metadata": {
            "tags": [],
            "needs_background": "light"
          }
        }
      ]
    },
    {
      "cell_type": "markdown",
      "metadata": {
        "id": "gUdIZfGf88In"
      },
      "source": [
        "### <s> H5. Lojas com promoções mais longas deveriam vender mais. </s>"
      ]
    },
    {
      "cell_type": "markdown",
      "metadata": {
        "id": "sfQoR0Di88In"
      },
      "source": [
        "### H6. Lojas com promoções consecutivas deveriam vender mais.\n",
        "FALSO lojas com promoções consecutivas vendem menos"
      ]
    },
    {
      "cell_type": "code",
      "metadata": {
        "colab": {
          "base_uri": "https://localhost:8080/",
          "height": 0
        },
        "id": "aYrNZI1S88In",
        "outputId": "59b1f482-6728-4a5d-eef7-facced679df3"
      },
      "source": [
        "df4[['promo','promo2','sales']].groupby(['promo','promo2']).sum().reset_index()"
      ],
      "execution_count": 34,
      "outputs": [
        {
          "output_type": "execute_result",
          "data": {
            "text/html": [
              "<div>\n",
              "<style scoped>\n",
              "    .dataframe tbody tr th:only-of-type {\n",
              "        vertical-align: middle;\n",
              "    }\n",
              "\n",
              "    .dataframe tbody tr th {\n",
              "        vertical-align: top;\n",
              "    }\n",
              "\n",
              "    .dataframe thead th {\n",
              "        text-align: right;\n",
              "    }\n",
              "</style>\n",
              "<table border=\"1\" class=\"dataframe\">\n",
              "  <thead>\n",
              "    <tr style=\"text-align: right;\">\n",
              "      <th></th>\n",
              "      <th>promo</th>\n",
              "      <th>promo2</th>\n",
              "      <th>sales</th>\n",
              "    </tr>\n",
              "  </thead>\n",
              "  <tbody>\n",
              "    <tr>\n",
              "      <th>0</th>\n",
              "      <td>0</td>\n",
              "      <td>0</td>\n",
              "      <td>1482612096</td>\n",
              "    </tr>\n",
              "    <tr>\n",
              "      <th>1</th>\n",
              "      <td>0</td>\n",
              "      <td>1</td>\n",
              "      <td>1289362241</td>\n",
              "    </tr>\n",
              "    <tr>\n",
              "      <th>2</th>\n",
              "      <td>1</td>\n",
              "      <td>0</td>\n",
              "      <td>1628930532</td>\n",
              "    </tr>\n",
              "    <tr>\n",
              "      <th>3</th>\n",
              "      <td>1</td>\n",
              "      <td>1</td>\n",
              "      <td>1472275754</td>\n",
              "    </tr>\n",
              "  </tbody>\n",
              "</table>\n",
              "</div>"
            ],
            "text/plain": [
              "   promo  promo2       sales\n",
              "0      0       0  1482612096\n",
              "1      0       1  1289362241\n",
              "2      1       0  1628930532\n",
              "3      1       1  1472275754"
            ]
          },
          "metadata": {
            "tags": []
          },
          "execution_count": 34
        }
      ]
    },
    {
      "cell_type": "code",
      "metadata": {
        "colab": {
          "base_uri": "https://localhost:8080/",
          "height": 0
        },
        "id": "sSJToHWT88In",
        "outputId": "667edfb5-d91f-4932-fc46-c2051c3aaa2b"
      },
      "source": [
        "aux1 = df4[(df4['promo'] == 1) & (df4['promo2'] == 1)][['year_week','sales']].groupby('year_week').sum().reset_index()\n",
        "ax = aux1.plot()\n",
        "\n",
        "aux2 = df4[(df4['promo'] == 1) & (df4['promo2'] == 0)][['year_week','sales']].groupby('year_week').sum().reset_index()\n",
        "aux2.plot(ax=ax)\n",
        "\n",
        "ax.legend(labels=['Tradicional & Extendida','Extendida']);"
      ],
      "execution_count": 35,
      "outputs": [
        {
          "output_type": "display_data",
          "data": {
            "image/png": "[encoded data removed]",
            "text/plain": [
              "<Figure size 432x288 with 1 Axes>"
            ]
          },
          "metadata": {
            "tags": [],
            "needs_background": "light"
          }
        }
      ]
    },
    {
      "cell_type": "markdown",
      "metadata": {
        "id": "GWGVQ7RW88Io"
      },
      "source": [
        "### H7. Lojas abertas durante o Natal deveriam vender mais.\n",
        "FALSO lojas que abrem no natal vendem menos"
      ]
    },
    {
      "cell_type": "code",
      "metadata": {
        "colab": {
          "base_uri": "https://localhost:8080/",
          "height": 0
        },
        "id": "FwDuFZ0a88Io",
        "outputId": "1861c4dd-4094-4e8b-848f-7e2e3d3dd891"
      },
      "source": [
        "aux = df4[df4['state_holiday'] != 'regular_day']\n",
        "\n",
        "plt.subplot(1,2,1)\n",
        "aux1 = aux[['state_holiday','sales']].groupby('state_holiday').sum().reset_index()\n",
        "sns.barplot(x='state_holiday', y='sales', data=aux1);\n",
        "\n",
        "plt.subplot(1,2,2)\n",
        "aux2 = aux[['year','state_holiday','sales']].groupby(['year','state_holiday']).sum().reset_index()\n",
        "sns.barplot(x='sales', y='sales', hue='state_holiday', data=aux2);"
      ],
      "execution_count": 36,
      "outputs": [
        {
          "output_type": "display_data",
          "data": {
            "image/png": "[encoded data removed]",
            "text/plain": [
              "<Figure size 432x288 with 2 Axes>"
            ]
          },
          "metadata": {
            "tags": [],
            "needs_background": "light"
          }
        }
      ]
    },
    {
      "cell_type": "markdown",
      "metadata": {
        "id": "ck9pKm1W88Io"
      },
      "source": [
        "### H8. Lojas deveriam vender mais ao longo do ano.\n",
        "FALSO lojas vendem menos durante os anos"
      ]
    },
    {
      "cell_type": "code",
      "metadata": {
        "colab": {
          "base_uri": "https://localhost:8080/",
          "height": 0
        },
        "id": "vGaAp7VM88Io",
        "outputId": "bd0cb5d3-b3a7-4a76-d59e-8aaffd7eddb5"
      },
      "source": [
        "aux1 = df4[['year','sales']].groupby('year').sum().reset_index()\n",
        "\n",
        "plt.subplot(1,3,1)\n",
        "sns.barplot(x='year', y='sales', data=aux1);\n",
        "plt.xticks(rotation=90);\n",
        "\n",
        "plt.subplot(1,3,2)\n",
        "sns.regplot(x='year', y='sales', data=aux1);\n",
        "\n",
        "plt.subplot(1,3,3)\n",
        "sns.heatmap(aux1.corr(method='pearson'), annot=True);"
      ],
      "execution_count": 37,
      "outputs": [
        {
          "output_type": "display_data",
          "data": {
            "image/png": "[encoded data removed]",
            "text/plain": [
              "<Figure size 432x288 with 4 Axes>"
            ]
          },
          "metadata": {
            "tags": [],
            "needs_background": "light"
          }
        }
      ]
    },
    {
      "cell_type": "markdown",
      "metadata": {
        "id": "TCMh1Vlm88Ip"
      },
      "source": [
        "### H9. Lojas deveriam vender mais no segundo semestre do ano.\n",
        "FALSO lojas vendem menos no segundo semestre"
      ]
    },
    {
      "cell_type": "code",
      "metadata": {
        "colab": {
          "base_uri": "https://localhost:8080/",
          "height": 0
        },
        "id": "m8uP1hMV88Ip",
        "outputId": "ba5792fc-43ec-4c29-be89-6768fef77aad"
      },
      "source": [
        "aux1 = df4[['month','sales']].groupby('month').sum().reset_index()\n",
        "\n",
        "plt.subplot(1,3,1)\n",
        "sns.barplot(x='month', y='sales', data=aux1);\n",
        "plt.xticks(rotation=90);\n",
        "\n",
        "plt.subplot(1,3,2)\n",
        "sns.regplot(x='month', y='sales', data=aux1);\n",
        "\n",
        "plt.subplot(1,3,3)\n",
        "sns.heatmap(aux1.corr(method='pearson'), annot=True);"
      ],
      "execution_count": 38,
      "outputs": [
        {
          "output_type": "display_data",
          "data": {
            "image/png": "[encoded data removed]",
            "text/plain": [
              "<Figure size 432x288 with 4 Axes>"
            ]
          },
          "metadata": {
            "tags": [],
            "needs_background": "light"
          }
        }
      ]
    },
    {
      "cell_type": "markdown",
      "metadata": {
        "id": "BEW3MiDi88Ip"
      },
      "source": [
        "### H10. Lojas deveriam vender mais depois do dia 10 de cada mês.\n",
        "VERDADEIRO lojas vendem mais depois do dia 10"
      ]
    },
    {
      "cell_type": "code",
      "metadata": {
        "colab": {
          "base_uri": "https://localhost:8080/",
          "height": 0
        },
        "id": "HH53e0nT88Iq",
        "outputId": "3a7bf343-f983-4bce-a980-c21af1070db6"
      },
      "source": [
        "aux1 = df4[['day','sales']].groupby('day').sum().reset_index()\n",
        "\n",
        "plt.subplot(2,2,1)\n",
        "sns.barplot(x='day', y='sales', data=aux1);\n",
        "#plt.xticks(rotation=90);\n",
        "\n",
        "plt.subplot(2,2,2)\n",
        "sns.regplot(x='day', y='sales', data=aux1);\n",
        "\n",
        "plt.subplot(2,2,3)\n",
        "sns.heatmap(aux1.corr(method='pearson'), annot=True);\n",
        "\n",
        "aux1['before_after'] = aux1['day'].apply(lambda x: 'before_10_days' if x <= 10 else 'after_10_days')\n",
        "aux2 = aux1[['before_after','sales']].groupby('before_after').sum().reset_index()\n",
        "\n",
        "plt.subplot(2,2,4)\n",
        "sns.barplot(x='before_after', y='sales', data=aux2);"
      ],
      "execution_count": 39,
      "outputs": [
        {
          "output_type": "display_data",
          "data": {
            "image/png": "[encoded data removed]",
            "text/plain": [
              "<Figure size 432x288 with 5 Axes>"
            ]
          },
          "metadata": {
            "tags": [],
            "needs_background": "light"
          }
        }
      ]
    },
    {
      "cell_type": "markdown",
      "metadata": {
        "id": "6-L4VJ2288Iq"
      },
      "source": [
        "### H11. Lojas deveriam vender menos aos finais de semana.\n",
        "VERDADEIRO lojas vendem menos aos finais de semana"
      ]
    },
    {
      "cell_type": "code",
      "metadata": {
        "colab": {
          "base_uri": "https://localhost:8080/",
          "height": 0
        },
        "id": "UKEOrH9W88Iq",
        "outputId": "e08d0f6f-f2f1-437a-ffe7-a834935db609"
      },
      "source": [
        "aux1 = df4[['day_of_week','sales']].groupby('day_of_week').sum().reset_index()\n",
        "\n",
        "plt.subplot(1,3,1)\n",
        "sns.barplot(x='day_of_week', y='sales', data=aux1);\n",
        "#plt.xticks(rotation=90);\n",
        "\n",
        "plt.subplot(1,3,2)\n",
        "sns.regplot(x='day_of_week', y='sales', data=aux1);\n",
        "\n",
        "plt.subplot(1,3,3)\n",
        "sns.heatmap(aux1.corr(method='pearson'), annot=True);"
      ],
      "execution_count": 40,
      "outputs": [
        {
          "output_type": "display_data",
          "data": {
            "image/png": "[encoded data removed]",
            "text/plain": [
              "<Figure size 432x288 with 4 Axes>"
            ]
          },
          "metadata": {
            "tags": [],
            "needs_background": "light"
          }
        }
      ]
    },
    {
      "cell_type": "markdown",
      "metadata": {
        "id": "SLff-OAx88Iq"
      },
      "source": [
        "### H12. Lojas deveriam vender menos durante os feriados escolares.\n",
        "VERDADEIRO lojas vendem menos durante os feriados escolares, exceto julho e agosto"
      ]
    },
    {
      "cell_type": "code",
      "metadata": {
        "colab": {
          "base_uri": "https://localhost:8080/",
          "height": 0
        },
        "id": "AqdOLxmU88Ir",
        "outputId": "c4ddd2dc-c282-41a3-b202-823dfc1d784c"
      },
      "source": [
        "aux1 = df4[['school_holiday','sales']].groupby('school_holiday').sum().reset_index()\n",
        "plt.subplot(2,1,1)\n",
        "sns.barplot(x='school_holiday', y='sales', data=aux1);\n",
        "\n",
        "aux2 = df4[['month', 'school_holiday','sales']].groupby(['month','school_holiday']).sum().reset_index()\n",
        "plt.subplot(2,1,2)\n",
        "sns.barplot(x='month', y='sales', hue='school_holiday', data=aux2);"
      ],
      "execution_count": 41,
      "outputs": [
        {
          "output_type": "display_data",
          "data": {
            "image/png": "[encoded data removed]",
            "text/plain": [
              "<Figure size 432x288 with 2 Axes>"
            ]
          },
          "metadata": {
            "tags": [],
            "needs_background": "light"
          }
        }
      ]
    },
    {
      "cell_type": "markdown",
      "metadata": {
        "id": "pkSXNOyN88Ir"
      },
      "source": [
        "### 4.2.1 Resumo"
      ]
    },
    {
      "cell_type": "code",
      "metadata": {
        "colab": {
          "base_uri": "https://localhost:8080/"
        },
        "id": "2Lx9cAAP88Ir",
        "outputId": "d99aa46e-a975-4f8c-e3e6-18e770e70106"
      },
      "source": [
        "tab = [['Hipoteses', 'Conclusão', 'Relevância'], \n",
        "       ['H1', 'Falsa', 'Baixa'],\n",
        "       ['H2', 'Falsa', 'Média'],\n",
        "       ['H3', 'Falsa', 'Média'],\n",
        "       ['H4', 'Falsa', 'Baixa'],\n",
        "       ['H5', '-', '-'],\n",
        "       ['H6', 'Falsa', 'Baixa'],\n",
        "       ['H7', 'Falsa', 'Média'],\n",
        "       ['H8', 'Falsa', 'Alta'],\n",
        "       ['H9', 'Falsa', 'Alta'],\n",
        "       ['H10', 'Verdadeira', 'Alta'],\n",
        "       ['H11', 'Verdadeira', 'Alta'],\n",
        "       ['H12', 'Verdadeira', 'Baixa']]\n",
        "\n",
        "print(tabulate(tab, headers='firstrow'))"
      ],
      "execution_count": 42,
      "outputs": [
        {
          "output_type": "stream",
          "text": [
            "Hipoteses    Conclusão    Relevância\n",
            "-----------  -----------  ------------\n",
            "H1           Falsa        Baixa\n",
            "H2           Falsa        Média\n",
            "H3           Falsa        Média\n",
            "H4           Falsa        Baixa\n",
            "H5           -            -\n",
            "H6           Falsa        Baixa\n",
            "H7           Falsa        Média\n",
            "H8           Falsa        Alta\n",
            "H9           Falsa        Alta\n",
            "H10          Verdadeira   Alta\n",
            "H11          Verdadeira   Alta\n",
            "H12          Verdadeira   Baixa\n"
          ],
          "name": "stdout"
        }
      ]
    },
    {
      "cell_type": "markdown",
      "metadata": {
        "id": "5-cnYu5688Ir"
      },
      "source": [
        "## 4.3 Multivariate Analysis"
      ]
    },
    {
      "cell_type": "markdown",
      "metadata": {
        "id": "b5yfqrdJ88Is"
      },
      "source": [
        "### 4.3.1 Numerical Attributes"
      ]
    },
    {
      "cell_type": "code",
      "metadata": {
        "colab": {
          "base_uri": "https://localhost:8080/",
          "height": 0
        },
        "id": "IN5_58Yh88Is",
        "outputId": "57d18cdf-c4a9-4e9c-e65f-7f062a4c2ded"
      },
      "source": [
        "correlations = num_attributes.corr(method='pearson')\n",
        "sns.heatmap(correlations,annot=True);"
      ],
      "execution_count": 43,
      "outputs": [
        {
          "output_type": "display_data",
          "data": {
            "image/png": "[encoded data removed]",
            "text/plain": [
              "<Figure size 432x288 with 2 Axes>"
            ]
          },
          "metadata": {
            "tags": [],
            "needs_background": "light"
          }
        }
      ]
    },
    {
      "cell_type": "markdown",
      "metadata": {
        "id": "ajCtNEgp88Is"
      },
      "source": [
        "### 4.3.2 Categorical Attributes"
      ]
    },
    {
      "cell_type": "code",
      "metadata": {
        "colab": {
          "base_uri": "https://localhost:8080/",
          "height": 0
        },
        "id": "k8wQFH9o88Is",
        "outputId": "ffca792a-0928-4145-d67f-ab04b506fdb4"
      },
      "source": [
        "#only categorical data\n",
        "a = df4.select_dtypes(include='object')\n",
        "\n",
        "#calculate cramer v\n",
        "a1 = cramer_v (a['state_holiday'], a['state_holiday'])\n",
        "a2 = cramer_v (a['state_holiday'], a['store_type'])\n",
        "a3 = cramer_v (a['state_holiday'], a['assortment'])\n",
        "\n",
        "a4 = cramer_v (a['store_type'], a['state_holiday'])\n",
        "a5 = cramer_v (a['store_type'], a['store_type'])\n",
        "a6 = cramer_v (a['store_type'], a['assortment'])\n",
        "\n",
        "a7 = cramer_v (a['assortment'], a['state_holiday'])\n",
        "a8 = cramer_v (a['assortment'], a['store_type'])\n",
        "a9 = cramer_v (a['assortment'], a['assortment'])\n",
        "\n",
        "#finald ataset\n",
        "d = pd.DataFrame({'state_holiday': [a1,a2,a3],\n",
        "                 'store_type': [a4,a5,a6],\n",
        "                 'assortment': [a7,a8,a9]})\n",
        "d = d.set_index(d.columns)\n",
        "\n",
        "#heat map\n",
        "sns.heatmap(d,annot=True)"
      ],
      "execution_count": 44,
      "outputs": [
        {
          "output_type": "execute_result",
          "data": {
            "text/plain": [
              "<matplotlib.axes._subplots.AxesSubplot at 0x7effa4f85890>"
            ]
          },
          "metadata": {
            "tags": []
          },
          "execution_count": 44
        },
        {
          "output_type": "display_data",
          "data": {
            "image/png": "[encoded data removed]",
            "text/plain": [
              "<Figure size 432x288 with 2 Axes>"
            ]
          },
          "metadata": {
            "tags": [],
            "needs_background": "light"
          }
        }
      ]
    },
    {
      "cell_type": "markdown",
      "metadata": {
        "id": "E0VgySKX88It"
      },
      "source": [
        "# 5.0 Data Preparation"
      ]
    },
    {
      "cell_type": "code",
      "metadata": {
        "id": "SffdO_GG88It"
      },
      "source": [
        "df5 = df4.copy()"
      ],
      "execution_count": 45,
      "outputs": []
    },
    {
      "cell_type": "markdown",
      "metadata": {
        "id": "1omiq_qr88It"
      },
      "source": [
        "## 5.1 Normalização"
      ]
    },
    {
      "cell_type": "markdown",
      "metadata": {
        "id": "bdraJn2H88It"
      },
      "source": [
        "**Não tem variável com distribuição normal**"
      ]
    },
    {
      "cell_type": "markdown",
      "metadata": {
        "id": "N5QWXtYY88It"
      },
      "source": [
        "## 5.2 Rescaling"
      ]
    },
    {
      "cell_type": "code",
      "metadata": {
        "id": "Ip1kGwWL88It"
      },
      "source": [
        "#a = df5.select_dtypes(include=['float64','int64'])\n",
        "\n",
        "rs = RobustScaler()\n",
        "mms = MinMaxScaler()\n",
        "\n",
        "#competition_distance\n",
        "df5['competition_distance'] = rs.fit_transform(df5[['competition_distance']].values)\n",
        "pickle.dump(rs, open('competition_distance_scaler.pkl', '+wb'))\n",
        "\n",
        "#competition_time_month\n",
        "df5['competition_time_month'] = rs.fit_transform(df5[['competition_time_month']].values)\n",
        "pickle.dump(rs, open('competition_time_month_scaler.pkl', '+wb'))\n",
        "\n",
        "#promo_time_week\n",
        "df5['promo_time_week'] = mms.fit_transform(df5[['promo_time_week']].values)\n",
        "pickle.dump(rs, open('promo_time_week_scaler.pkl', '+wb'))\n",
        "\n",
        "#year\n",
        "df5['year'] = mms.fit_transform(df5[['year']].values)\n",
        "pickle.dump(mms, open('year_scaler.pkl', '+wb'))"
      ],
      "execution_count": 46,
      "outputs": []
    },
    {
      "cell_type": "markdown",
      "metadata": {
        "id": "cOoXUFFy88Iu"
      },
      "source": [
        "## 5.3 Transformação"
      ]
    },
    {
      "cell_type": "markdown",
      "metadata": {
        "id": "gk7jEVFH88Iu"
      },
      "source": [
        "### 5.3.1 Encoding"
      ]
    },
    {
      "cell_type": "code",
      "metadata": {
        "id": "VMbtCh_688Iu"
      },
      "source": [
        "#state_holiday - One Hot Encoding\n",
        "df5 = pd.get_dummies(df5,prefix=['state_holiday'], columns=['state_holiday'])\n",
        "\n",
        "#store_type - Label Encoding\n",
        "le = LabelEncoder()\n",
        "df5['store_type'] = le.fit_transform(df5['store_type'])\n",
        "pickle.dump(le, open('store_type_scaler.pkl', '+wb'))\n",
        "\n",
        "#assortment - Ordinal Encoding\n",
        "assortment_dict = {'basic':1, 'extra':2, 'extended':3}\n",
        "df5['assortment'] = df5['assortment'].map(assortment_dict)"
      ],
      "execution_count": 47,
      "outputs": []
    },
    {
      "cell_type": "markdown",
      "metadata": {
        "id": "hy_w2fG_88Iu"
      },
      "source": [
        "### 5.3.2 Response Variable Transformation"
      ]
    },
    {
      "cell_type": "code",
      "metadata": {
        "id": "1MxapAo588Iv"
      },
      "source": [
        "df5['sales'] = np.log(df5['sales'])"
      ],
      "execution_count": 48,
      "outputs": []
    },
    {
      "cell_type": "markdown",
      "metadata": {
        "id": "cdehjqFW88Iv"
      },
      "source": [
        "### 5.3.3 Nature Transformation"
      ]
    },
    {
      "cell_type": "code",
      "metadata": {
        "id": "EALOruyQ88Iv"
      },
      "source": [
        "#day_of_week\n",
        "df5['day_of_week_sin'] = df5['day_of_week'].apply(lambda x: np.sin(x*(2.*np.pi/7)))\n",
        "df5['day_of_week_cos'] = df5['day_of_week'].apply(lambda x: np.cos(x*(2.*np.pi/7)))\n",
        "\n",
        "#month\n",
        "df5['month_sin'] = df5['month'].apply(lambda x: np.sin(x*(2.*np.pi/12)))\n",
        "df5['month_cos'] = df5['month'].apply(lambda x: np.cos(x*(2.*np.pi/12)))\n",
        "\n",
        "#day\n",
        "df5['day_sin'] = df5['day'].apply(lambda x: np.sin(x*(2.*np.pi/30)))\n",
        "df5['day_cos'] = df5['day'].apply(lambda x: np.cos(x*(2.*np.pi/30)))\n",
        "\n",
        "#week_of_year\n",
        "df5['week_of_year_sin'] = df5['week_of_year'].apply(lambda x: np.sin(x*(2.*np.pi/52)))\n",
        "df5['week_of_year_cos'] = df5['week_of_year'].apply(lambda x: np.cos(x*(2.*np.pi/52)))"
      ],
      "execution_count": 49,
      "outputs": []
    },
    {
      "cell_type": "markdown",
      "metadata": {
        "id": "gPoki5QE88Iv"
      },
      "source": [
        "# 6.0 Feature Selection"
      ]
    },
    {
      "cell_type": "code",
      "metadata": {
        "id": "UQlfWSfN88Iv"
      },
      "source": [
        "df6 = df5.copy()"
      ],
      "execution_count": 50,
      "outputs": []
    },
    {
      "cell_type": "markdown",
      "metadata": {
        "id": "bDvQmVR088Iw"
      },
      "source": [
        "## 6.1 Split Dataframe into test and training dataset"
      ]
    },
    {
      "cell_type": "code",
      "metadata": {
        "colab": {
          "base_uri": "https://localhost:8080/"
        },
        "id": "LkseT2Uy88Iw",
        "outputId": "4d8082b9-b6b9-4c84-e131-30748d86d81b"
      },
      "source": [
        "cols_drop = ['week_of_year','day','month','day_of_week','promo_since','competition_since','year_week']\n",
        "df6 = df6.drop(cols_drop,axis=1)\n",
        "\n",
        "#training dataset\n",
        "X_train = df6[df6['date'] < '2015-06-19']\n",
        "y_train = X_train['sales']\n",
        "\n",
        "#test dataset\n",
        "X_test = df6[df6['date'] >= '2015-06-19']\n",
        "y_test = X_test['sales']\n",
        "\n",
        "print('Training Min Date: {}'.format(X_train['date'].min()))\n",
        "print('Training Max Date: {}\\n'.format(X_train['date'].max()))\n",
        "\n",
        "print('Test Min Date: {}'.format(X_test['date'].min()))\n",
        "print('Test Max Date: {}'.format(X_test['date'].max()))"
      ],
      "execution_count": 51,
      "outputs": [
        {
          "output_type": "stream",
          "text": [
            "Training Min Date: 2013-01-01 00:00:00\n",
            "Training Max Date: 2015-06-18 00:00:00\n",
            "\n",
            "Test Min Date: 2015-06-19 00:00:00\n",
            "Test Max Date: 2015-07-31 00:00:00\n"
          ],
          "name": "stdout"
        }
      ]
    },
    {
      "cell_type": "markdown",
      "metadata": {
        "id": "GdmNUX8E88Iw"
      },
      "source": [
        "## 6.2 Boruta as feature selector"
      ]
    },
    {
      "cell_type": "code",
      "metadata": {
        "id": "QgcWfYYb88Iw"
      },
      "source": [
        "#training and test dataset for Boruta\n",
        "x_train_n = X_train.drop(['date','sales'],axis=1).values\n",
        "y_train_n = y_train.values.ravel()\n",
        "\n",
        "#define RandomForestRegressor\n",
        "rf = RandomForestRegressor(n_jobs=-1)\n",
        "\n",
        "#define Boruta\n",
        "#boruta = BorutaPy(rf, n_estimators='auto',verbose=2,random_state=42).fit(x_train_n,y_train_n)"
      ],
      "execution_count": 52,
      "outputs": []
    },
    {
      "cell_type": "markdown",
      "metadata": {
        "id": "aCTmRF__88Ix"
      },
      "source": [
        "### 6.2.1 Best feature from Boruta"
      ]
    },
    {
      "cell_type": "code",
      "metadata": {
        "id": "IEtKkHfa88Ix"
      },
      "source": [
        "#cols_selected = boruta.support_.tolist()\n",
        "\n",
        "#best feature\n",
        "#x_train_fs = x_train.drop(['date','sales'],axis=1)\n",
        "#cols_selected_boruta = x_train_fs.iloc[:,cols_selected].columns.to_list()\n",
        "#cols_selected_boruta\n",
        "\n",
        "#not selected from Boruta\n",
        "#cols_not_selected_boruta = list(np.setdiff1d(x_train_fs.columns,cols_selected_boruta))\n",
        "#cols_not_selected_boruta"
      ],
      "execution_count": 53,
      "outputs": []
    },
    {
      "cell_type": "markdown",
      "metadata": {
        "id": "8v2wx9rP88Ix"
      },
      "source": [
        "## 6.3 Manual Feature Selection"
      ]
    },
    {
      "cell_type": "code",
      "metadata": {
        "id": "-DBOIrLR88Ix"
      },
      "source": [
        "cols_selected_boruta = ['store','promo','store_type','assortment','competition_distance','competition_open_since_month',\n",
        "                        'competition_open_since_year','promo2','promo2_since_week','promo2_since_year','competition_time_month',\n",
        "                        'promo_time_week','day_of_week_sin','day_of_week_cos','month_sin','month_cos','day_sin','day_cos',\n",
        "                        'week_of_year_sin','week_of_year_cos']\n",
        "\n",
        "#columns to add\n",
        "feat_to_add = ['date','sales']\n",
        "\n",
        "#final feature\n",
        "#cols_selected_boruta.extend(feat_to_add)\n",
        "\n",
        "cols_selected_boruta_full = cols_selected_boruta.copy()\n",
        "cols_selected_boruta_full.extend(feat_to_add)"
      ],
      "execution_count": 54,
      "outputs": []
    },
    {
      "cell_type": "markdown",
      "metadata": {
        "id": "Kgujfegy88Iy"
      },
      "source": [
        "# 7.0 Machine Learning Modeling"
      ]
    },
    {
      "cell_type": "code",
      "metadata": {
        "id": "cWj4MITr88Iy"
      },
      "source": [
        "x_train = X_train[cols_selected_boruta]\n",
        "x_test = X_test [cols_selected_boruta]\n",
        "\n",
        "#time series data preparation\n",
        "x_training = X_train[cols_selected_boruta_full]"
      ],
      "execution_count": 55,
      "outputs": []
    },
    {
      "cell_type": "markdown",
      "metadata": {
        "id": "5LdUd-k188Iy"
      },
      "source": [
        "## 7.1 Average Model"
      ]
    },
    {
      "cell_type": "code",
      "metadata": {
        "colab": {
          "base_uri": "https://localhost:8080/",
          "height": 0
        },
        "id": "utRuiCOw88Iy",
        "outputId": "47133c5e-1d20-4bd6-a173-4762f8ce5ed0"
      },
      "source": [
        "aux1 = x_test.copy()\n",
        "aux1['sales'] = y_test.copy()\n",
        "\n",
        "#prediction\n",
        "aux2 = aux1[['store','sales']].groupby('store').mean().reset_index().rename(columns={'sales':'predictions'})\n",
        "aux1 = pd.merge(aux1,aux2,how='left',on='store')\n",
        "yhat_baseline = aux1['predictions']\n",
        "\n",
        "#performance\n",
        "baseline_result = ml_error('Average Model', np.expm1(y_test), np.expm1(yhat_baseline))\n",
        "baseline_result"
      ],
      "execution_count": 56,
      "outputs": [
        {
          "output_type": "execute_result",
          "data": {
            "text/html": [
              "<div>\n",
              "<style scoped>\n",
              "    .dataframe tbody tr th:only-of-type {\n",
              "        vertical-align: middle;\n",
              "    }\n",
              "\n",
              "    .dataframe tbody tr th {\n",
              "        vertical-align: top;\n",
              "    }\n",
              "\n",
              "    .dataframe thead th {\n",
              "        text-align: right;\n",
              "    }\n",
              "</style>\n",
              "<table border=\"1\" class=\"dataframe\">\n",
              "  <thead>\n",
              "    <tr style=\"text-align: right;\">\n",
              "      <th></th>\n",
              "      <th>Model Name</th>\n",
              "      <th>MAE</th>\n",
              "      <th>MAPE</th>\n",
              "      <th>RMSE</th>\n",
              "    </tr>\n",
              "  </thead>\n",
              "  <tbody>\n",
              "    <tr>\n",
              "      <th>0</th>\n",
              "      <td>Average Model</td>\n",
              "      <td>1354.800167</td>\n",
              "      <td>0.413085</td>\n",
              "      <td>1835.141019</td>\n",
              "    </tr>\n",
              "  </tbody>\n",
              "</table>\n",
              "</div>"
            ],
            "text/plain": [
              "      Model Name          MAE      MAPE         RMSE\n",
              "0  Average Model  1354.800167  0.413085  1835.141019"
            ]
          },
          "metadata": {
            "tags": []
          },
          "execution_count": 56
        }
      ]
    },
    {
      "cell_type": "markdown",
      "metadata": {
        "id": "Bj_WZNCP88Iz"
      },
      "source": [
        "## 7.2 Linear Regression Model"
      ]
    },
    {
      "cell_type": "code",
      "metadata": {
        "colab": {
          "base_uri": "https://localhost:8080/",
          "height": 0
        },
        "id": "XtPJgjmo88Iz",
        "outputId": "92ca164b-9093-4eba-d097-866aa8b3ce79"
      },
      "source": [
        "#model\n",
        "lr = LinearRegression().fit(x_train,y_train)\n",
        "\n",
        "#prediction\n",
        "yhat_lr = lr.predict(x_test)\n",
        "\n",
        "#performance\n",
        "lr_result = ml_error('Linear Regression', np.expm1(y_test), np.expm1(yhat_lr))\n",
        "lr_result"
      ],
      "execution_count": 57,
      "outputs": [
        {
          "output_type": "execute_result",
          "data": {
            "text/html": [
              "<div>\n",
              "<style scoped>\n",
              "    .dataframe tbody tr th:only-of-type {\n",
              "        vertical-align: middle;\n",
              "    }\n",
              "\n",
              "    .dataframe tbody tr th {\n",
              "        vertical-align: top;\n",
              "    }\n",
              "\n",
              "    .dataframe thead th {\n",
              "        text-align: right;\n",
              "    }\n",
              "</style>\n",
              "<table border=\"1\" class=\"dataframe\">\n",
              "  <thead>\n",
              "    <tr style=\"text-align: right;\">\n",
              "      <th></th>\n",
              "      <th>Model Name</th>\n",
              "      <th>MAE</th>\n",
              "      <th>MAPE</th>\n",
              "      <th>RMSE</th>\n",
              "    </tr>\n",
              "  </thead>\n",
              "  <tbody>\n",
              "    <tr>\n",
              "      <th>0</th>\n",
              "      <td>Linear Regression</td>\n",
              "      <td>1867.086951</td>\n",
              "      <td>0.292756</td>\n",
              "      <td>2671.056821</td>\n",
              "    </tr>\n",
              "  </tbody>\n",
              "</table>\n",
              "</div>"
            ],
            "text/plain": [
              "          Model Name          MAE      MAPE         RMSE\n",
              "0  Linear Regression  1867.086951  0.292756  2671.056821"
            ]
          },
          "metadata": {
            "tags": []
          },
          "execution_count": 57
        }
      ]
    },
    {
      "cell_type": "markdown",
      "metadata": {
        "id": "yOSPBH91gnDQ"
      },
      "source": [
        "### 7.2.1 Linear Regression Model"
      ]
    },
    {
      "cell_type": "code",
      "metadata": {
        "colab": {
          "base_uri": "https://localhost:8080/",
          "height": 0
        },
        "id": "5I7c2qjOiN0C",
        "outputId": "f8ff943a-fa0e-404a-c282-d89e2b41bbc4"
      },
      "source": [
        "lr_result_cv = cross_validation(x_training, 5, 'Linear Regression', lr, verbose=False)\n",
        "lr_result_cv"
      ],
      "execution_count": 58,
      "outputs": [
        {
          "output_type": "execute_result",
          "data": {
            "text/html": [
              "<div>\n",
              "<style scoped>\n",
              "    .dataframe tbody tr th:only-of-type {\n",
              "        vertical-align: middle;\n",
              "    }\n",
              "\n",
              "    .dataframe tbody tr th {\n",
              "        vertical-align: top;\n",
              "    }\n",
              "\n",
              "    .dataframe thead th {\n",
              "        text-align: right;\n",
              "    }\n",
              "</style>\n",
              "<table border=\"1\" class=\"dataframe\">\n",
              "  <thead>\n",
              "    <tr style=\"text-align: right;\">\n",
              "      <th></th>\n",
              "      <th>MAE CV</th>\n",
              "      <th>MAPE CV</th>\n",
              "      <th>RMSE CV</th>\n",
              "    </tr>\n",
              "  </thead>\n",
              "  <tbody>\n",
              "    <tr>\n",
              "      <th>0</th>\n",
              "      <td>2081.73 +/- 295.64</td>\n",
              "      <td>0.3 +/- 0.02</td>\n",
              "      <td>2952.53 +/- 468.38</td>\n",
              "    </tr>\n",
              "  </tbody>\n",
              "</table>\n",
              "</div>"
            ],
            "text/plain": [
              "               MAE CV       MAPE CV             RMSE CV\n",
              "0  2081.73 +/- 295.64  0.3 +/- 0.02  2952.53 +/- 468.38"
            ]
          },
          "metadata": {
            "tags": []
          },
          "execution_count": 58
        }
      ]
    },
    {
      "cell_type": "markdown",
      "metadata": {
        "id": "n9IxNeGkl5C8"
      },
      "source": [
        ""
      ]
    },
    {
      "cell_type": "markdown",
      "metadata": {
        "id": "PMdu_WS588Iz"
      },
      "source": [
        "## 7.3 Linear Regression Regularized Model - Lasso"
      ]
    },
    {
      "cell_type": "code",
      "metadata": {
        "colab": {
          "base_uri": "https://localhost:8080/",
          "height": 0
        },
        "id": "WUnFNIRA88Iz",
        "outputId": "9c0469a6-4156-459b-e0e1-ae9098c7d2a4"
      },
      "source": [
        "#model\n",
        "lrr = Lasso(alpha = 0.01).fit(x_train,y_train)\n",
        "\n",
        "#prediction\n",
        "yhat_lrr = lrr.predict(x_test)\n",
        "\n",
        "#performance\n",
        "lrr_result = ml_error('Linear Regression Regularized', np.expm1(y_test), np.expm1(yhat_lrr))\n",
        "lrr_result"
      ],
      "execution_count": 59,
      "outputs": [
        {
          "output_type": "execute_result",
          "data": {
            "text/html": [
              "<div>\n",
              "<style scoped>\n",
              "    .dataframe tbody tr th:only-of-type {\n",
              "        vertical-align: middle;\n",
              "    }\n",
              "\n",
              "    .dataframe tbody tr th {\n",
              "        vertical-align: top;\n",
              "    }\n",
              "\n",
              "    .dataframe thead th {\n",
              "        text-align: right;\n",
              "    }\n",
              "</style>\n",
              "<table border=\"1\" class=\"dataframe\">\n",
              "  <thead>\n",
              "    <tr style=\"text-align: right;\">\n",
              "      <th></th>\n",
              "      <th>Model Name</th>\n",
              "      <th>MAE</th>\n",
              "      <th>MAPE</th>\n",
              "      <th>RMSE</th>\n",
              "    </tr>\n",
              "  </thead>\n",
              "  <tbody>\n",
              "    <tr>\n",
              "      <th>0</th>\n",
              "      <td>Linear Regression Regularized</td>\n",
              "      <td>1891.702084</td>\n",
              "      <td>0.289165</td>\n",
              "      <td>2744.462517</td>\n",
              "    </tr>\n",
              "  </tbody>\n",
              "</table>\n",
              "</div>"
            ],
            "text/plain": [
              "                      Model Name          MAE      MAPE         RMSE\n",
              "0  Linear Regression Regularized  1891.702084  0.289165  2744.462517"
            ]
          },
          "metadata": {
            "tags": []
          },
          "execution_count": 59
        }
      ]
    },
    {
      "cell_type": "markdown",
      "metadata": {
        "id": "tqetVXFRkQYr"
      },
      "source": [
        "### 7.3.1 Lasso - Cross Validation"
      ]
    },
    {
      "cell_type": "code",
      "metadata": {
        "colab": {
          "base_uri": "https://localhost:8080/",
          "height": 0
        },
        "id": "kRSNZSYkkP1T",
        "outputId": "2dd81fcf-79ea-44ff-b787-24b731b8b72e"
      },
      "source": [
        "lrr_result_cv = cross_validation(x_training, 5, 'Lasso', lrr, verbose=False)\n",
        "lrr_result_cv"
      ],
      "execution_count": 60,
      "outputs": [
        {
          "output_type": "execute_result",
          "data": {
            "text/html": [
              "<div>\n",
              "<style scoped>\n",
              "    .dataframe tbody tr th:only-of-type {\n",
              "        vertical-align: middle;\n",
              "    }\n",
              "\n",
              "    .dataframe tbody tr th {\n",
              "        vertical-align: top;\n",
              "    }\n",
              "\n",
              "    .dataframe thead th {\n",
              "        text-align: right;\n",
              "    }\n",
              "</style>\n",
              "<table border=\"1\" class=\"dataframe\">\n",
              "  <thead>\n",
              "    <tr style=\"text-align: right;\">\n",
              "      <th></th>\n",
              "      <th>MAE CV</th>\n",
              "      <th>MAPE CV</th>\n",
              "      <th>RMSE CV</th>\n",
              "    </tr>\n",
              "  </thead>\n",
              "  <tbody>\n",
              "    <tr>\n",
              "      <th>0</th>\n",
              "      <td>2116.39 +/- 341.51</td>\n",
              "      <td>0.29 +/- 0.01</td>\n",
              "      <td>3057.76 +/- 504.27</td>\n",
              "    </tr>\n",
              "  </tbody>\n",
              "</table>\n",
              "</div>"
            ],
            "text/plain": [
              "               MAE CV        MAPE CV             RMSE CV\n",
              "0  2116.39 +/- 341.51  0.29 +/- 0.01  3057.76 +/- 504.27"
            ]
          },
          "metadata": {
            "tags": []
          },
          "execution_count": 60
        }
      ]
    },
    {
      "cell_type": "markdown",
      "metadata": {
        "id": "imaJoT9z88I0"
      },
      "source": [
        "## 7.4 Random Forest Regressor"
      ]
    },
    {
      "cell_type": "code",
      "metadata": {
        "colab": {
          "base_uri": "https://localhost:8080/",
          "height": 0
        },
        "id": "hx4wbLRL88I0",
        "outputId": "62785e07-38d8-4ef8-9bb7-e1e339deddd6"
      },
      "source": [
        "#model\n",
        "rf = RandomForestRegressor(n_estimators=100, n_jobs=-1,random_state=42).fit(x_train,y_train)\n",
        "\n",
        "#prediction\n",
        "yhat_rf = rf.predict(x_test)\n",
        "\n",
        "#performance\n",
        "rf_result = ml_error('Random Forest Regressor', np.expm1(y_test), np.expm1(yhat_rf))\n",
        "rf_result"
      ],
      "execution_count": 61,
      "outputs": [
        {
          "output_type": "execute_result",
          "data": {
            "text/html": [
              "<div>\n",
              "<style scoped>\n",
              "    .dataframe tbody tr th:only-of-type {\n",
              "        vertical-align: middle;\n",
              "    }\n",
              "\n",
              "    .dataframe tbody tr th {\n",
              "        vertical-align: top;\n",
              "    }\n",
              "\n",
              "    .dataframe thead th {\n",
              "        text-align: right;\n",
              "    }\n",
              "</style>\n",
              "<table border=\"1\" class=\"dataframe\">\n",
              "  <thead>\n",
              "    <tr style=\"text-align: right;\">\n",
              "      <th></th>\n",
              "      <th>Model Name</th>\n",
              "      <th>MAE</th>\n",
              "      <th>MAPE</th>\n",
              "      <th>RMSE</th>\n",
              "    </tr>\n",
              "  </thead>\n",
              "  <tbody>\n",
              "    <tr>\n",
              "      <th>0</th>\n",
              "      <td>Random Forest Regressor</td>\n",
              "      <td>687.318371</td>\n",
              "      <td>0.101078</td>\n",
              "      <td>1021.03838</td>\n",
              "    </tr>\n",
              "  </tbody>\n",
              "</table>\n",
              "</div>"
            ],
            "text/plain": [
              "                Model Name         MAE      MAPE        RMSE\n",
              "0  Random Forest Regressor  687.318371  0.101078  1021.03838"
            ]
          },
          "metadata": {
            "tags": []
          },
          "execution_count": 61
        }
      ]
    },
    {
      "cell_type": "markdown",
      "metadata": {
        "id": "hwngl6pZqYoA"
      },
      "source": [
        "### 7.4.1 Random Forest Regressor - Cross Validation"
      ]
    },
    {
      "cell_type": "code",
      "metadata": {
        "colab": {
          "base_uri": "https://localhost:8080/",
          "height": 0
        },
        "id": "e85FDw14qdAs",
        "outputId": "5d3df3ac-56f6-4078-a16c-2ceb7d86f240"
      },
      "source": [
        "rf_result_cv = cross_validation(x_training, 5, 'Random Forest', rf, verbose=True)\n",
        "rf_result_cv"
      ],
      "execution_count": 62,
      "outputs": [
        {
          "output_type": "stream",
          "text": [
            "\n",
            "KFold Number: 5\n",
            "\n",
            "KFold Number: 4\n",
            "\n",
            "KFold Number: 3\n",
            "\n",
            "KFold Number: 2\n",
            "\n",
            "KFold Number: 1\n"
          ],
          "name": "stdout"
        },
        {
          "output_type": "execute_result",
          "data": {
            "text/html": [
              "<div>\n",
              "<style scoped>\n",
              "    .dataframe tbody tr th:only-of-type {\n",
              "        vertical-align: middle;\n",
              "    }\n",
              "\n",
              "    .dataframe tbody tr th {\n",
              "        vertical-align: top;\n",
              "    }\n",
              "\n",
              "    .dataframe thead th {\n",
              "        text-align: right;\n",
              "    }\n",
              "</style>\n",
              "<table border=\"1\" class=\"dataframe\">\n",
              "  <thead>\n",
              "    <tr style=\"text-align: right;\">\n",
              "      <th></th>\n",
              "      <th>MAE CV</th>\n",
              "      <th>MAPE CV</th>\n",
              "      <th>RMSE CV</th>\n",
              "    </tr>\n",
              "  </thead>\n",
              "  <tbody>\n",
              "    <tr>\n",
              "      <th>0</th>\n",
              "      <td>838.28 +/- 218.2</td>\n",
              "      <td>0.12 +/- 0.02</td>\n",
              "      <td>1257.66 +/- 319.42</td>\n",
              "    </tr>\n",
              "  </tbody>\n",
              "</table>\n",
              "</div>"
            ],
            "text/plain": [
              "             MAE CV        MAPE CV             RMSE CV\n",
              "0  838.28 +/- 218.2  0.12 +/- 0.02  1257.66 +/- 319.42"
            ]
          },
          "metadata": {
            "tags": []
          },
          "execution_count": 62
        }
      ]
    },
    {
      "cell_type": "markdown",
      "metadata": {
        "id": "HW4hJQiQ88I0"
      },
      "source": [
        "## 7.5 XGBoost"
      ]
    },
    {
      "cell_type": "code",
      "metadata": {
        "colab": {
          "base_uri": "https://localhost:8080/",
          "height": 0
        },
        "id": "rcsWREOg88I0",
        "outputId": "62f499fa-de29-4284-d7c8-c9e90b8bdd68"
      },
      "source": [
        "#model\n",
        "model_xgb = xgb.XGBRegressor(objective = 'reg:squarederror',\n",
        "                            n_estimators=100,\n",
        "                            eta=0.01,\n",
        "                            max_depth=10,\n",
        "                            subsample=0.7,\n",
        "                            colsample_bytee=0.9).fit(x_train,y_train)\n",
        "\n",
        "#prediction\n",
        "yhat_xgb = model_xgb.predict(x_test)\n",
        "\n",
        "#performance\n",
        "xgb_result = ml_error('XGBoost Regressor', np.expm1(y_test), np.expm1(yhat_xgb))\n",
        "xgb_result"
      ],
      "execution_count": 63,
      "outputs": [
        {
          "output_type": "execute_result",
          "data": {
            "text/html": [
              "<div>\n",
              "<style scoped>\n",
              "    .dataframe tbody tr th:only-of-type {\n",
              "        vertical-align: middle;\n",
              "    }\n",
              "\n",
              "    .dataframe tbody tr th {\n",
              "        vertical-align: top;\n",
              "    }\n",
              "\n",
              "    .dataframe thead th {\n",
              "        text-align: right;\n",
              "    }\n",
              "</style>\n",
              "<table border=\"1\" class=\"dataframe\">\n",
              "  <thead>\n",
              "    <tr style=\"text-align: right;\">\n",
              "      <th></th>\n",
              "      <th>Model Name</th>\n",
              "      <th>MAE</th>\n",
              "      <th>MAPE</th>\n",
              "      <th>RMSE</th>\n",
              "    </tr>\n",
              "  </thead>\n",
              "  <tbody>\n",
              "    <tr>\n",
              "      <th>0</th>\n",
              "      <td>XGBoost Regressor</td>\n",
              "      <td>864.410771</td>\n",
              "      <td>0.124925</td>\n",
              "      <td>1271.519798</td>\n",
              "    </tr>\n",
              "  </tbody>\n",
              "</table>\n",
              "</div>"
            ],
            "text/plain": [
              "          Model Name         MAE      MAPE         RMSE\n",
              "0  XGBoost Regressor  864.410771  0.124925  1271.519798"
            ]
          },
          "metadata": {
            "tags": []
          },
          "execution_count": 63
        }
      ]
    },
    {
      "cell_type": "markdown",
      "metadata": {
        "id": "v48AjCOt5HHs"
      },
      "source": [
        "### 7.5.1 XGBoost - Cross Validation"
      ]
    },
    {
      "cell_type": "code",
      "metadata": {
        "colab": {
          "base_uri": "https://localhost:8080/",
          "height": 0
        },
        "id": "FM8xjpIm5Lhb",
        "outputId": "8a2f9262-913e-4b01-f5c5-a37a2c63525a"
      },
      "source": [
        "xgb_result_cv = cross_validation(x_training, 5, 'XGBoost', model_xgb, verbose=True)\n",
        "xgb_result_cv"
      ],
      "execution_count": 64,
      "outputs": [
        {
          "output_type": "stream",
          "text": [
            "\n",
            "KFold Number: 5\n",
            "\n",
            "KFold Number: 4\n",
            "\n",
            "KFold Number: 3\n",
            "\n",
            "KFold Number: 2\n",
            "\n",
            "KFold Number: 1\n"
          ],
          "name": "stdout"
        },
        {
          "output_type": "execute_result",
          "data": {
            "text/html": [
              "<div>\n",
              "<style scoped>\n",
              "    .dataframe tbody tr th:only-of-type {\n",
              "        vertical-align: middle;\n",
              "    }\n",
              "\n",
              "    .dataframe tbody tr th {\n",
              "        vertical-align: top;\n",
              "    }\n",
              "\n",
              "    .dataframe thead th {\n",
              "        text-align: right;\n",
              "    }\n",
              "</style>\n",
              "<table border=\"1\" class=\"dataframe\">\n",
              "  <thead>\n",
              "    <tr style=\"text-align: right;\">\n",
              "      <th></th>\n",
              "      <th>MAE CV</th>\n",
              "      <th>MAPE CV</th>\n",
              "      <th>RMSE CV</th>\n",
              "    </tr>\n",
              "  </thead>\n",
              "  <tbody>\n",
              "    <tr>\n",
              "      <th>0</th>\n",
              "      <td>1022.52 +/- 156.61</td>\n",
              "      <td>0.14 +/- 0.02</td>\n",
              "      <td>1474.96 +/- 216.05</td>\n",
              "    </tr>\n",
              "  </tbody>\n",
              "</table>\n",
              "</div>"
            ],
            "text/plain": [
              "               MAE CV        MAPE CV             RMSE CV\n",
              "0  1022.52 +/- 156.61  0.14 +/- 0.02  1474.96 +/- 216.05"
            ]
          },
          "metadata": {
            "tags": []
          },
          "execution_count": 64
        }
      ]
    },
    {
      "cell_type": "markdown",
      "metadata": {
        "id": "WM_5djyv88I1"
      },
      "source": [
        "## 7.6 Compare Model's Performance"
      ]
    },
    {
      "cell_type": "markdown",
      "metadata": {
        "id": "Qrxz-iIp-c6V"
      },
      "source": [
        "### 7.6.1 Single Performance"
      ]
    },
    {
      "cell_type": "code",
      "metadata": {
        "colab": {
          "base_uri": "https://localhost:8080/",
          "height": 0
        },
        "id": "oR3iF4l788I1",
        "outputId": "5b4427b5-1596-48fc-98a1-9a78411a8293"
      },
      "source": [
        "modelling_result = pd.concat([baseline_result, lr_result, lrr_result, rf_result, xgb_result])\n",
        "modelling_result.sort_values('RMSE')"
      ],
      "execution_count": 65,
      "outputs": [
        {
          "output_type": "execute_result",
          "data": {
            "text/html": [
              "<div>\n",
              "<style scoped>\n",
              "    .dataframe tbody tr th:only-of-type {\n",
              "        vertical-align: middle;\n",
              "    }\n",
              "\n",
              "    .dataframe tbody tr th {\n",
              "        vertical-align: top;\n",
              "    }\n",
              "\n",
              "    .dataframe thead th {\n",
              "        text-align: right;\n",
              "    }\n",
              "</style>\n",
              "<table border=\"1\" class=\"dataframe\">\n",
              "  <thead>\n",
              "    <tr style=\"text-align: right;\">\n",
              "      <th></th>\n",
              "      <th>Model Name</th>\n",
              "      <th>MAE</th>\n",
              "      <th>MAPE</th>\n",
              "      <th>RMSE</th>\n",
              "    </tr>\n",
              "  </thead>\n",
              "  <tbody>\n",
              "    <tr>\n",
              "      <th>0</th>\n",
              "      <td>Random Forest Regressor</td>\n",
              "      <td>687.318371</td>\n",
              "      <td>0.101078</td>\n",
              "      <td>1021.038380</td>\n",
              "    </tr>\n",
              "    <tr>\n",
              "      <th>0</th>\n",
              "      <td>XGBoost Regressor</td>\n",
              "      <td>864.410771</td>\n",
              "      <td>0.124925</td>\n",
              "      <td>1271.519798</td>\n",
              "    </tr>\n",
              "    <tr>\n",
              "      <th>0</th>\n",
              "      <td>Average Model</td>\n",
              "      <td>1354.800167</td>\n",
              "      <td>0.413085</td>\n",
              "      <td>1835.141019</td>\n",
              "    </tr>\n",
              "    <tr>\n",
              "      <th>0</th>\n",
              "      <td>Linear Regression</td>\n",
              "      <td>1867.086951</td>\n",
              "      <td>0.292756</td>\n",
              "      <td>2671.056821</td>\n",
              "    </tr>\n",
              "    <tr>\n",
              "      <th>0</th>\n",
              "      <td>Linear Regression Regularized</td>\n",
              "      <td>1891.702084</td>\n",
              "      <td>0.289165</td>\n",
              "      <td>2744.462517</td>\n",
              "    </tr>\n",
              "  </tbody>\n",
              "</table>\n",
              "</div>"
            ],
            "text/plain": [
              "                      Model Name          MAE      MAPE         RMSE\n",
              "0        Random Forest Regressor   687.318371  0.101078  1021.038380\n",
              "0              XGBoost Regressor   864.410771  0.124925  1271.519798\n",
              "0                  Average Model  1354.800167  0.413085  1835.141019\n",
              "0              Linear Regression  1867.086951  0.292756  2671.056821\n",
              "0  Linear Regression Regularized  1891.702084  0.289165  2744.462517"
            ]
          },
          "metadata": {
            "tags": []
          },
          "execution_count": 65
        }
      ]
    },
    {
      "cell_type": "markdown",
      "metadata": {
        "id": "kuY74Tkz-iJz"
      },
      "source": [
        "### 7.6.2 Real Performance - Cross Validation"
      ]
    },
    {
      "cell_type": "code",
      "metadata": {
        "id": "QLUwfXxf-ndl",
        "colab": {
          "base_uri": "https://localhost:8080/",
          "height": 0
        },
        "outputId": "de0a3e8c-d59c-4b5d-e0f0-2f25ae007a69"
      },
      "source": [
        "modelling_result_cv = pd.concat([lr_result_cv, lrr_result_cv, rf_result_cv, xgb_result_cv])\n",
        "modelling_result_cv"
      ],
      "execution_count": 66,
      "outputs": [
        {
          "output_type": "execute_result",
          "data": {
            "text/html": [
              "<div>\n",
              "<style scoped>\n",
              "    .dataframe tbody tr th:only-of-type {\n",
              "        vertical-align: middle;\n",
              "    }\n",
              "\n",
              "    .dataframe tbody tr th {\n",
              "        vertical-align: top;\n",
              "    }\n",
              "\n",
              "    .dataframe thead th {\n",
              "        text-align: right;\n",
              "    }\n",
              "</style>\n",
              "<table border=\"1\" class=\"dataframe\">\n",
              "  <thead>\n",
              "    <tr style=\"text-align: right;\">\n",
              "      <th></th>\n",
              "      <th>MAE CV</th>\n",
              "      <th>MAPE CV</th>\n",
              "      <th>RMSE CV</th>\n",
              "    </tr>\n",
              "  </thead>\n",
              "  <tbody>\n",
              "    <tr>\n",
              "      <th>0</th>\n",
              "      <td>2081.73 +/- 295.64</td>\n",
              "      <td>0.3 +/- 0.02</td>\n",
              "      <td>2952.53 +/- 468.38</td>\n",
              "    </tr>\n",
              "    <tr>\n",
              "      <th>0</th>\n",
              "      <td>2116.39 +/- 341.51</td>\n",
              "      <td>0.29 +/- 0.01</td>\n",
              "      <td>3057.76 +/- 504.27</td>\n",
              "    </tr>\n",
              "    <tr>\n",
              "      <th>0</th>\n",
              "      <td>838.28 +/- 218.2</td>\n",
              "      <td>0.12 +/- 0.02</td>\n",
              "      <td>1257.66 +/- 319.42</td>\n",
              "    </tr>\n",
              "    <tr>\n",
              "      <th>0</th>\n",
              "      <td>1022.52 +/- 156.61</td>\n",
              "      <td>0.14 +/- 0.02</td>\n",
              "      <td>1474.96 +/- 216.05</td>\n",
              "    </tr>\n",
              "  </tbody>\n",
              "</table>\n",
              "</div>"
            ],
            "text/plain": [
              "               MAE CV        MAPE CV             RMSE CV\n",
              "0  2081.73 +/- 295.64   0.3 +/- 0.02  2952.53 +/- 468.38\n",
              "0  2116.39 +/- 341.51  0.29 +/- 0.01  3057.76 +/- 504.27\n",
              "0    838.28 +/- 218.2  0.12 +/- 0.02  1257.66 +/- 319.42\n",
              "0  1022.52 +/- 156.61  0.14 +/- 0.02  1474.96 +/- 216.05"
            ]
          },
          "metadata": {
            "tags": []
          },
          "execution_count": 66
        }
      ]
    },
    {
      "cell_type": "markdown",
      "metadata": {
        "id": "eIAWzfN8A2P1"
      },
      "source": [
        "# 8.0 Hyperparameter Fine Tuning"
      ]
    },
    {
      "cell_type": "markdown",
      "metadata": {
        "id": "Iy3s7tTGA_Vr"
      },
      "source": [
        "## 8.1 Random Search"
      ]
    },
    {
      "cell_type": "code",
      "metadata": {
        "id": "N0c48p_3A1qI"
      },
      "source": [
        "#warnings.filterwarnings('ignore')\n",
        "\n",
        "#param = {'n_estimators': [1500, 1700, 2500, 3000, 3500],\n",
        "         #'eta': [0.01, 0.03],\n",
        "         #'max_depth': [3, 5, 9],\n",
        "         #'subsample': [0.1, 0.5, 0.7],\n",
        "         #'colsample_bytree': [0.3, 0.7, 0.9],\n",
        "         #'min_child_weight': [3, 8, 15]}\n",
        "\n",
        "#MAX_EVAL = 10"
      ],
      "execution_count": 67,
      "outputs": []
    },
    {
      "cell_type": "code",
      "metadata": {
        "id": "1xJkIWLjCKWu"
      },
      "source": [
        "#final_result = pd.DataFrame()\n",
        "\n",
        "#for i in range(MAX_EVAL):\n",
        "  #choose values for parameters randomly\n",
        "#  hp = {k: random.sample(v,1)[0] for k, v in param.items()}\n",
        " # print(hp)\n",
        "\n",
        "  #model\n",
        " # model_xgb = xgb.XGBRegressor(objective = 'reg:squarederror',\n",
        "                          #  n_estimators = hp['n_estimators'],\n",
        "                          #  eta = hp['eta'],\n",
        "                          #  max_depth = hp['max_depth'],\n",
        "                          # subsample = hp['subsample'],\n",
        "                          #  colsample_bytee = hp['colsample_bytree'])\n",
        "\n",
        "  #performance\n",
        "  #result = cross_validation(x_training, 2, 'XGBoost Regressor', model_xgb, verbose=False)\n",
        "  #final_result = pd.concat([final_result, result])\n",
        "\n",
        "#final_result"
      ],
      "execution_count": 68,
      "outputs": []
    },
    {
      "cell_type": "markdown",
      "metadata": {
        "id": "VEUrBgdhEOsk"
      },
      "source": [
        "## 8.2 Final Result"
      ]
    },
    {
      "cell_type": "code",
      "metadata": {
        "id": "Isk_YupQEQY8"
      },
      "source": [
        "param_tuned = {'n_estimators': 3000,\n",
        "         'eta': 0.03,\n",
        "         'max_depth': 5,\n",
        "         'subsample': 0.7,\n",
        "         'colsample_bytree': 0.7,\n",
        "         'min_child_weight': 3}"
      ],
      "execution_count": 69,
      "outputs": []
    },
    {
      "cell_type": "code",
      "metadata": {
        "id": "Lm8xnQuEEXXy",
        "colab": {
          "base_uri": "https://localhost:8080/",
          "height": 0
        },
        "outputId": "fc3ae3e9-b018-4fb2-8e6f-e59130fcfbe3"
      },
      "source": [
        "#model\n",
        "model_xgb_tuned = xgb.XGBRegressor(objective = 'reg:squarederror',\n",
        "                            n_estimators = param_tuned['n_estimators'],\n",
        "                            eta = param_tuned['eta'],\n",
        "                            max_depth = param_tuned['max_depth'],\n",
        "                            subsample = param_tuned['subsample'],\n",
        "                            colsample_bytee = param_tuned['colsample_bytree']).fit(x_train, y_train)\n",
        "\n",
        "#prediction\n",
        "yhat_xgb_tuned = model_xgb_tuned.predict(x_test)\n",
        "\n",
        "#performance\n",
        "xgb_result_tuned = ml_error('XGBoost Regressor', np.expm1(y_test), np.expm1(yhat_xgb_tuned))\n",
        "xgb_result_tuned"
      ],
      "execution_count": 70,
      "outputs": [
        {
          "output_type": "execute_result",
          "data": {
            "text/html": [
              "<div>\n",
              "<style scoped>\n",
              "    .dataframe tbody tr th:only-of-type {\n",
              "        vertical-align: middle;\n",
              "    }\n",
              "\n",
              "    .dataframe tbody tr th {\n",
              "        vertical-align: top;\n",
              "    }\n",
              "\n",
              "    .dataframe thead th {\n",
              "        text-align: right;\n",
              "    }\n",
              "</style>\n",
              "<table border=\"1\" class=\"dataframe\">\n",
              "  <thead>\n",
              "    <tr style=\"text-align: right;\">\n",
              "      <th></th>\n",
              "      <th>Model Name</th>\n",
              "      <th>MAE</th>\n",
              "      <th>MAPE</th>\n",
              "      <th>RMSE</th>\n",
              "    </tr>\n",
              "  </thead>\n",
              "  <tbody>\n",
              "    <tr>\n",
              "      <th>0</th>\n",
              "      <td>XGBoost Regressor</td>\n",
              "      <td>668.022437</td>\n",
              "      <td>0.098032</td>\n",
              "      <td>963.037535</td>\n",
              "    </tr>\n",
              "  </tbody>\n",
              "</table>\n",
              "</div>"
            ],
            "text/plain": [
              "          Model Name         MAE      MAPE        RMSE\n",
              "0  XGBoost Regressor  668.022437  0.098032  963.037535"
            ]
          },
          "metadata": {
            "tags": []
          },
          "execution_count": 70
        }
      ]
    },
    {
      "cell_type": "markdown",
      "metadata": {
        "id": "LukkZNDfXQ-T"
      },
      "source": [
        "# 9.0 Translation and interpretation error"
      ]
    },
    {
      "cell_type": "code",
      "metadata": {
        "colab": {
          "base_uri": "https://localhost:8080/"
        },
        "id": "UIdNzGc2XXCl",
        "outputId": "cacf0ccb-9cb0-45f8-9a4b-ba409ded873b"
      },
      "source": [
        "df9 = X_test[cols_selected_boruta_full]\n",
        "\n",
        "#rescale\n",
        "df9['sales'] = np.expm1(df9['sales'])\n",
        "df9['predictions'] = np.expm1(yhat_xgb_tuned)"
      ],
      "execution_count": 71,
      "outputs": [
        {
          "output_type": "stream",
          "text": [
            "/usr/local/lib/python3.7/dist-packages/ipykernel_launcher.py:4: SettingWithCopyWarning: \n",
            "A value is trying to be set on a copy of a slice from a DataFrame.\n",
            "Try using .loc[row_indexer,col_indexer] = value instead\n",
            "\n",
            "See the caveats in the documentation: https://pandas.pydata.org/pandas-docs/stable/user_guide/indexing.html#returning-a-view-versus-a-copy\n",
            "  after removing the cwd from sys.path.\n",
            "/usr/local/lib/python3.7/dist-packages/ipykernel_launcher.py:5: SettingWithCopyWarning: \n",
            "A value is trying to be set on a copy of a slice from a DataFrame.\n",
            "Try using .loc[row_indexer,col_indexer] = value instead\n",
            "\n",
            "See the caveats in the documentation: https://pandas.pydata.org/pandas-docs/stable/user_guide/indexing.html#returning-a-view-versus-a-copy\n",
            "  \"\"\"\n"
          ],
          "name": "stderr"
        }
      ]
    },
    {
      "cell_type": "markdown",
      "metadata": {
        "id": "Y-HixBXhYyHZ"
      },
      "source": [
        "## 9.1 Business Performance"
      ]
    },
    {
      "cell_type": "code",
      "metadata": {
        "id": "6lQJlh5aY7vX"
      },
      "source": [
        "#sum of predictions\n",
        "df91 = df9[['store','predictions']].groupby('store').sum().reset_index()\n",
        "\n",
        "#MAE and MAPE\n",
        "df9_aux1 = df9[['store','sales','predictions']].groupby('store').apply(lambda x: mean_absolute_error(x['sales'], x['predictions'])).reset_index().rename(columns={0: 'MAE'})\n",
        "df9_aux2 = df9[['store','sales','predictions']].groupby('store').apply(lambda x: mean_absolute_percentage_error(x['sales'], x['predictions'])).reset_index().rename(columns={0:'MAPE'})\n",
        "\n",
        "#merge\n",
        "df9_aux3 = pd.merge(df9_aux1, df9_aux2, how='inner', on='store')\n",
        "df92 = pd.merge(df91,df9_aux3, how='inner', on='store')\n",
        "\n",
        "#scenarios\n",
        "df92['worst_scenario'] = df92['predictions'] - df92['MAE']\n",
        "df92['best_scenario'] = df92['predictions'] + df92['MAE']\n",
        "\n",
        "#order columns\n",
        "df92 = df92[['store','predictions', 'worst_scenario','best_scenario','MAE','MAPE']]"
      ],
      "execution_count": 72,
      "outputs": []
    },
    {
      "cell_type": "code",
      "metadata": {
        "colab": {
          "base_uri": "https://localhost:8080/",
          "height": 0
        },
        "id": "zyZn2V2KbH5G",
        "outputId": "574efaf3-1b20-485b-8a5d-1aefcf985d63"
      },
      "source": [
        "df92.sort_values('MAPE',ascending=False).head()"
      ],
      "execution_count": 73,
      "outputs": [
        {
          "output_type": "execute_result",
          "data": {
            "text/html": [
              "<div>\n",
              "<style scoped>\n",
              "    .dataframe tbody tr th:only-of-type {\n",
              "        vertical-align: middle;\n",
              "    }\n",
              "\n",
              "    .dataframe tbody tr th {\n",
              "        vertical-align: top;\n",
              "    }\n",
              "\n",
              "    .dataframe thead th {\n",
              "        text-align: right;\n",
              "    }\n",
              "</style>\n",
              "<table border=\"1\" class=\"dataframe\">\n",
              "  <thead>\n",
              "    <tr style=\"text-align: right;\">\n",
              "      <th></th>\n",
              "      <th>store</th>\n",
              "      <th>predictions</th>\n",
              "      <th>worst_scenario</th>\n",
              "      <th>best_scenario</th>\n",
              "      <th>MAE</th>\n",
              "      <th>MAPE</th>\n",
              "    </tr>\n",
              "  </thead>\n",
              "  <tbody>\n",
              "    <tr>\n",
              "      <th>291</th>\n",
              "      <td>292</td>\n",
              "      <td>104024.937500</td>\n",
              "      <td>100704.572831</td>\n",
              "      <td>107345.302169</td>\n",
              "      <td>3320.364669</td>\n",
              "      <td>0.570637</td>\n",
              "    </tr>\n",
              "    <tr>\n",
              "      <th>908</th>\n",
              "      <td>909</td>\n",
              "      <td>244212.890625</td>\n",
              "      <td>236653.837933</td>\n",
              "      <td>251771.943317</td>\n",
              "      <td>7559.052692</td>\n",
              "      <td>0.515193</td>\n",
              "    </tr>\n",
              "    <tr>\n",
              "      <th>875</th>\n",
              "      <td>876</td>\n",
              "      <td>201609.515625</td>\n",
              "      <td>197732.421610</td>\n",
              "      <td>205486.609640</td>\n",
              "      <td>3877.094015</td>\n",
              "      <td>0.293502</td>\n",
              "    </tr>\n",
              "    <tr>\n",
              "      <th>721</th>\n",
              "      <td>722</td>\n",
              "      <td>358672.156250</td>\n",
              "      <td>356525.854809</td>\n",
              "      <td>360818.457691</td>\n",
              "      <td>2146.301441</td>\n",
              "      <td>0.288606</td>\n",
              "    </tr>\n",
              "    <tr>\n",
              "      <th>717</th>\n",
              "      <td>718</td>\n",
              "      <td>195933.218750</td>\n",
              "      <td>193908.750653</td>\n",
              "      <td>197957.686847</td>\n",
              "      <td>2024.468097</td>\n",
              "      <td>0.276714</td>\n",
              "    </tr>\n",
              "  </tbody>\n",
              "</table>\n",
              "</div>"
            ],
            "text/plain": [
              "     store    predictions  worst_scenario  best_scenario          MAE      MAPE\n",
              "291    292  104024.937500   100704.572831  107345.302169  3320.364669  0.570637\n",
              "908    909  244212.890625   236653.837933  251771.943317  7559.052692  0.515193\n",
              "875    876  201609.515625   197732.421610  205486.609640  3877.094015  0.293502\n",
              "721    722  358672.156250   356525.854809  360818.457691  2146.301441  0.288606\n",
              "717    718  195933.218750   193908.750653  197957.686847  2024.468097  0.276714"
            ]
          },
          "metadata": {
            "tags": []
          },
          "execution_count": 73
        }
      ]
    },
    {
      "cell_type": "code",
      "metadata": {
        "colab": {
          "base_uri": "https://localhost:8080/",
          "height": 0
        },
        "id": "7xGnsiDzbl7h",
        "outputId": "a3f9c402-de79-45a0-ca4c-7cd479bae48a"
      },
      "source": [
        "sns.scatterplot(x='store',y='MAPE', data=df92)"
      ],
      "execution_count": 74,
      "outputs": [
        {
          "output_type": "execute_result",
          "data": {
            "text/plain": [
              "<matplotlib.axes._subplots.AxesSubplot at 0x7effa61f1d50>"
            ]
          },
          "metadata": {
            "tags": []
          },
          "execution_count": 74
        },
        {
          "output_type": "display_data",
          "data": {
            "image/png": "[encoded data removed]",
            "text/plain": [
              "<Figure size 432x288 with 1 Axes>"
            ]
          },
          "metadata": {
            "tags": [],
            "needs_background": "light"
          }
        }
      ]
    },
    {
      "cell_type": "markdown",
      "metadata": {
        "id": "kRIVVSn8Y23j"
      },
      "source": [
        "## 9.2 Total Performance"
      ]
    },
    {
      "cell_type": "code",
      "metadata": {
        "colab": {
          "base_uri": "https://localhost:8080/",
          "height": 0
        },
        "id": "Vp5HPSWSb_5v",
        "outputId": "0d6c6ab1-3c94-4815-a83a-d887a2b381ee"
      },
      "source": [
        "df93 = df92[['predictions', 'worst_scenario','best_scenario']].apply(lambda x: np.sum(x), axis=0).reset_index().rename(columns={'index': 'Scneario', 0:'Values'})\n",
        "df93['Values'] = df93['Values'].map('R$ {:,.2f}'.format)\n",
        "df93"
      ],
      "execution_count": 75,
      "outputs": [
        {
          "output_type": "execute_result",
          "data": {
            "text/html": [
              "<div>\n",
              "<style scoped>\n",
              "    .dataframe tbody tr th:only-of-type {\n",
              "        vertical-align: middle;\n",
              "    }\n",
              "\n",
              "    .dataframe tbody tr th {\n",
              "        vertical-align: top;\n",
              "    }\n",
              "\n",
              "    .dataframe thead th {\n",
              "        text-align: right;\n",
              "    }\n",
              "</style>\n",
              "<table border=\"1\" class=\"dataframe\">\n",
              "  <thead>\n",
              "    <tr style=\"text-align: right;\">\n",
              "      <th></th>\n",
              "      <th>Scneario</th>\n",
              "      <th>Values</th>\n",
              "    </tr>\n",
              "  </thead>\n",
              "  <tbody>\n",
              "    <tr>\n",
              "      <th>0</th>\n",
              "      <td>predictions</td>\n",
              "      <td>R$ 286,150,016.00</td>\n",
              "    </tr>\n",
              "    <tr>\n",
              "      <th>1</th>\n",
              "      <td>worst_scenario</td>\n",
              "      <td>R$ 285,401,124.72</td>\n",
              "    </tr>\n",
              "    <tr>\n",
              "      <th>2</th>\n",
              "      <td>best_scenario</td>\n",
              "      <td>R$ 286,898,936.70</td>\n",
              "    </tr>\n",
              "  </tbody>\n",
              "</table>\n",
              "</div>"
            ],
            "text/plain": [
              "         Scneario             Values\n",
              "0     predictions  R$ 286,150,016.00\n",
              "1  worst_scenario  R$ 285,401,124.72\n",
              "2   best_scenario  R$ 286,898,936.70"
            ]
          },
          "metadata": {
            "tags": []
          },
          "execution_count": 75
        }
      ]
    },
    {
      "cell_type": "markdown",
      "metadata": {
        "id": "QwGz-U2WY5Kd"
      },
      "source": [
        "## 9.3 ML Performance"
      ]
    },
    {
      "cell_type": "code",
      "metadata": {
        "colab": {
          "base_uri": "https://localhost:8080/"
        },
        "id": "dgz4KOLJYxoP",
        "outputId": "a7432691-ac4f-404c-f425-a14afde42f0e"
      },
      "source": [
        "df9['error'] = df9['sales'] - df9['predictions']\n",
        "df9['error_rate'] = df9['predictions']/df9['sales']"
      ],
      "execution_count": 76,
      "outputs": [
        {
          "output_type": "stream",
          "text": [
            "/usr/local/lib/python3.7/dist-packages/ipykernel_launcher.py:1: SettingWithCopyWarning: \n",
            "A value is trying to be set on a copy of a slice from a DataFrame.\n",
            "Try using .loc[row_indexer,col_indexer] = value instead\n",
            "\n",
            "See the caveats in the documentation: https://pandas.pydata.org/pandas-docs/stable/user_guide/indexing.html#returning-a-view-versus-a-copy\n",
            "  \"\"\"Entry point for launching an IPython kernel.\n",
            "/usr/local/lib/python3.7/dist-packages/ipykernel_launcher.py:2: SettingWithCopyWarning: \n",
            "A value is trying to be set on a copy of a slice from a DataFrame.\n",
            "Try using .loc[row_indexer,col_indexer] = value instead\n",
            "\n",
            "See the caveats in the documentation: https://pandas.pydata.org/pandas-docs/stable/user_guide/indexing.html#returning-a-view-versus-a-copy\n",
            "  \n"
          ],
          "name": "stderr"
        }
      ]
    },
    {
      "cell_type": "code",
      "metadata": {
        "colab": {
          "base_uri": "https://localhost:8080/",
          "height": 0
        },
        "id": "PTZixeQkYxsB",
        "outputId": "afa8820f-48d8-4ead-d2b6-b0c09b2ee297"
      },
      "source": [
        "plt.subplot(2,2,1)\n",
        "sns.lineplot(x='date', y='sales', data=df9, label='SALES')\n",
        "sns.lineplot(x='date', y='predictions', data=df9, label='PREDICTIONS')\n",
        "\n",
        "plt.subplot(2,2,2)\n",
        "sns.lineplot(x='date', y='error_rate', data=df9)\n",
        "\n",
        "plt.subplot(2,2,3)\n",
        "sns.distplot(df9['error'])\n",
        "\n",
        "plt.subplot(2,2,4)\n",
        "sns.scatterplot(df9['error'])"
      ],
      "execution_count": 77,
      "outputs": [
        {
          "output_type": "stream",
          "text": [
            "/usr/local/lib/python3.7/dist-packages/seaborn/distributions.py:2557: FutureWarning: `distplot` is a deprecated function and will be removed in a future version. Please adapt your code to use either `displot` (a figure-level function with similar flexibility) or `histplot` (an axes-level function for histograms).\n",
            "  warnings.warn(msg, FutureWarning)\n",
            "/usr/local/lib/python3.7/dist-packages/seaborn/_decorators.py:43: FutureWarning: Pass the following variable as a keyword arg: x. From version 0.12, the only valid positional argument will be `data`, and passing other arguments without an explicit keyword will result in an error or misinterpretation.\n",
            "  FutureWarning\n"
          ],
          "name": "stderr"
        },
        {
          "output_type": "execute_result",
          "data": {
            "text/plain": [
              "<matplotlib.axes._subplots.AxesSubplot at 0x7effa5ba8fd0>"
            ]
          },
          "metadata": {
            "tags": []
          },
          "execution_count": 77
        },
        {
          "output_type": "display_data",
          "data": {
            "image/png": "[encoded data removed]",
            "text/plain": [
              "<Figure size 432x288 with 4 Axes>"
            ]
          },
          "metadata": {
            "tags": [],
            "needs_background": "light"
          }
        }
      ]
    },
    {
      "cell_type": "markdown",
      "metadata": {
        "id": "86GFLd1jMACK"
      },
      "source": [
        "# 10.0 Deploy model to production"
      ]
    },
    {
      "cell_type": "code",
      "metadata": {
        "id": "d52giFqHL_dF"
      },
      "source": [
        "#saved trained model\n",
        "pickle.dump(model_xgb_tuned, open('model_rossmann.pkl','+wb'))"
      ],
      "execution_count": 78,
      "outputs": []
    },
    {
      "cell_type": "markdown",
      "metadata": {
        "id": "EAa0He92MYAp"
      },
      "source": [
        "## 10.1 Rossmann Class"
      ]
    },
    {
      "cell_type": "code",
      "metadata": {
        "id": "_-3Fj5XsR3c2"
      },
      "source": [
        "import pickle\n",
        "import inflection\n",
        "import pandas as pd\n",
        "import numpy as np\n",
        "import math\n",
        "import datetime\n",
        "\n",
        "class Rossmann(object):\n",
        "  def __init__(self):\n",
        "    self.home_path = 'C:/Users/Henrique/data_science_producao/'\n",
        "    self.competition_distance_scaler   = pickle.load(open(self.home_path + 'scaler/competition_distance_scaler.pkl', 'rb'))\n",
        "    self.competition_time_month_scaler = pickle.load(open(self.home_path + 'scaler/competition_time_month_scaler.pkl', 'rb'))\n",
        "    self.promo_time_week_scaler        = pickle.load(open(self.home_path + 'scaler/promo_time_week_scaler.pkl', 'rb'))\n",
        "    self.year_scaler                   = pickle.load(open(self.home_path + 'scaler/year_scaler.pkl', 'rb'))\n",
        "    self.store_type_scaler             = pickle.loadp(open(self.home_path + 'scaler/store_type_scaler.pkl', 'rb'))\n",
        "    state=1\n",
        "\n",
        "  def data_cleaning(self,df1):\n",
        "    # 1.1 Rename Columns\n",
        "    cols_old = ['Store', 'StoreType', 'Assortment', 'CompetitionDistance',\n",
        "       'CompetitionOpenSinceMonth', 'CompetitionOpenSinceYear', 'Promo2',\n",
        "       'Promo2SinceWeek', 'Promo2SinceYear', 'PromoInterval', 'DayOfWeek',\n",
        "       'Date', 'Open', 'Promo', 'StateHoliday',\n",
        "       'SchoolHoliday']\n",
        "       \n",
        "    sneakcase = lambda x: inflection.underscore (x)\n",
        "    cols_new = list(map(sneakcase,cols_old))\n",
        "    \n",
        "    #rename\n",
        "    df1.columns = cols_new\n",
        "    \n",
        "    #1.3 Data types\n",
        "    df1['date'] = pd.to_datetime(df1['date'])\n",
        "    \n",
        "    #1.5 Fillout NA\n",
        "    #competition_distance\n",
        "    df1['competition_distance'] = df1['competition_distance'].apply(lambda x: 200000.0 if math.isnan(x) else x)\n",
        "    \n",
        "    #competition_open_since_month\n",
        "    df1['competition_open_since_month'] = df1.apply(lambda x: x['date'].month if math.isnan (x['competition_open_since_month']) else x['competition_open_since_month'], axis=1)\n",
        "    \n",
        "    #competition_open_since_year\n",
        "    df1['competition_open_since_year'] = df1.apply(lambda x: x['date'].year if math.isnan (x['competition_open_since_year']) else x['competition_open_since_year'], axis=1)\n",
        "    \n",
        "    #promo2_since_week\n",
        "    df1['promo2_since_week'] = df1.apply(lambda x: x['date'].week if math.isnan (x['promo2_since_week']) else x['promo2_since_week'],axis=1)\n",
        "    \n",
        "    #promo2_since_year\n",
        "    df1['promo2_since_year'] = df1.apply(lambda x: x['date'].year if math.isnan (x['promo2_since_year']) else x['promo2_since_year'],axis=1)\n",
        "    \n",
        "    #promo_interval\n",
        "    month_map = {1: 'Jan', 2:'Fev', 3:'Mar', 4:'Abr', 5:'May', 6:'Jun', 7:'Jul', 8:'Ago', 9:'Set', 10:'Oct', 11:'Nov', 12:'Dec'}\n",
        "    df1['promo_interval'].fillna(0,inplace=True)\n",
        "    df1['month_map'] = df1['date'].dt.month.map(month_map)\n",
        "    df1['is_promo'] = df1[['promo_interval','month_map']].apply(lambda x: 0 if x['promo_interval'] == 0 else 1 if x['month_map'] in x['promo_interval'].split(',') else 0, axis=1)\n",
        "    \n",
        "    #1.6 Change Type\n",
        "    df1['competition_open_since_month'] = df1['competition_open_since_month'].astype('int64')\n",
        "    df1['competition_open_since_year'] = df1['competition_open_since_year'].astype('int64')\n",
        "    df1['promo2_since_week'] = df1['promo2_since_week'].astype('int64')\n",
        "    df1['promo2_since_year'] = df1['promo2_since_year'].astype('int64')\n",
        "\n",
        "    return df1\n",
        "\n",
        "  def feature_engineering(self,df2):\n",
        "    #year\n",
        "    df2['year'] = df2['date'].dt.year\n",
        "    \n",
        "    #month\n",
        "    df2['month'] = df2['date'].dt.month\n",
        "    \n",
        "    #day\n",
        "    df2['day'] = df2['date'].dt.day\n",
        "    \n",
        "    #week_of_year\n",
        "    df2['week_of_year'] = df2['date'].dt.isocalendar().week\n",
        "    \n",
        "    #year_week\n",
        "    df2['year_week'] = df2['date'].dt.strftime('%Y-%W')\n",
        "    \n",
        "    #competition_since\n",
        "    df2['competition_since'] = df2.apply(lambda x: datetime(year=x['competition_open_since_year'],month=x['competition_open_since_month'],day=1),axis=1)\n",
        "    df2['competition_time_month'] = ((df2['date']-df2['competition_since'])/30).apply(lambda x: x.days).astype(int)\n",
        "    \n",
        "    #promo_since\n",
        "    df2['promo_since'] = df2['promo2_since_year'].astype(str) + '-' + df2['promo2_since_week'].astype(str)\n",
        "    df2['promo_since'] = df2['promo_since'].apply(lambda x: datetime.strptime(x + '-1', '%Y-%W-%w')- timedelta(days=7))\n",
        "    df2['promo_time_week'] = ((df2['date']-df2['promo_since'])/7).apply(lambda x: x.days).astype(int)\n",
        "    \n",
        "    #assortment\n",
        "    df2['assortment'] = df2['assortment'].apply(lambda x: 'basic' if x == 'a' else 'extra' if x == 'b' else 'extended')\n",
        "    \n",
        "    #state_holiday\n",
        "    df2['state_holiday'] = df2['state_holiday'].apply(lambda x: 'public_holiday' if x == 'a' else 'easter_holiday' if x == 'b' else 'christmas' if x == 'c' else 'regular_day')\n",
        "\n",
        "    #Filtering lines\n",
        "    df2 = df2[(df2['open'] != 0)]\n",
        "    \n",
        "    #Filtering cols\n",
        "    cols_drop = ['open', 'promo_interval', 'month_map']\n",
        "    df2 = df2.drop(cols_drop, axis=1)\n",
        "\n",
        "    return df2\n",
        "\n",
        "  def data_preparation(self,df5):\n",
        "    #competition_distance\n",
        "    df5['competition_distance'] = self.competition_distance_scaler.fit_transform(df5[['competition_distance']].values)\n",
        "    \n",
        "    #competition_time_month\n",
        "    df5['competition_time_month'] = self.competition_time_month_scaler.fit_transform(df5[['competition_time_month']].values)\n",
        "    \n",
        "    #promo_time_week\n",
        "    df5['promo_time_week'] = self.promo_time_week_scaler.fit_transform(df5[['promo_time_week']].values)\n",
        "    \n",
        "    #year\n",
        "    df5['year'] = self.year_scaler.fit_transform(df5[['year']].values)\n",
        "\n",
        "    #state_holiday - One Hot Encoding\n",
        "    df5 = pd.get_dummies(df5,prefix=['state_holiday'], columns=['state_holiday'])\n",
        "    \n",
        "    #store_type - Label Encoding\n",
        "    df5['store_type'] = self.store_type_scaler.fit_transform(df5['store_type'])\n",
        "    \n",
        "    #assortment - Ordinal Encoding\n",
        "    assortment_dict = {'basic':1, 'extra':2, 'extended':3}\n",
        "    df5['assortment'] = df5['assortment'].map(assortment_dict)\n",
        "\n",
        "    #day_of_week\n",
        "    df5['day_of_week_sin'] = df5['day_of_week'].apply(lambda x: np.sin(x*(2.*np.pi/7)))\n",
        "    df5['day_of_week_cos'] = df5['day_of_week'].apply(lambda x: np.cos(x*(2.*np.pi/7)))\n",
        "    \n",
        "    #month\n",
        "    df5['month_sin'] = df5['month'].apply(lambda x: np.sin(x*(2.*np.pi/12)))\n",
        "    df5['month_cos'] = df5['month'].apply(lambda x: np.cos(x*(2.*np.pi/12)))\n",
        "    \n",
        "    #day\n",
        "    df5['day_sin'] = df5['day'].apply(lambda x: np.sin(x*(2.*np.pi/30)))\n",
        "    df5['day_cos'] = df5['day'].apply(lambda x: np.cos(x*(2.*np.pi/30)))\n",
        "    \n",
        "    #week_of_year\n",
        "    df5['week_of_year_sin'] = df5['week_of_year'].apply(lambda x: np.sin(x*(2.*np.pi/52)))\n",
        "    df5['week_of_year_cos'] = df5['week_of_year'].apply(lambda x: np.cos(x*(2.*np.pi/52)))\n",
        "\n",
        "    cols_selected = ['store','promo','store_type','assortment','competition_distance','competition_open_since_month',\n",
        "                        'competition_open_since_year','promo2','promo2_since_week','promo2_since_year','competition_time_month',\n",
        "                        'promo_time_week','day_of_week_sin','day_of_week_cos','month_sin','month_cos','day_sin','day_cos',\n",
        "                        'week_of_year_sin','week_of_year_cos']\n",
        "    \n",
        "    return df5[cols_selected]\n",
        "\n",
        "def get_prediction (self, model, original_data, test_data):\n",
        "  #prediction\n",
        "  pred = model.predict(test_data)\n",
        "\n",
        "  #join pred into the original data\n",
        "  original_data['predicition'] = np.expm1(pred)\n",
        "\n",
        "  return original_data.to_json(orient='records', data_format='iso')\n"
      ],
      "execution_count": 80,
      "outputs": []
    },
    {
      "cell_type": "markdown",
      "metadata": {
        "id": "Gne5OfA3MPI0"
      },
      "source": [
        "## 10.2 API Handler"
      ]
    },
    {
      "cell_type": "code",
      "metadata": {
        "colab": {
          "base_uri": "https://localhost:8080/",
          "height": 368
        },
        "id": "4R1PVzWR2E87",
        "outputId": "ae0ee9d9-f57c-429e-a361-8a79667fe307"
      },
      "source": [
        "import pickle\n",
        "import pandas as pd\n",
        "from flask             import Flask, request, Response\n",
        "from rossmann.Rossmann import Rossmann\n",
        "\n",
        "#loading model\n",
        "model = pickle.load(open('C:/Users/Henrique/data_science_producao/model/model_rossmann.plk','rb'))\n",
        "\n",
        "#initialize API\n",
        "app = Flask(__name__)\n",
        "\n",
        "@app.route('/rossmann/predict', methods=['POST'])\n",
        "def rossmann_predict():\n",
        "  test_json = request.get_json()\n",
        "\n",
        "  if test_json: #there is data\n",
        "    if isinstance(test_json, dict): #unique example\n",
        "      test_raw = pd.DataFrame(test_json, index=[0])\n",
        "    \n",
        "    else: #multiple example\n",
        "      test_raw = pd.DataFrame(test_json, columns=test_json[0].keys())\n",
        "\n",
        "  #instantiate Rossmann Class\n",
        "  pipeline = Rossmann()\n",
        "\n",
        "  #data cleaning\n",
        "  df1 = pipeline.data_cleaning(test_raw)\n",
        "\n",
        "  #feature engineering\n",
        "  df2 = pipeline.feature_engineering(df1)\n",
        "\n",
        "  #data preparation\n",
        "  df3 = pipeline.data_preparation(df2)\n",
        "\n",
        "  #prediction\n",
        "  df_response = pipeline.get_prediction(model, test_raw, df3)\n",
        "\n",
        "  return df_response"
      ],
      "execution_count": 85,
      "outputs": [
        {
          "output_type": "error",
          "ename": "ModuleNotFoundError",
          "evalue": "ignored",
          "traceback": [
            "\u001b[0;31m---------------------------------------------------------------------------\u001b[0m",
            "\u001b[0;31mModuleNotFoundError\u001b[0m                       Traceback (most recent call last)",
            "\u001b[0;32m<ipython-input-85-28d97c7307c6>\u001b[0m in \u001b[0;36m<module>\u001b[0;34m()\u001b[0m\n\u001b[1;32m      2\u001b[0m \u001b[0;32mimport\u001b[0m \u001b[0mpandas\u001b[0m \u001b[0;32mas\u001b[0m \u001b[0mpd\u001b[0m\u001b[0;34m\u001b[0m\u001b[0;34m\u001b[0m\u001b[0m\n\u001b[1;32m      3\u001b[0m \u001b[0;32mfrom\u001b[0m \u001b[0mflask\u001b[0m             \u001b[0;32mimport\u001b[0m \u001b[0mFlask\u001b[0m\u001b[0;34m,\u001b[0m \u001b[0mrequest\u001b[0m\u001b[0;34m,\u001b[0m \u001b[0mResponse\u001b[0m\u001b[0;34m\u001b[0m\u001b[0;34m\u001b[0m\u001b[0m\n\u001b[0;32m----> 4\u001b[0;31m \u001b[0;32mfrom\u001b[0m \u001b[0mrossmann\u001b[0m\u001b[0;34m.\u001b[0m\u001b[0mRossmann\u001b[0m \u001b[0;32mimport\u001b[0m \u001b[0mRossmann\u001b[0m\u001b[0;34m\u001b[0m\u001b[0;34m\u001b[0m\u001b[0m\n\u001b[0m\u001b[1;32m      5\u001b[0m \u001b[0;34m\u001b[0m\u001b[0m\n\u001b[1;32m      6\u001b[0m \u001b[0;31m#loading model\u001b[0m\u001b[0;34m\u001b[0m\u001b[0;34m\u001b[0m\u001b[0;34m\u001b[0m\u001b[0m\n",
            "\u001b[0;31mModuleNotFoundError\u001b[0m: No module named 'rossmann.Rossmann'; 'rossmann' is not a package",
            "",
            "\u001b[0;31m---------------------------------------------------------------------------\u001b[0;32m\nNOTE: If your import is failing due to a missing package, you can\nmanually install dependencies using either !pip or !apt.\n\nTo view examples of installing some common dependencies, click the\n\"Open Examples\" button below.\n\u001b[0;31m---------------------------------------------------------------------------\u001b[0m\n"
          ]
        }
      ]
    },
    {
      "cell_type": "markdown",
      "metadata": {
        "id": "2EprbrNAMTQw"
      },
      "source": [
        "## 10.3 API Tester"
      ]
    },
    {
      "cell_type": "code",
      "metadata": {
        "id": "fui9k6ZK2hoP",
        "colab": {
          "base_uri": "https://localhost:8080/",
          "height": 392
        },
        "outputId": "433c1ba2-5281-4724-e48c-0a6848292e6b"
      },
      "source": [
        "#loading test dataset\n",
        "df10 = pd.read_csv('C:/Users/Henrique/data_science_producao/test.csv')"
      ],
      "execution_count": 86,
      "outputs": [
        {
          "output_type": "error",
          "ename": "FileNotFoundError",
          "evalue": "ignored",
          "traceback": [
            "\u001b[0;31m---------------------------------------------------------------------------\u001b[0m",
            "\u001b[0;31mFileNotFoundError\u001b[0m                         Traceback (most recent call last)",
            "\u001b[0;32m<ipython-input-86-50f207e00271>\u001b[0m in \u001b[0;36m<module>\u001b[0;34m()\u001b[0m\n\u001b[1;32m      1\u001b[0m \u001b[0;31m#loading test dataset\u001b[0m\u001b[0;34m\u001b[0m\u001b[0;34m\u001b[0m\u001b[0;34m\u001b[0m\u001b[0m\n\u001b[0;32m----> 2\u001b[0;31m \u001b[0mdf10\u001b[0m \u001b[0;34m=\u001b[0m \u001b[0mpd\u001b[0m\u001b[0;34m.\u001b[0m\u001b[0mread_csv\u001b[0m\u001b[0;34m(\u001b[0m\u001b[0;34m'C:/Users/Henrique/data_science_producao/test.csv'\u001b[0m\u001b[0;34m)\u001b[0m\u001b[0;34m\u001b[0m\u001b[0;34m\u001b[0m\u001b[0m\n\u001b[0m",
            "\u001b[0;32m/usr/local/lib/python3.7/dist-packages/pandas/io/parsers.py\u001b[0m in \u001b[0;36mread_csv\u001b[0;34m(filepath_or_buffer, sep, delimiter, header, names, index_col, usecols, squeeze, prefix, mangle_dupe_cols, dtype, engine, converters, true_values, false_values, skipinitialspace, skiprows, skipfooter, nrows, na_values, keep_default_na, na_filter, verbose, skip_blank_lines, parse_dates, infer_datetime_format, keep_date_col, date_parser, dayfirst, cache_dates, iterator, chunksize, compression, thousands, decimal, lineterminator, quotechar, quoting, doublequote, escapechar, comment, encoding, dialect, error_bad_lines, warn_bad_lines, delim_whitespace, low_memory, memory_map, float_precision)\u001b[0m\n\u001b[1;32m    686\u001b[0m     )\n\u001b[1;32m    687\u001b[0m \u001b[0;34m\u001b[0m\u001b[0m\n\u001b[0;32m--> 688\u001b[0;31m     \u001b[0;32mreturn\u001b[0m \u001b[0m_read\u001b[0m\u001b[0;34m(\u001b[0m\u001b[0mfilepath_or_buffer\u001b[0m\u001b[0;34m,\u001b[0m \u001b[0mkwds\u001b[0m\u001b[0;34m)\u001b[0m\u001b[0;34m\u001b[0m\u001b[0;34m\u001b[0m\u001b[0m\n\u001b[0m\u001b[1;32m    689\u001b[0m \u001b[0;34m\u001b[0m\u001b[0m\n\u001b[1;32m    690\u001b[0m \u001b[0;34m\u001b[0m\u001b[0m\n",
            "\u001b[0;32m/usr/local/lib/python3.7/dist-packages/pandas/io/parsers.py\u001b[0m in \u001b[0;36m_read\u001b[0;34m(filepath_or_buffer, kwds)\u001b[0m\n\u001b[1;32m    452\u001b[0m \u001b[0;34m\u001b[0m\u001b[0m\n\u001b[1;32m    453\u001b[0m     \u001b[0;31m# Create the parser.\u001b[0m\u001b[0;34m\u001b[0m\u001b[0;34m\u001b[0m\u001b[0;34m\u001b[0m\u001b[0m\n\u001b[0;32m--> 454\u001b[0;31m     \u001b[0mparser\u001b[0m \u001b[0;34m=\u001b[0m \u001b[0mTextFileReader\u001b[0m\u001b[0;34m(\u001b[0m\u001b[0mfp_or_buf\u001b[0m\u001b[0;34m,\u001b[0m \u001b[0;34m**\u001b[0m\u001b[0mkwds\u001b[0m\u001b[0;34m)\u001b[0m\u001b[0;34m\u001b[0m\u001b[0;34m\u001b[0m\u001b[0m\n\u001b[0m\u001b[1;32m    455\u001b[0m \u001b[0;34m\u001b[0m\u001b[0m\n\u001b[1;32m    456\u001b[0m     \u001b[0;32mif\u001b[0m \u001b[0mchunksize\u001b[0m \u001b[0;32mor\u001b[0m \u001b[0miterator\u001b[0m\u001b[0;34m:\u001b[0m\u001b[0;34m\u001b[0m\u001b[0;34m\u001b[0m\u001b[0m\n",
            "\u001b[0;32m/usr/local/lib/python3.7/dist-packages/pandas/io/parsers.py\u001b[0m in \u001b[0;36m__init__\u001b[0;34m(self, f, engine, **kwds)\u001b[0m\n\u001b[1;32m    946\u001b[0m             \u001b[0mself\u001b[0m\u001b[0;34m.\u001b[0m\u001b[0moptions\u001b[0m\u001b[0;34m[\u001b[0m\u001b[0;34m\"has_index_names\"\u001b[0m\u001b[0;34m]\u001b[0m \u001b[0;34m=\u001b[0m \u001b[0mkwds\u001b[0m\u001b[0;34m[\u001b[0m\u001b[0;34m\"has_index_names\"\u001b[0m\u001b[0;34m]\u001b[0m\u001b[0;34m\u001b[0m\u001b[0;34m\u001b[0m\u001b[0m\n\u001b[1;32m    947\u001b[0m \u001b[0;34m\u001b[0m\u001b[0m\n\u001b[0;32m--> 948\u001b[0;31m         \u001b[0mself\u001b[0m\u001b[0;34m.\u001b[0m\u001b[0m_make_engine\u001b[0m\u001b[0;34m(\u001b[0m\u001b[0mself\u001b[0m\u001b[0;34m.\u001b[0m\u001b[0mengine\u001b[0m\u001b[0;34m)\u001b[0m\u001b[0;34m\u001b[0m\u001b[0;34m\u001b[0m\u001b[0m\n\u001b[0m\u001b[1;32m    949\u001b[0m \u001b[0;34m\u001b[0m\u001b[0m\n\u001b[1;32m    950\u001b[0m     \u001b[0;32mdef\u001b[0m \u001b[0mclose\u001b[0m\u001b[0;34m(\u001b[0m\u001b[0mself\u001b[0m\u001b[0;34m)\u001b[0m\u001b[0;34m:\u001b[0m\u001b[0;34m\u001b[0m\u001b[0;34m\u001b[0m\u001b[0m\n",
            "\u001b[0;32m/usr/local/lib/python3.7/dist-packages/pandas/io/parsers.py\u001b[0m in \u001b[0;36m_make_engine\u001b[0;34m(self, engine)\u001b[0m\n\u001b[1;32m   1178\u001b[0m     \u001b[0;32mdef\u001b[0m \u001b[0m_make_engine\u001b[0m\u001b[0;34m(\u001b[0m\u001b[0mself\u001b[0m\u001b[0;34m,\u001b[0m \u001b[0mengine\u001b[0m\u001b[0;34m=\u001b[0m\u001b[0;34m\"c\"\u001b[0m\u001b[0;34m)\u001b[0m\u001b[0;34m:\u001b[0m\u001b[0;34m\u001b[0m\u001b[0;34m\u001b[0m\u001b[0m\n\u001b[1;32m   1179\u001b[0m         \u001b[0;32mif\u001b[0m \u001b[0mengine\u001b[0m \u001b[0;34m==\u001b[0m \u001b[0;34m\"c\"\u001b[0m\u001b[0;34m:\u001b[0m\u001b[0;34m\u001b[0m\u001b[0;34m\u001b[0m\u001b[0m\n\u001b[0;32m-> 1180\u001b[0;31m             \u001b[0mself\u001b[0m\u001b[0;34m.\u001b[0m\u001b[0m_engine\u001b[0m \u001b[0;34m=\u001b[0m \u001b[0mCParserWrapper\u001b[0m\u001b[0;34m(\u001b[0m\u001b[0mself\u001b[0m\u001b[0;34m.\u001b[0m\u001b[0mf\u001b[0m\u001b[0;34m,\u001b[0m \u001b[0;34m**\u001b[0m\u001b[0mself\u001b[0m\u001b[0;34m.\u001b[0m\u001b[0moptions\u001b[0m\u001b[0;34m)\u001b[0m\u001b[0;34m\u001b[0m\u001b[0;34m\u001b[0m\u001b[0m\n\u001b[0m\u001b[1;32m   1181\u001b[0m         \u001b[0;32melse\u001b[0m\u001b[0;34m:\u001b[0m\u001b[0;34m\u001b[0m\u001b[0;34m\u001b[0m\u001b[0m\n\u001b[1;32m   1182\u001b[0m             \u001b[0;32mif\u001b[0m \u001b[0mengine\u001b[0m \u001b[0;34m==\u001b[0m \u001b[0;34m\"python\"\u001b[0m\u001b[0;34m:\u001b[0m\u001b[0;34m\u001b[0m\u001b[0;34m\u001b[0m\u001b[0m\n",
            "\u001b[0;32m/usr/local/lib/python3.7/dist-packages/pandas/io/parsers.py\u001b[0m in \u001b[0;36m__init__\u001b[0;34m(self, src, **kwds)\u001b[0m\n\u001b[1;32m   2008\u001b[0m         \u001b[0mkwds\u001b[0m\u001b[0;34m[\u001b[0m\u001b[0;34m\"usecols\"\u001b[0m\u001b[0;34m]\u001b[0m \u001b[0;34m=\u001b[0m \u001b[0mself\u001b[0m\u001b[0;34m.\u001b[0m\u001b[0musecols\u001b[0m\u001b[0;34m\u001b[0m\u001b[0;34m\u001b[0m\u001b[0m\n\u001b[1;32m   2009\u001b[0m \u001b[0;34m\u001b[0m\u001b[0m\n\u001b[0;32m-> 2010\u001b[0;31m         \u001b[0mself\u001b[0m\u001b[0;34m.\u001b[0m\u001b[0m_reader\u001b[0m \u001b[0;34m=\u001b[0m \u001b[0mparsers\u001b[0m\u001b[0;34m.\u001b[0m\u001b[0mTextReader\u001b[0m\u001b[0;34m(\u001b[0m\u001b[0msrc\u001b[0m\u001b[0;34m,\u001b[0m \u001b[0;34m**\u001b[0m\u001b[0mkwds\u001b[0m\u001b[0;34m)\u001b[0m\u001b[0;34m\u001b[0m\u001b[0;34m\u001b[0m\u001b[0m\n\u001b[0m\u001b[1;32m   2011\u001b[0m         \u001b[0mself\u001b[0m\u001b[0;34m.\u001b[0m\u001b[0munnamed_cols\u001b[0m \u001b[0;34m=\u001b[0m \u001b[0mself\u001b[0m\u001b[0;34m.\u001b[0m\u001b[0m_reader\u001b[0m\u001b[0;34m.\u001b[0m\u001b[0munnamed_cols\u001b[0m\u001b[0;34m\u001b[0m\u001b[0;34m\u001b[0m\u001b[0m\n\u001b[1;32m   2012\u001b[0m \u001b[0;34m\u001b[0m\u001b[0m\n",
            "\u001b[0;32mpandas/_libs/parsers.pyx\u001b[0m in \u001b[0;36mpandas._libs.parsers.TextReader.__cinit__\u001b[0;34m()\u001b[0m\n",
            "\u001b[0;32mpandas/_libs/parsers.pyx\u001b[0m in \u001b[0;36mpandas._libs.parsers.TextReader._setup_parser_source\u001b[0;34m()\u001b[0m\n",
            "\u001b[0;31mFileNotFoundError\u001b[0m: [Errno 2] No such file or directory: 'C:/Users/Henrique/data_science_producao/test.csv'"
          ]
        }
      ]
    },
    {
      "cell_type": "code",
      "metadata": {
        "colab": {
          "base_uri": "https://localhost:8080/",
          "height": 232
        },
        "id": "fvrEgDiZEbNv",
        "outputId": "f4d4b5f2-cf0b-42e6-f436-a719f8f4ab8b"
      },
      "source": [
        "#merge test dataset + store\n",
        "df_test = pd.merge(df10, df_store_raw, how='left', on='Store')\n",
        "\n",
        "#choose store for prediction\n",
        "df_test = df_test[df_test['Store'] == 22]\n",
        "\n",
        "#remove closed days\n",
        "df_test = df_test[df_test['Open'] != 0]\n",
        "df_test = df_test[~df_test['Open'].isnull()]\n",
        "df_test = df_test.drop('Id', axis=1)"
      ],
      "execution_count": 87,
      "outputs": [
        {
          "output_type": "error",
          "ename": "NameError",
          "evalue": "ignored",
          "traceback": [
            "\u001b[0;31m---------------------------------------------------------------------------\u001b[0m",
            "\u001b[0;31mNameError\u001b[0m                                 Traceback (most recent call last)",
            "\u001b[0;32m<ipython-input-87-8d0d43a9e3fe>\u001b[0m in \u001b[0;36m<module>\u001b[0;34m()\u001b[0m\n\u001b[1;32m      1\u001b[0m \u001b[0;31m#merge test dataset + store\u001b[0m\u001b[0;34m\u001b[0m\u001b[0;34m\u001b[0m\u001b[0;34m\u001b[0m\u001b[0m\n\u001b[0;32m----> 2\u001b[0;31m \u001b[0mdf_test\u001b[0m \u001b[0;34m=\u001b[0m \u001b[0mpd\u001b[0m\u001b[0;34m.\u001b[0m\u001b[0mmerge\u001b[0m\u001b[0;34m(\u001b[0m\u001b[0mdf10\u001b[0m\u001b[0;34m,\u001b[0m \u001b[0mdf_store_raw\u001b[0m\u001b[0;34m,\u001b[0m \u001b[0mhow\u001b[0m\u001b[0;34m=\u001b[0m\u001b[0;34m'left'\u001b[0m\u001b[0;34m,\u001b[0m \u001b[0mon\u001b[0m\u001b[0;34m=\u001b[0m\u001b[0;34m'Store'\u001b[0m\u001b[0;34m)\u001b[0m\u001b[0;34m\u001b[0m\u001b[0;34m\u001b[0m\u001b[0m\n\u001b[0m\u001b[1;32m      3\u001b[0m \u001b[0;34m\u001b[0m\u001b[0m\n\u001b[1;32m      4\u001b[0m \u001b[0;31m#choose store for prediction\u001b[0m\u001b[0;34m\u001b[0m\u001b[0;34m\u001b[0m\u001b[0;34m\u001b[0m\u001b[0m\n\u001b[1;32m      5\u001b[0m \u001b[0mdf_test\u001b[0m \u001b[0;34m=\u001b[0m \u001b[0mdf_test\u001b[0m\u001b[0;34m[\u001b[0m\u001b[0mdf_test\u001b[0m\u001b[0;34m[\u001b[0m\u001b[0;34m'Store'\u001b[0m\u001b[0;34m]\u001b[0m \u001b[0;34m==\u001b[0m \u001b[0;36m22\u001b[0m\u001b[0;34m]\u001b[0m\u001b[0;34m\u001b[0m\u001b[0;34m\u001b[0m\u001b[0m\n",
            "\u001b[0;31mNameError\u001b[0m: name 'df10' is not defined"
          ]
        }
      ]
    }
  ]
}